{
  "nbformat": 4,
  "nbformat_minor": 0,
  "metadata": {
    "colab": {
      "name": "Python_10_Homeworks.ipynb",
      "provenance": [],
      "collapsed_sections": [],
      "include_colab_link": true
    },
    "kernelspec": {
      "display_name": "Python 3",
      "language": "python",
      "name": "python3"
    },
    "language_info": {
      "codemirror_mode": {
        "name": "ipython",
        "version": 3
      },
      "file_extension": ".py",
      "mimetype": "text/x-python",
      "name": "python",
      "nbconvert_exporter": "python",
      "pygments_lexer": "ipython3",
      "version": "3.7.3"
    }
  },
  "cells": [
    {
      "cell_type": "markdown",
      "metadata": {
        "id": "view-in-github",
        "colab_type": "text"
      },
      "source": [
        "<a href=\"https://colab.research.google.com/github/ThangDoan2001/API-Python-Learn/blob/master/Python_10_Homeworks.ipynb\" target=\"_parent\"><img src=\"https://colab.research.google.com/assets/colab-badge.svg\" alt=\"Open In Colab\"/></a>"
      ]
    },
    {
      "cell_type": "markdown",
      "metadata": {
        "id": "98B0w1ljQGSm"
      },
      "source": [
        "## HW1 (optional)"
      ]
    },
    {
      "cell_type": "markdown",
      "metadata": {
        "id": "n5v6JUv6gLo5"
      },
      "source": [
        "Tìm hiểu về package json trong python và giải các yêu cầu sau.\n",
        "\n",
        "Bài toán này cung cấp một class gồm có 1 function **_get_json_response** để search tên 1 cuốn sách trên google và trả về 5 kết quả đầu tiên theo kiểu **json**. Bạn hãy thực hiện 3 function còn lại để: \n",
        "\n",
        "1/ Hoàn thiện function **export_json_result** để có thể xuất ra được file json kết quả sau khi search. \n",
        "\n",
        "- Input: query=tên sách, json_path=đường dẫn lưu file json kết quả. \n",
        "\n",
        "- Ouput: file json kết quả tìm kiếm cuốn sách được lưu theo đường dẫn.\n",
        "\n",
        "**Lưu ý:** khi write file json dùng json.dump() với parameter indent = 4 để dễ nhìn nếu kết quả khó nhìn có thể sử dụng https://codebeautify.org/jsonviewer để dễ nhìn kết quả.\n",
        "\n",
        "Tham khảo file  **TTGBCT_1.json** và  **aaa_1.json** \n",
        "\n",
        "----------------------\n",
        "\n",
        "2/ Quan sát file json đã được save, để viết function **json_parser**  lấy các thông tin như sau:\n",
        "\n",
        "- totalItems: số lượng search được từ query\n",
        "- Trong một list các sách trả về, chỉ cần lấy 3 cuốn sách đầu tiên gồm các thông tin sau (GÍA TRỊ NÀO KHÔNG KIẾM ĐƯỢC THÌ TRẢ VỀ STRING 'Unknow'):\n",
        "    + title\n",
        "    + authors\n",
        "    + publisher\n",
        "    + publishedDate\n",
        "    + description\n",
        "    + buyLink\n",
        "    + textToSpeechPermission\n",
        "    + saleability\n",
        "\n",
        "- Thêm 1 cặp key-value, với key là \"query\" và value là tên cuốn sách bàn tìm kiếm vào dictionary output \n",
        "\n",
        "- Input là đường dẫn fie json được ghi xuống từ function của câu 1 ở trên \n",
        "- Ouput: là dictionary với các thông tin muốn lấy \n",
        "\n",
        "Tham khảo file **TTGBCT_2.json** và  **aaa_2.json** \n",
        "\n",
        "-----------------------\n",
        "\n",
        "\n",
        "3/ Dùng kết quả từ **json_parser** tạo thành 1 file xml tương ứng.\n",
        "    \n",
        "- Nếu kết quả trả về có key 'booksInfo' là list rỗng (trường hợp không tìm thấy tên sách) thì không cần tạo element này \n",
        "\n",
        "- Input **json_path** là đường dẫn fie json được ghi xuống từ function của câu 1 ở trên, và **xml_path** là đường dẫn ghi file xml \n",
        "\n",
        "- Output: là file xml có format như **TTGBCT_3.xml** và  **aaa_3.xml** \n",
        "\n",
        "**Lưu ý:** đối với 'booksInfo' là list chứa thông tin từng cuốn sách lấy được, thì mỗi element sẽ tạo ra element \\<book> \\</book> trong xml với attribute id= 0, 1, 2 theo thứ tự trong list của dicitonary. Nếu 'booksInfo' là list rỗng thì bỏ qua không cần làm gì hết.  \n",
        "\n",
        "**Lưu ý:** authors là list nên trong xml sẽ join lại tên các tác giả và cách nhau bằng dấu ','\n",
        "\n",
        "**LƯU Ý: FILE CÓ TÊN \"TTGBCT\" LÀ CÁC FILE CÓ TÊN BOOK TÌM THÀNH CÔNG, CÒN \"aaa\" LÀ CÁC FILE CÓ TÊN BOOK KHÔNG TÌM ĐƯỢC**\n",
        "\n",
        "**CÓ THỂ TÙY Ý CHỈNH SỬA CODE ĐƯỢC ĐƯA TRƯỚC, CHỈ CẦN RA KẾT QUẢ NHƯ YÊU CẦU ĐỀ BÀI**"
      ]
    },
    {
      "cell_type": "code",
      "metadata": {
        "colab": {
          "base_uri": "https://localhost:8080/"
        },
        "id": "3VT6__4NZgOW",
        "outputId": "c3fec775-01c5-4d56-8d15-8b0127247a54"
      },
      "source": [
        "from google.colab import drive\n",
        "drive.mount('/content/drive')"
      ],
      "execution_count": 26,
      "outputs": [
        {
          "output_type": "stream",
          "text": [
            "Mounted at /content/drive\n"
          ],
          "name": "stdout"
        }
      ]
    },
    {
      "cell_type": "markdown",
      "metadata": {
        "id": "5fxsPwLDPmih"
      },
      "source": [
        "Ví Dụ: các file TTGBCT tìm cuốn sách  'Tôi tài giỏi bạn cũng thế'\n",
        "```python\n",
        "search_books = SearchingGoogleBook()\n",
        "search_books.export_json_result('Tôi tài giỏi bạn cũng thế', 'TTGBCT.json') # xem kết quả file TTGBCT_1.json \n",
        "search_books.json_parser('TTGBCT.json') # xem kết quả file TTGBCT_2.json\n",
        "search_books.export_xml_final_result('TTGBCT.json', 'TTGBCT.xml') # xem kết quả file TTGBCT_3.xml\n",
        "```"
      ]
    },
    {
      "cell_type": "markdown",
      "metadata": {
        "id": "_mixlJd2PvJs"
      },
      "source": [
        "Ví Dụ: các file aaa tìm cuốn sách không tồn tại \n",
        "```python\n",
        "search_books = SearchingGoogleBook()\n",
        "search_books.export_json_result('aaaaaaaaaaassssssssssssssssssssssssseeeeeeeeeeeeeeeeeeee', 'aaa.json') # xem kết quả file aaa_1.json\n",
        "search_books.json_parser('aaa.json') # xem kết quả file aaa_2.json\n",
        "search_books.export_xml_final_result('aaa.json', 'aaa.xml') # xem kết quả file aaa_3.xml\n",
        "```"
      ]
    },
    {
      "cell_type": "markdown",
      "metadata": {
        "id": "PnGel8qaH0uD"
      },
      "source": [
        "```python\n",
        "class SearchingGoogleBook:\n",
        "    def __init__(self, maxRes=5):\n",
        "        self.endpoint = \"https://www.googleapis.com/books/v1/volumes\"\n",
        "        self.maxRes = maxRes\n",
        "        self.query = ''\n",
        "        # Các bạn có thể tùy ý khai báo thêm \n",
        "\n",
        "    def _get_json_response(self):\n",
        "        if self.query:\n",
        "            params = {\"q\": self.query, \"maxResults\": self.maxRes}\n",
        "            response = requests.get(self.endpoint, params=params)\n",
        "            return response.json()\n",
        "        else:\n",
        "            raise Exception(\"query is empty\")\n",
        "\n",
        "    def export_json_result(self, query, json_path='./book.json'):\n",
        "        self.query = query\n",
        "        response = self._get_json_response()\n",
        "        # Hàm 1\n",
        "    \n",
        "    def json_parser(self, json_path=\"\"):\n",
        "        # Sử dụng giá trị UNKNOW_VAL khi không kiếm được thông tin cần tìm. \n",
        "        # Ví dụ không kiếm được \"authors\" thi cho value = UNKNOW_VAL\n",
        "        UNKNOW_VAL = 'Unknow'\n",
        "        # Các bạn có thể sử dụng dictionary mẫu này là dict trả về.\n",
        "        # \"booksInfo\" là list và mỗi element là các thông tin các cuốn sách kiếm được \n",
        "        # (ở đây chỉ yêu cầu tối đa là 3 cuốn sách)\n",
        "        dict_res = {\n",
        "            'query': self.query,\n",
        "            'totalItems': 0,\n",
        "            'booksInfo': []\n",
        "        }\n",
        "        # Hàm 2\n",
        "\n",
        "    \n",
        "    def export_xml_final_result(self, json_path=\"\", xml_path=\"\"):\n",
        "        # Hàm 3\n",
        "        \n",
        "```"
      ]
    },
    {
      "cell_type": "markdown",
      "metadata": {
        "id": "T4IRVfUqLbYT"
      },
      "source": [
        "----------------------------------------"
      ]
    },
    {
      "cell_type": "code",
      "metadata": {
        "id": "r1RSU5KeY2fn"
      },
      "source": [
        "import requests \n",
        "import json\n",
        "import xml.etree.ElementTree as ET\n",
        "\n",
        "class SearchingGoogleBook:\n",
        "  def __init__(self, maxRes=5):\n",
        "    self.endpoint = \"https://www.googleapis.com/books/v1/volumes\"\n",
        "    self.maxRes = maxRes\n",
        "    self.query = \"\"\n",
        "    # make an info dict (a book info) after observate json réponse\n",
        "    self.info_dict = {\n",
        "        'volumnInfo': ['title', 'authors', 'publishser', 'publishedDate', 'description'],\n",
        "        'saleInfo': ['buyLink'],\n",
        "        'accessInfo': ['textToSpeechPermission', 'pdf']\n",
        "    }\n",
        "  \n",
        "  def _get_json_response(self):\n",
        "    if self.query:\n",
        "      params = {\"q\": self.query, \"maxResults\": self.maxRes}\n",
        "      response = requests.get(self.endpoint, params=params)\n",
        "      return response.json()\n",
        "    else:\n",
        "      raise Exception('Query is empty')\n",
        "    \n",
        "  def export_json_result(self, query, json_path='./book.json'):\n",
        "    self.query = query\n",
        "    response = self._get_json_response()\n",
        "    with open(json_path, 'w', encoding='utf8') as file:\n",
        "      json.dump(response, file, indent = 4, ensure_ascii=False) \n",
        "\n",
        "  def json_parser(self, json_path=\"\"):\n",
        "    UNKNOW_VAL = 'Unknow'\n",
        "    dict_res = {\n",
        "            'query': self.query,\n",
        "            'totalItems': 0,\n",
        "            'booksInfo': []\n",
        "    }\n",
        "    \n",
        "    if json_path:\n",
        "      with open(json_path, 'r', encoding='utf-8') as rf:\n",
        "        content = json.load(rf)\n",
        "      \n",
        "      dict_res['totalItems'] = content.get('totalItems', UNKNOW_VAL)\n",
        "\n",
        "      if content.get('items') is not None:\n",
        "        for book_id, book in enumerate(content['items']):\n",
        "          if book_id > 3: \n",
        "            break\n",
        "          book_dict = {}\n",
        "          for ik, iv in self.info_dict.items():\n",
        "            for k in iv:\n",
        "              if book.get(ik, False):\n",
        "                if k == 'pdf':\n",
        "                  if book[ik].get(k, False):\n",
        "                    book_dict[k] = book[ik][k].get('isAvailable', UNKNOW_VAL)\n",
        "                  else:\n",
        "                    book_dict[k] = UNKNOW_VAL\n",
        "                else:\n",
        "                  book_dict[k] = book[ik].get(k, UNKNOW_VAL)\n",
        "              else:\n",
        "                book_dict[k] = UNKNOW_VAL\n",
        "          dict_res['booksInfo'].append(book_dict)\n",
        "    else:\n",
        "      raise Exception(\"json_path is Empty\")\n",
        "    print(dict_res)\n",
        "    with open(json_path, 'w', encoding='utf-8') as wf:\n",
        "      json.dump(dict_res, wf, ensure_ascii=False, indent=4)\n",
        "    return dict_res\n",
        "\n",
        "  \n",
        "  def export_xml_final_result(self, json_path=\"\", xml_path=\"\"):\n",
        "    if json_path and xml_path:\n",
        "      dict_res = self.json_parser(json_path)\n",
        "      root = ET.Element('books')\n",
        "      print(dict_res)\n",
        "      # Create element query in xml file\n",
        "      query = ET.SubElement(root, 'query')\n",
        "      query.text = dict_res['query']\n",
        "\n",
        "      # Create element totalItems in xml file\n",
        "      totalItems = ET.SubElement(root, 'totalItems')\n",
        "      # must convert int to String\n",
        "      totalItems.text = str(dict_res['totalItems'])\n",
        "\n",
        "      # Create element booksInfo in xml file\n",
        "      booksInfo = ET.SubElement(root, 'booksInfo')\n",
        "\n",
        "      for book_id, book in enumerate(dict_res['booksInfo']):\n",
        "        # subElement of root, with tage name ('book') and attribute id\n",
        "        bookElement = ET.SubElement(booksInfo, 'book', {id: str(book_id)})\n",
        "        for el, val in book.items():\n",
        "          # authors is list -> we need to join\n",
        "          if el == 'authors':\n",
        "            val = ', '.join(val)\n",
        "          temp_ele = ET.SubElement(bookElement, str(el))\n",
        "          temp_ele.text = str(val)\n",
        "      tree = ET.ElementTree(root)\n",
        "      tree.write(xml_path, encoding='UTF-8')\n",
        "    else:\n",
        "      raise Exception(\"json_path or xml_path or both are empty\")\n",
        "\n",
        "\n",
        "\n",
        "\n",
        "\n",
        "\n",
        "      \n",
        "\n"
      ],
      "execution_count": 6,
      "outputs": []
    },
    {
      "cell_type": "code",
      "metadata": {
        "id": "yY4a3F9Vb7iE"
      },
      "source": [
        "search_books = SearchingGoogleBook()\n",
        "search_books.export_json_result(\"Tôi tài giỏi bạn cũng thế\", \"TTGBCT.json\")\n"
      ],
      "execution_count": 9,
      "outputs": []
    },
    {
      "cell_type": "markdown",
      "metadata": {
        "id": "ywTAypjqMmj8"
      },
      "source": [
        "## HW2"
      ]
    },
    {
      "cell_type": "markdown",
      "metadata": {
        "id": "iQeyntrSMn7t"
      },
      "source": [
        "Xóa những từ không mong muốn trong một chuỗi **s**\n",
        "\n",
        "1/ Chỉ sử dụng method replace của string \n",
        "\n",
        "2/ Chỉ sử dụng method translate của string\n",
        "\n",
        "3/ Dùng regex\n",
        "\n",
        "- Input: **s** = \"Pyth*^on% Ex?ercis^es#\"\n",
        "\n",
        "- Output: 'Python Exercises'"
      ]
    },
    {
      "cell_type": "markdown",
      "metadata": {
        "id": "hnLEB-Vx9sYE"
      },
      "source": [
        "-------------------------------"
      ]
    },
    {
      "cell_type": "code",
      "metadata": {
        "id": "APLc6q5WOLTE"
      },
      "source": [
        "mystr = 'Pyth*^on% Ex?ercis^es#'\n",
        "unwanted_chars = [\"#\", \"*\", \"^\", \"%\", \"?\"]"
      ],
      "execution_count": 12,
      "outputs": []
    },
    {
      "cell_type": "code",
      "metadata": {
        "colab": {
          "base_uri": "https://localhost:8080/",
          "height": 35
        },
        "id": "cDXdh9QHQLUQ",
        "outputId": "e8f250d7-34c7-414a-ddc8-29907b0579f1"
      },
      "source": [
        "def remove_chars(str1, unwanted_chars):\n",
        "  for i in unwanted_chars:\n",
        "    str1 = str1.replace(i, '')\n",
        "  return str1\n",
        "remove_chars(mystr, unwanted_chars)"
      ],
      "execution_count": 13,
      "outputs": [
        {
          "output_type": "execute_result",
          "data": {
            "application/vnd.google.colaboratory.intrinsic+json": {
              "type": "string"
            },
            "text/plain": [
              "'Python Exercises'"
            ]
          },
          "metadata": {
            "tags": []
          },
          "execution_count": 13
        }
      ]
    },
    {
      "cell_type": "code",
      "metadata": {
        "colab": {
          "base_uri": "https://localhost:8080/",
          "height": 35
        },
        "id": "RPAyKfwlQ0bw",
        "outputId": "1521d745-546a-4bf4-9ba2-efdefa8051d9"
      },
      "source": [
        "char_dict = {\n",
        "    ord('#') : '',\n",
        "    ord('*') : '',\n",
        "    ord('^') : '',\n",
        "    ord('%') : '',\n",
        "    ord('?') : '',\n",
        "}\n",
        "mystr.translate(char_dict)"
      ],
      "execution_count": 16,
      "outputs": [
        {
          "output_type": "execute_result",
          "data": {
            "application/vnd.google.colaboratory.intrinsic+json": {
              "type": "string"
            },
            "text/plain": [
              "'Python Exercises'"
            ]
          },
          "metadata": {
            "tags": []
          },
          "execution_count": 16
        }
      ]
    },
    {
      "cell_type": "code",
      "metadata": {
        "colab": {
          "base_uri": "https://localhost:8080/"
        },
        "id": "Drh0hYBpRFcX",
        "outputId": "30ce03cd-29cd-46f9-b4d8-4cd90766c052"
      },
      "source": [
        "import re\n",
        "#pattern = '[^\\w ]'\n",
        "pattern = '[*^%?#&]'\n",
        "result = re.sub(pattern, '', mystr)\n",
        "print(result)"
      ],
      "execution_count": 25,
      "outputs": [
        {
          "output_type": "stream",
          "text": [
            "Python Exercises\n"
          ],
          "name": "stdout"
        }
      ]
    },
    {
      "cell_type": "markdown",
      "metadata": {
        "id": "V5FPnguiZLGT"
      },
      "source": [
        "## Regex rất quan trọng dùng để xử lí text"
      ]
    },
    {
      "cell_type": "markdown",
      "metadata": {
        "id": "sk_XevrVOe56"
      },
      "source": [
        "## HW3"
      ]
    },
    {
      "cell_type": "markdown",
      "metadata": {
        "id": "nlYFQS26R8xH"
      },
      "source": [
        "Đọc file **HW3.txt**, xử lý đoạn văn và tạo ra output là một json gồm key là từ trong đoạn văn và value là số lần xuất hiện của từ đó.  \n",
        "\n",
        "Các bước xử lý đoạn văn: \n",
        "- Biến đổi thành chữ thường không viết hoa \n",
        "- Xóa hết các ký tự đặc biệt chỉ giữ lại phần chữ (bao gồm cả dấu ',', '.', '\\n', ...)\n",
        "\n",
        "Tham khảo file **HW3_cleaned.txt** là kết quả sau khi qua bước xử lý đoạn văn\n",
        "\n",
        "VD: Output \n",
        "\n",
        "```json\n",
        "{'bao': 2,\n",
        " 'bay': 3,\n",
        " 'biết': 2,\n",
        " 'bung': 1,\n",
        " 'buốt': 1,\n",
        " 'bên': 1,\n",
        " 'bóng': 1,\n",
        " 'bốn': 1,\n",
        " 'bờ': 1,\n",
        " 'bức': 1,\n",
        " 'chiều': 2,\n",
        " ...\n",
        "}\n",
        "```"
      ]
    },
    {
      "cell_type": "code",
      "metadata": {
        "id": "owR_4c4XS1Xb"
      },
      "source": [
        "import re \n",
        "import os\n",
        "from collections import Counter\n",
        "\n",
        "class MakeBoW_from_file:\n",
        "  def __init__(self):\n",
        "    self.pattern = \"[^\\w ]\"\n",
        "\n",
        "  def load_doc(self, file_path):\n",
        "    text = ''\n",
        "    if os.path.exists(file_path):\n",
        "      with open(file_path, 'r', encoding='utf-8') as rf:\n",
        "        text = rf.read()\n",
        "      return text\n",
        "    else:\n",
        "      raise Exception('File does not exist')\n",
        "  \n",
        "  def clean_doc(self, text):\n",
        "    cleaned_doc = re.sub(self.pattern, '', text.lower())\n",
        "    tokens = cleaned_doc.split()\n",
        "    return tokens\n",
        "\n",
        "  def make_voc(self, tokens):\n",
        "    unique_words = set(tokens)\n",
        "    count_words = list(map(lambda w: tokens.count(w), unique_words))\n",
        "    return dict(zip(unique_words, count_words))\n"
      ],
      "execution_count": 37,
      "outputs": []
    },
    {
      "cell_type": "code",
      "metadata": {
        "colab": {
          "base_uri": "https://localhost:8080/"
        },
        "id": "vJrrs_olVjSd",
        "outputId": "481243a3-6b5d-40b0-84b9-b45adbd0ad11"
      },
      "source": [
        "mbow = MakeBoW_from_file()\n",
        "text = mbow.load_doc(r'/content/drive/MyDrive/Colab Notebooks/HW3.txt')\n",
        "text = mbow.clean_doc(text)\n",
        "dict_mbow = mbow.make_voc(text)\n",
        "dict_mbow"
      ],
      "execution_count": 38,
      "outputs": [
        {
          "output_type": "execute_result",
          "data": {
            "text/plain": [
              "{'bao': 2,\n",
              " 'bay': 3,\n",
              " 'biết': 2,\n",
              " 'bung': 1,\n",
              " 'buốt': 1,\n",
              " 'bên': 1,\n",
              " 'bóng': 1,\n",
              " 'bốn': 1,\n",
              " 'bờ': 1,\n",
              " 'bức': 1,\n",
              " 'chiều': 2,\n",
              " 'cho': 1,\n",
              " 'chuyện': 1,\n",
              " 'chảy': 1,\n",
              " 'chẳng': 1,\n",
              " 'chỉ': 2,\n",
              " 'chồi': 1,\n",
              " 'co': 1,\n",
              " 'con': 4,\n",
              " 'cái': 1,\n",
              " 'cánh': 1,\n",
              " 'câu': 1,\n",
              " 'cây': 4,\n",
              " 'cò': 1,\n",
              " 'còn': 3,\n",
              " 'có': 1,\n",
              " 'cơn': 3,\n",
              " 'cười': 1,\n",
              " 'cảnh': 1,\n",
              " 'cỏ': 1,\n",
              " 'cố': 1,\n",
              " 'cối': 1,\n",
              " 'của': 6,\n",
              " 'dài': 2,\n",
              " 'dòng': 1,\n",
              " 'dấu': 1,\n",
              " 'em': 5,\n",
              " 'gian': 2,\n",
              " 'già': 2,\n",
              " 'gió': 4,\n",
              " 'gò': 1,\n",
              " 'gũi': 1,\n",
              " 'gần': 1,\n",
              " 'gầy': 1,\n",
              " 'gắng': 1,\n",
              " 'gọi': 1,\n",
              " 'gợi': 1,\n",
              " 'hai': 2,\n",
              " 'hoa': 1,\n",
              " 'hoài': 1,\n",
              " 'hè': 2,\n",
              " 'hương': 7,\n",
              " 'hạ': 2,\n",
              " 'hồng': 1,\n",
              " 'khi': 2,\n",
              " 'khoảng': 1,\n",
              " 'khung': 1,\n",
              " 'không': 3,\n",
              " 'khắp': 2,\n",
              " 'kêu': 1,\n",
              " 'la': 1,\n",
              " 'là': 3,\n",
              " 'làm': 4,\n",
              " 'làng': 3,\n",
              " 'lá': 2,\n",
              " 'lên': 3,\n",
              " 'lúa': 2,\n",
              " 'lũy': 1,\n",
              " 'lại': 2,\n",
              " 'lạnh': 1,\n",
              " 'lả': 1,\n",
              " 'lặng': 1,\n",
              " 'mang': 1,\n",
              " 'mà': 2,\n",
              " 'màu': 3,\n",
              " 'mát': 1,\n",
              " 'mình': 3,\n",
              " 'mùa': 1,\n",
              " 'mùi': 1,\n",
              " 'mảnh': 1,\n",
              " 'mấy': 1,\n",
              " 'mộng': 1,\n",
              " 'một': 3,\n",
              " 'mới': 4,\n",
              " 'mở': 1,\n",
              " 'mỡ': 1,\n",
              " 'ngày': 1,\n",
              " 'người': 3,\n",
              " 'ngập': 1,\n",
              " 'như': 5,\n",
              " 'nhưng': 1,\n",
              " 'nhất': 2,\n",
              " 'nhận': 1,\n",
              " 'nhỏ': 1,\n",
              " 'những': 13,\n",
              " 'nhựa': 1,\n",
              " 'niệm': 1,\n",
              " 'non': 1,\n",
              " 'nuôi': 1,\n",
              " 'nào': 2,\n",
              " 'nóng': 1,\n",
              " 'nơi': 3,\n",
              " 'nắng': 1,\n",
              " 'nội': 1,\n",
              " 'nở': 1,\n",
              " 'phù': 1,\n",
              " 'phú': 1,\n",
              " 'phần': 2,\n",
              " 'quanh': 1,\n",
              " 'quen': 1,\n",
              " 'quyện': 1,\n",
              " 'quê': 9,\n",
              " 'quên': 1,\n",
              " 'ra': 1,\n",
              " 'ran': 1,\n",
              " 'riêng': 1,\n",
              " 'rung': 1,\n",
              " 'rào': 1,\n",
              " 'râm': 1,\n",
              " 'rì': 1,\n",
              " 'rít': 1,\n",
              " 'rôm': 1,\n",
              " 'rả': 1,\n",
              " 'rất': 1,\n",
              " 'rồi': 1,\n",
              " 'rỡ': 2,\n",
              " 'rực': 2,\n",
              " 'sa': 1,\n",
              " 'sang': 2,\n",
              " 'sao': 1,\n",
              " 'sáng': 1,\n",
              " 'sông': 1,\n",
              " 'sắc': 1,\n",
              " 'sống': 2,\n",
              " 'sức': 1,\n",
              " 'thay': 1,\n",
              " 'theo': 1,\n",
              " 'thiêu': 1,\n",
              " 'thu': 2,\n",
              " 'thân': 2,\n",
              " 'thêm': 2,\n",
              " 'thơ': 1,\n",
              " 'thương': 1,\n",
              " 'thầm': 1,\n",
              " 'thật': 1,\n",
              " 'thể': 1,\n",
              " 'tiếng': 4,\n",
              " 'tranh': 1,\n",
              " 'tre': 1,\n",
              " 'trong': 2,\n",
              " 'trung': 1,\n",
              " 'tràn': 2,\n",
              " 'trên': 2,\n",
              " 'trò': 1,\n",
              " 'trù': 1,\n",
              " 'trải': 2,\n",
              " 'trẻ': 2,\n",
              " 'trề': 1,\n",
              " 'trời': 2,\n",
              " 'tuyệt': 1,\n",
              " 'tít': 1,\n",
              " 'tươi': 3,\n",
              " 'tận': 1,\n",
              " 'tập': 1,\n",
              " 'tắp': 1,\n",
              " 'vang': 1,\n",
              " 've': 1,\n",
              " 'ven': 1,\n",
              " 'và': 4,\n",
              " 'vàng': 2,\n",
              " 'vào': 1,\n",
              " 'vòm': 1,\n",
              " 'vô': 1,\n",
              " 'vùng': 3,\n",
              " 'vẫn': 1,\n",
              " 'vậy': 1,\n",
              " 'vẻ': 1,\n",
              " 'về': 2,\n",
              " 'vọng': 1,\n",
              " 'vời': 1,\n",
              " 'xanh': 4,\n",
              " 'xuân': 3,\n",
              " 'yên': 1,\n",
              " 'yêu': 1,\n",
              " 'yếu': 1,\n",
              " 'áo': 1,\n",
              " 'âm': 1,\n",
              " 'ôi': 1,\n",
              " 'đa': 1,\n",
              " 'đai': 1,\n",
              " 'đi': 1,\n",
              " 'đàn': 1,\n",
              " 'đình': 1,\n",
              " 'đông': 3,\n",
              " 'đùa': 1,\n",
              " 'đường': 4,\n",
              " 'được': 1,\n",
              " 'đất': 5,\n",
              " 'đầu': 1,\n",
              " 'đẹp': 4,\n",
              " 'đẽ': 1,\n",
              " 'đến': 2,\n",
              " 'đều': 1,\n",
              " 'để': 1,\n",
              " 'đốt': 1,\n",
              " 'đồng': 2,\n",
              " 'động': 1,\n",
              " 'ấn': 1,\n",
              " 'ấy': 4,\n",
              " 'ớt': 1,\n",
              " 'ở': 1}"
            ]
          },
          "metadata": {
            "tags": []
          },
          "execution_count": 38
        }
      ]
    },
    {
      "cell_type": "markdown",
      "metadata": {
        "id": "c2E5mfvoUWyw"
      },
      "source": [
        "## HW4"
      ]
    },
    {
      "cell_type": "markdown",
      "metadata": {
        "id": "1hqYXnj-4ym2"
      },
      "source": [
        "Cho một string **s** và **max_times** là một số nguyên dương thể hiện số lần lặp lại từng chứ cái trong **s** theo vòng tròn.\n",
        "\n",
        "**Lưu ý**: **max_times** phải lớn hơn độ dài của **s**\n",
        "\n",
        "VD: \n",
        "- Input **s**=\"abc\", **max_times**= 5\n",
        "- Output 'a', 'b', 'c', 'a', 'b'\n",
        "\n",
        "1/ Giải quyêt bài toán bằng các sử dụng class iterator\n",
        "\n",
        "VD: \n",
        "\n",
        "```python \n",
        "c = CircleIterator('abc', 5)\n",
        "c = iter(c)\n",
        "print(next(c)) -> 'a'\n",
        "print(next(c)) -> 'b'\n",
        "print(next(c)) -> 'c'\n",
        "print(next(c)) -> 'a'\n",
        "print(next(c)) -> 'b'\n",
        "```\n",
        "\n",
        "\n",
        "2/ Giải quyêt bài toán bằng generator \n",
        "```python \n",
        "c = circleString('abc', 5)\n",
        "print(next(c)) -> 'a'\n",
        "print(next(c)) -> 'b'\n",
        "print(next(c)) -> 'c'\n",
        "print(next(c)) -> 'a'\n",
        "print(next(c)) -> 'b'\n",
        "```"
      ]
    },
    {
      "cell_type": "markdown",
      "metadata": {
        "id": "3In-rc776VD4"
      },
      "source": [
        "----------------------------------"
      ]
    },
    {
      "cell_type": "code",
      "metadata": {
        "id": "PydqpZ4o4t8E"
      },
      "source": [
        "class CircleIterator():\n",
        "  def __init__(self, input_string, max_times):\n",
        "    self.input_string = input_string\n",
        "    self.max_times = max_times\n",
        "\n",
        "  def __iter__(self):\n",
        "    self.index = 0\n",
        "    return self\n",
        "  \n",
        "  def __next__(self):\n",
        "    if self.index >= self.max_times:\n",
        "      raise StopIteration\n",
        "    value = self.input_string[self.index % len(self.input_string)]\n",
        "    self.index += 1\n",
        "    return value"
      ],
      "execution_count": 42,
      "outputs": []
    },
    {
      "cell_type": "code",
      "metadata": {
        "colab": {
          "base_uri": "https://localhost:8080/"
        },
        "id": "eWeMIMF1YYMG",
        "outputId": "3e218212-26c3-4e7e-a51a-eed8cf2752e0"
      },
      "source": [
        "c = CircleIterator('abc', 5)\n",
        "c = iter(c)\n",
        "print(next(c))\n",
        "print(next(c))\n",
        "print(next(c))\n",
        "print(next(c))\n",
        "print(next(c))"
      ],
      "execution_count": 43,
      "outputs": [
        {
          "output_type": "stream",
          "text": [
            "a\n",
            "b\n",
            "c\n",
            "a\n",
            "b\n"
          ],
          "name": "stdout"
        }
      ]
    },
    {
      "cell_type": "code",
      "metadata": {
        "id": "J95UPJurYkjl"
      },
      "source": [
        "def circleString(input_string, max_times):\n",
        "  index = 0\n",
        "  while index < max_times:\n",
        "    yield input_string[index % len(input_string)]\n",
        "    index += 1"
      ],
      "execution_count": 44,
      "outputs": []
    },
    {
      "cell_type": "code",
      "metadata": {
        "colab": {
          "base_uri": "https://localhost:8080/"
        },
        "id": "fzurdj2nZCRz",
        "outputId": "a578fb34-388b-4ed8-8a6d-fa4740885a9d"
      },
      "source": [
        "c = circleString('abc', 5)\n",
        "print(next(c))\n",
        "print(next(c))\n",
        "print(next(c))\n",
        "print(next(c))\n",
        "print(next(c))"
      ],
      "execution_count": 45,
      "outputs": [
        {
          "output_type": "stream",
          "text": [
            "a\n",
            "b\n",
            "c\n",
            "a\n",
            "b\n"
          ],
          "name": "stdout"
        }
      ]
    }
  ]
}