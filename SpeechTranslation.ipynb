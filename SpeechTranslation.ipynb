{
  "nbformat": 4,
  "nbformat_minor": 0,
  "metadata": {
    "colab": {
      "name": "SpeechTranslation.ipynb",
      "provenance": [],
      "collapsed_sections": [],
      "mount_file_id": "1SwQy6mubg-nRn-qU2kSez19jKRBjuTEK",
      "authorship_tag": "ABX9TyMiSOPECcC0wOuoKCcnOjaw",
      "include_colab_link": true
    },
    "kernelspec": {
      "name": "python3",
      "display_name": "Python 3"
    },
    "language_info": {
      "name": "python"
    }
  },
  "cells": [
    {
      "cell_type": "markdown",
      "metadata": {
        "id": "view-in-github",
        "colab_type": "text"
      },
      "source": [
        "<a href=\"https://colab.research.google.com/github/ThangDoan2001/API/blob/master/SpeechTranslation.ipynb\" target=\"_parent\"><img src=\"https://colab.research.google.com/assets/colab-badge.svg\" alt=\"Open In Colab\"/></a>"
      ]
    },
    {
      "cell_type": "code",
      "metadata": {
        "colab": {
          "base_uri": "https://localhost:8080/"
        },
        "id": "lsV8ZRar5dh-",
        "outputId": "513dad33-38b9-428d-e0c1-0dd18ffccc09"
      },
      "source": [
        "pip install ibm_watson"
      ],
      "execution_count": null,
      "outputs": [
        {
          "output_type": "stream",
          "text": [
            "Collecting ibm_watson\n",
            "  Downloading ibm-watson-5.2.2.tar.gz (407 kB)\n",
            "\u001b[K     |████████████████████████████████| 407 kB 5.0 MB/s \n",
            "\u001b[?25h  Installing build dependencies ... \u001b[?25l\u001b[?25hdone\n",
            "  Getting requirements to build wheel ... \u001b[?25l\u001b[?25hdone\n",
            "    Preparing wheel metadata ... \u001b[?25l\u001b[?25hdone\n",
            "Collecting ibm-cloud-sdk-core==3.*,>=3.3.6\n",
            "  Downloading ibm-cloud-sdk-core-3.10.1.tar.gz (40 kB)\n",
            "\u001b[K     |████████████████████████████████| 40 kB 3.6 MB/s \n",
            "\u001b[?25hCollecting websocket-client==1.1.0\n",
            "  Downloading websocket_client-1.1.0-py2.py3-none-any.whl (68 kB)\n",
            "\u001b[K     |████████████████████████████████| 68 kB 4.5 MB/s \n",
            "\u001b[?25hRequirement already satisfied: requests<3.0,>=2.0 in /usr/local/lib/python3.7/dist-packages (from ibm_watson) (2.23.0)\n",
            "Requirement already satisfied: python-dateutil>=2.5.3 in /usr/local/lib/python3.7/dist-packages (from ibm_watson) (2.8.1)\n",
            "Collecting PyJWT<3.0.0,>=2.0.1\n",
            "  Downloading PyJWT-2.1.0-py3-none-any.whl (16 kB)\n",
            "Requirement already satisfied: six>=1.5 in /usr/local/lib/python3.7/dist-packages (from python-dateutil>=2.5.3->ibm_watson) (1.15.0)\n",
            "Requirement already satisfied: idna<3,>=2.5 in /usr/local/lib/python3.7/dist-packages (from requests<3.0,>=2.0->ibm_watson) (2.10)\n",
            "Requirement already satisfied: urllib3!=1.25.0,!=1.25.1,<1.26,>=1.21.1 in /usr/local/lib/python3.7/dist-packages (from requests<3.0,>=2.0->ibm_watson) (1.24.3)\n",
            "Requirement already satisfied: chardet<4,>=3.0.2 in /usr/local/lib/python3.7/dist-packages (from requests<3.0,>=2.0->ibm_watson) (3.0.4)\n",
            "Requirement already satisfied: certifi>=2017.4.17 in /usr/local/lib/python3.7/dist-packages (from requests<3.0,>=2.0->ibm_watson) (2021.5.30)\n",
            "Building wheels for collected packages: ibm-watson, ibm-cloud-sdk-core\n",
            "  Building wheel for ibm-watson (PEP 517) ... \u001b[?25l\u001b[?25hdone\n",
            "  Created wheel for ibm-watson: filename=ibm_watson-5.2.2-py3-none-any.whl size=403389 sha256=1004690275a23c946a07ff1563385453b2c8c8f9a9ca2fb2a102469171904624\n",
            "  Stored in directory: /root/.cache/pip/wheels/64/af/0b/1f0f7f72a47e98ebbd1119568cca47e480969ef9dd688c70d6\n",
            "  Building wheel for ibm-cloud-sdk-core (setup.py) ... \u001b[?25l\u001b[?25hdone\n",
            "  Created wheel for ibm-cloud-sdk-core: filename=ibm_cloud_sdk_core-3.10.1-py3-none-any.whl size=61774 sha256=112647f617677f5d85111dec348cd591950784719bf43a4ad65db877c2793db2\n",
            "  Stored in directory: /root/.cache/pip/wheels/db/0c/7e/f377d38b5729ec554daa3f81a010d2b466ff045ee8216cecb3\n",
            "Successfully built ibm-watson ibm-cloud-sdk-core\n",
            "Installing collected packages: PyJWT, websocket-client, ibm-cloud-sdk-core, ibm-watson\n",
            "Successfully installed PyJWT-2.1.0 ibm-cloud-sdk-core-3.10.1 ibm-watson-5.2.2 websocket-client-1.1.0\n"
          ],
          "name": "stdout"
        }
      ]
    },
    {
      "cell_type": "code",
      "metadata": {
        "id": "-UcWVo1j5rve"
      },
      "source": [
        "from ibm_watson import SpeechToTextV1\n",
        "url_s2t=\"https://api.us-south.speech-to-text.watson.cloud.ibm.com/instances/5079ea20-22dd-48a8-a9ee-b6ec50bda49d\"\n",
        "iam_apikey_s2t=\"Q9f83epUgMf9ctTUvKinLu_S4t66PSj91FsqHXf23CUs\"\n"
      ],
      "execution_count": null,
      "outputs": []
    },
    {
      "cell_type": "code",
      "metadata": {
        "id": "LwHxICqd7kzq"
      },
      "source": [
        "from ibm_watson import SpeechToTextV1\n",
        "from ibm_cloud_sdk_core.authenticators import IAMAuthenticator\n",
        "\n",
        "authenticator = IAMAuthenticator(iam_apikey_s2t)\n",
        "s2t = SpeechToTextV1(\n",
        "   authenticator=authenticator\n",
        ")\n",
        "s2t.set_service_url(url_s2t)"
      ],
      "execution_count": null,
      "outputs": []
    },
    {
      "cell_type": "code",
      "metadata": {
        "colab": {
          "base_uri": "https://localhost:8080/"
        },
        "id": "W7GGBcJH85oY",
        "outputId": "e906b661-895f-466e-b356-a54deb0c13de"
      },
      "source": [
        "filename=\"/content/drive/MyDrive/Colab Notebooks/Welcome.wav\"\n",
        "with open(filename, mode=\"rb\") as wav:\n",
        "  response = s2t.recognize(audio=wav, content_type=\"audio/wav\").get_result()\n",
        "\n",
        "response"
      ],
      "execution_count": null,
      "outputs": [
        {
          "output_type": "execute_result",
          "data": {
            "text/plain": [
              "{'result_index': 0,\n",
              " 'results': [{'alternatives': [{'confidence': 0.97,\n",
              "     'transcript': 'thank you for choosing the Olympus dictation management system '}],\n",
              "   'final': True},\n",
              "  {'alternatives': [{'confidence': 0.9,\n",
              "     'transcript': 'the Olympus dictation management system gives you the power to manage your dictation transcriptions and documents seamlessly and to improve the productivity of your daily work for example you can automatically sends the dictation files or transcribed documents to your assistant of the Otha via email or FTP '}],\n",
              "   'final': True},\n",
              "  {'alternatives': [{'confidence': 0.95,\n",
              "     'transcript': 'if you are using the speech recognition software the speech recognition engine works in the background to support your document creation '}],\n",
              "   'final': True},\n",
              "  {'alternatives': [{'confidence': 0.96,\n",
              "     'transcript': 'we hope you enjoy the simple flexible reliable and secure solutions from Olympus '}],\n",
              "   'final': True}]}"
            ]
          },
          "metadata": {
            "tags": []
          },
          "execution_count": 22
        }
      ]
    },
    {
      "cell_type": "code",
      "metadata": {
        "colab": {
          "base_uri": "https://localhost:8080/",
          "height": 90
        },
        "id": "0QYfSN73_vXN",
        "outputId": "46e0a548-1c93-46f8-c88c-a572750294a7"
      },
      "source": [
        "response_text = \"\"\n",
        "for i in range(len(response['results'])):\n",
        "  response_text = response_text + response['results'][i]['alternatives'][0]['transcript'] + '.'\n",
        "response_text"
      ],
      "execution_count": null,
      "outputs": [
        {
          "output_type": "execute_result",
          "data": {
            "application/vnd.google.colaboratory.intrinsic+json": {
              "type": "string"
            },
            "text/plain": [
              "'thank you for choosing the Olympus dictation management system .the Olympus dictation management system gives you the power to manage your dictation transcriptions and documents seamlessly and to improve the productivity of your daily work for example you can automatically sends the dictation files or transcribed documents to your assistant of the Otha via email or FTP .if you are using the speech recognition software the speech recognition engine works in the background to support your document creation .we hope you enjoy the simple flexible reliable and secure solutions from Olympus .'"
            ]
          },
          "metadata": {
            "tags": []
          },
          "execution_count": 29
        }
      ]
    },
    {
      "cell_type": "code",
      "metadata": {
        "id": "x637GbcXAdg0"
      },
      "source": [
        "from ibm_watson import LanguageTranslatorV3\n",
        "from ibm_cloud_sdk_core.authenticators import IAMAuthenticator\n",
        "\n",
        "url_lt = \"https://api.us-south.language-translator.watson.cloud.ibm.com/instances/0c98e33b-2107-4138-82fd-40ada957083e\"\n",
        "iam_apikey_lt = \"C0yWMHQrp1KIsEpLwngjevDPnkykFyzm84NFfc9UXi5T\"\n",
        "version_lt = \"2018-05-01\"\n",
        "\n",
        "authenticator = IAMAuthenticator(iam_apikey_lt)\n",
        "lt = LanguageTranslatorV3(\n",
        "   authenticator=authenticator,\n",
        "   version=version_lt\n",
        ")\n",
        "lt.set_service_url(url_lt)"
      ],
      "execution_count": null,
      "outputs": []
    },
    {
      "cell_type": "code",
      "metadata": {
        "colab": {
          "base_uri": "https://localhost:8080/"
        },
        "id": "FiDaJjsuBE3U",
        "outputId": "38759349-b9b6-4ba1-8cd6-007fb63fca90"
      },
      "source": [
        "lt.list_identifiable_languages().get_result()"
      ],
      "execution_count": null,
      "outputs": [
        {
          "output_type": "execute_result",
          "data": {
            "text/plain": [
              "{'languages': [{'language': 'af', 'name': 'Afrikaans'},\n",
              "  {'language': 'ar', 'name': 'Arabic'},\n",
              "  {'language': 'az', 'name': 'Azerbaijani'},\n",
              "  {'language': 'ba', 'name': 'Bashkir'},\n",
              "  {'language': 'be', 'name': 'Belarusian'},\n",
              "  {'language': 'bg', 'name': 'Bulgarian'},\n",
              "  {'language': 'bn', 'name': 'Bengali'},\n",
              "  {'language': 'ca', 'name': 'Catalan'},\n",
              "  {'language': 'cs', 'name': 'Czech'},\n",
              "  {'language': 'cv', 'name': 'Chuvash'},\n",
              "  {'language': 'cy', 'name': 'Welsh'},\n",
              "  {'language': 'da', 'name': 'Danish'},\n",
              "  {'language': 'de', 'name': 'German'},\n",
              "  {'language': 'el', 'name': 'Greek'},\n",
              "  {'language': 'en', 'name': 'English'},\n",
              "  {'language': 'eo', 'name': 'Esperanto'},\n",
              "  {'language': 'es', 'name': 'Spanish'},\n",
              "  {'language': 'et', 'name': 'Estonian'},\n",
              "  {'language': 'eu', 'name': 'Basque'},\n",
              "  {'language': 'fa', 'name': 'Persian'},\n",
              "  {'language': 'fi', 'name': 'Finnish'},\n",
              "  {'language': 'fr', 'name': 'French'},\n",
              "  {'language': 'ga', 'name': 'Irish'},\n",
              "  {'language': 'gu', 'name': 'Gujarati'},\n",
              "  {'language': 'he', 'name': 'Hebrew'},\n",
              "  {'language': 'hi', 'name': 'Hindi'},\n",
              "  {'language': 'hr', 'name': 'Croatian'},\n",
              "  {'language': 'ht', 'name': 'Haitian'},\n",
              "  {'language': 'hu', 'name': 'Hungarian'},\n",
              "  {'language': 'hy', 'name': 'Armenian'},\n",
              "  {'language': 'is', 'name': 'Icelandic'},\n",
              "  {'language': 'it', 'name': 'Italian'},\n",
              "  {'language': 'ja', 'name': 'Japanese'},\n",
              "  {'language': 'ka', 'name': 'Georgian'},\n",
              "  {'language': 'kk', 'name': 'Kazakh'},\n",
              "  {'language': 'km', 'name': 'Central Khmer'},\n",
              "  {'language': 'ko', 'name': 'Korean'},\n",
              "  {'language': 'ku', 'name': 'Kurdish'},\n",
              "  {'language': 'ky', 'name': 'Kirghiz'},\n",
              "  {'language': 'lo', 'name': 'Lao'},\n",
              "  {'language': 'lt', 'name': 'Lithuanian'},\n",
              "  {'language': 'lv', 'name': 'Latvian'},\n",
              "  {'language': 'ml', 'name': 'Malayalam'},\n",
              "  {'language': 'mn', 'name': 'Mongolian'},\n",
              "  {'language': 'mr', 'name': 'Marathi'},\n",
              "  {'language': 'ms', 'name': 'Malay'},\n",
              "  {'language': 'mt', 'name': 'Maltese'},\n",
              "  {'language': 'my', 'name': 'Burmese'},\n",
              "  {'language': 'nb', 'name': 'Norwegian Bokmal'},\n",
              "  {'language': 'ne', 'name': 'Nepali'},\n",
              "  {'language': 'nl', 'name': 'Dutch'},\n",
              "  {'language': 'nn', 'name': 'Norwegian Nynorsk'},\n",
              "  {'language': 'pa', 'name': 'Punjabi'},\n",
              "  {'language': 'pa-PK', 'name': 'Punjabi (Shahmukhi script, Pakistan)'},\n",
              "  {'language': 'pl', 'name': 'Polish'},\n",
              "  {'language': 'ps', 'name': 'Pushto'},\n",
              "  {'language': 'pt', 'name': 'Portuguese'},\n",
              "  {'language': 'ro', 'name': 'Romanian'},\n",
              "  {'language': 'ru', 'name': 'Russian'},\n",
              "  {'language': 'si', 'name': 'Sinhala'},\n",
              "  {'language': 'sk', 'name': 'Slovakian'},\n",
              "  {'language': 'sl', 'name': 'Slovenian'},\n",
              "  {'language': 'so', 'name': 'Somali'},\n",
              "  {'language': 'sq', 'name': 'Albanian'},\n",
              "  {'language': 'sr', 'name': 'Serbian'},\n",
              "  {'language': 'sv', 'name': 'Swedish'},\n",
              "  {'language': 'ta', 'name': 'Tamil'},\n",
              "  {'language': 'te', 'name': 'Telugu'},\n",
              "  {'language': 'th', 'name': 'Thai'},\n",
              "  {'language': 'tl', 'name': 'Tagalog'},\n",
              "  {'language': 'tr', 'name': 'Turkish'},\n",
              "  {'language': 'uk', 'name': 'Ukrainian'},\n",
              "  {'language': 'ur', 'name': 'Urdu'},\n",
              "  {'language': 'vi', 'name': 'Vietnamese'},\n",
              "  {'language': 'zh', 'name': 'Simplified Chinese'},\n",
              "  {'language': 'zh-TW', 'name': 'Traditional Chinese'}]}"
            ]
          },
          "metadata": {
            "tags": []
          },
          "execution_count": 33
        }
      ]
    },
    {
      "cell_type": "code",
      "metadata": {
        "id": "LuT6_mI4BRIt"
      },
      "source": [
        "translation_response = lt.translate(text=response_text, model_id='en-vi')"
      ],
      "execution_count": null,
      "outputs": []
    },
    {
      "cell_type": "code",
      "metadata": {
        "colab": {
          "base_uri": "https://localhost:8080/",
          "height": 90
        },
        "id": "FwD1j3vEBdxc",
        "outputId": "22e56867-4eef-4768-d180-ba3d8ef99c86"
      },
      "source": [
        "translation_response.get_result()['translations'][0]['translation']"
      ],
      "execution_count": null,
      "outputs": [
        {
          "output_type": "execute_result",
          "data": {
            "application/vnd.google.colaboratory.intrinsic+json": {
              "type": "string"
            },
            "text/plain": [
              "'Cảm ơn bạn đã chọn hệ thống quản lý phép thuật Olympus dictation .the Olympus dictation system cho bạn quyền quản lý các bản dịch và tài liệu liên tục và để cải thiện năng suất làm việc hàng ngày của bạn ví dụ bạn có thể tự động gửi các tệp tin hoặc tài liệu được phiên mã cho trợ lý của bạn về Otha thông qua email hoặc FTP .Nếu bạn đang sử dụng phần mềm nhận dạng giọng nói các công cụ nhận dạng giọng nói làm việc trong nền để hỗ trợ việc tạo tài liệu của bạn .chúng tôi hy vọng bạn sẽ được hưởng những giải pháp dễ tin cậy và bảo mật đơn giản từ Olympus.'"
            ]
          },
          "metadata": {
            "tags": []
          },
          "execution_count": 38
        }
      ]
    }
  ]
}