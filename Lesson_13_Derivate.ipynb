{
  "nbformat": 4,
  "nbformat_minor": 0,
  "metadata": {
    "colab": {
      "name": "Lesson_13_Derivate.ipynb",
      "provenance": [],
      "collapsed_sections": [],
      "authorship_tag": "ABX9TyNMHa8zXZ+9natG90ygid3y",
      "include_colab_link": true
    },
    "kernelspec": {
      "name": "python3",
      "display_name": "Python 3"
    },
    "language_info": {
      "name": "python"
    }
  },
  "cells": [
    {
      "cell_type": "markdown",
      "metadata": {
        "id": "view-in-github",
        "colab_type": "text"
      },
      "source": [
        "<a href=\"https://colab.research.google.com/github/ThangDoan2001/API-Python-Learn/blob/master/Lesson_13_Derivate.ipynb\" target=\"_parent\"><img src=\"https://colab.research.google.com/assets/colab-badge.svg\" alt=\"Open In Colab\"/></a>"
      ]
    },
    {
      "cell_type": "code",
      "metadata": {
        "id": "MWjsH1E1cr_e"
      },
      "source": [
        "# Vài nguồn paper\n"
      ],
      "execution_count": 1,
      "outputs": []
    },
    {
      "cell_type": "markdown",
      "metadata": {
        "id": "-tZ0VQpjhDIx"
      },
      "source": [
        "#Derivate and Application\n",
        "Lưu ý đạo hàm trung tâm và đạo hàm một bên\n",
        "\n",
        "Đạo hàm trung tâm sẽ cho kết quả tốt hơn\n",
        "\n",
        "Epsilon càng nhỏ thì giá trị càng chính xác\n",
        "\n"
      ]
    },
    {
      "cell_type": "markdown",
      "metadata": {
        "id": "rSvmvILyiyOR"
      },
      "source": [
        "## Implementation"
      ]
    },
    {
      "cell_type": "markdown",
      "metadata": {
        "id": "gumYGAoyiz2b"
      },
      "source": [
        "### Đạo hàm một bên"
      ]
    },
    {
      "cell_type": "code",
      "metadata": {
        "colab": {
          "base_uri": "https://localhost:8080/"
        },
        "id": "pVMSI-TRkDiq",
        "outputId": "cdd09854-8a6d-4e4d-f6c4-41637910997a"
      },
      "source": [
        "def gradient(f, x, epsilon):\n",
        "  return (f(x + epsilon) - f(x)) / epsilon\n",
        "\n",
        "def func(x):\n",
        "  return x**2 + 2*x\n",
        "  \n",
        "gradient(func, x = 2.0, epsilon=1.0e-4)"
      ],
      "execution_count": 36,
      "outputs": [
        {
          "output_type": "execute_result",
          "data": {
            "text/plain": [
              "6.000100000012054"
            ]
          },
          "metadata": {},
          "execution_count": 36
        }
      ]
    },
    {
      "cell_type": "markdown",
      "metadata": {
        "id": "vJlnhZz9kUXh"
      },
      "source": [
        "### Đạo hàm trung tâm\n"
      ]
    },
    {
      "cell_type": "code",
      "metadata": {
        "colab": {
          "base_uri": "https://localhost:8080/"
        },
        "id": "KW88QnmXk2LM",
        "outputId": "528e269e-24a4-4dee-beed-2a818740fe91"
      },
      "source": [
        "def gradient(f, x, epsilon):\n",
        "  return (f(x + epsilon/2) - f(x - epsilon/2)) / epsilon\n",
        "\n",
        "def func(x):\n",
        "  return x**2 + 2*x\n",
        "\n",
        "gradient(func, x=2.0, epsilon=1.0e2) # Do triệt tiêu mất epsilon, công thức không phụ thuộc vào epsilon"
      ],
      "execution_count": 37,
      "outputs": [
        {
          "output_type": "execute_result",
          "data": {
            "text/plain": [
              "6.0"
            ]
          },
          "metadata": {},
          "execution_count": 37
        }
      ]
    },
    {
      "cell_type": "markdown",
      "metadata": {
        "id": "DWNerDxflNSP"
      },
      "source": [
        "### a^n - b^n = (a - b)(a^n-1 + a^n-2 * b +. .... + b^n-1)"
      ]
    },
    {
      "cell_type": "markdown",
      "metadata": {
        "id": "JzTkvQlpmSog"
      },
      "source": [
        "# Application\n"
      ]
    },
    {
      "cell_type": "markdown",
      "metadata": {
        "id": "ihmCXjblm571"
      },
      "source": [
        "### Áp dụng cho hàm rời rạc \n",
        "Kể cả từ biên chúng ta cũng không dùng đạo hàm 1 phía vì sai số cao\n",
        "* Thêm dữ liệu\n",
        "* Lờ đi\n",
        "\n",
        "Nội suy sẽ làm phức tạp thêm bài toán\n"
      ]
    },
    {
      "cell_type": "markdown",
      "metadata": {
        "id": "CHoNBud3m8pl"
      },
      "source": [
        "## Đạm hàm trung bình chọn [1, 2, 1] vì muốn giảm nhiễu\n",
        "\n",
        "Ở giữa là hai vì vùng ở giữa là điểm chính có độ tin cậy cao hơn"
      ]
    },
    {
      "cell_type": "markdown",
      "metadata": {
        "id": "m1mGhvtLr_il"
      },
      "source": [
        "## Dùng đạo hàm để detect cạnh"
      ]
    },
    {
      "cell_type": "markdown",
      "metadata": {
        "id": "hTZdlBACvPQo"
      },
      "source": [
        "### Grayscale images & Color images"
      ]
    },
    {
      "cell_type": "markdown",
      "metadata": {
        "id": "2AWBamALvSQm"
      },
      "source": [
        "## Application to Optimization\n",
        "\n",
        "Không thể lấy được tối ưu toàn cục \n",
        "\n",
        "Chấp nhận local optimal\n",
        "\n",
        "Giải thuật tiến hóa, số lượng tham số ít kiếm điểm optimal tốt hơn\n"
      ]
    },
    {
      "cell_type": "markdown",
      "metadata": {
        "id": "m9wTWL_6xynO"
      },
      "source": [
        "### Cứ đi ngược lại hướng đạo hàm sẽ đi được đến vị trí optimal"
      ]
    },
    {
      "cell_type": "code",
      "metadata": {
        "id": "kzhECVTBx4r9"
      },
      "source": [
        "# đạo hàm trung tâm\n",
        "def gradient(f, x, epsilon=1.0e-4):\n",
        "  return (f(x + epsilon/2) - f(x - epsilon/2)) / epsilon"
      ],
      "execution_count": 14,
      "outputs": []
    },
    {
      "cell_type": "code",
      "metadata": {
        "id": "horY-NLE27e3"
      },
      "source": [
        "def func(x):\n",
        "  return x**2"
      ],
      "execution_count": 15,
      "outputs": []
    },
    {
      "cell_type": "code",
      "metadata": {
        "colab": {
          "base_uri": "https://localhost:8080/"
        },
        "id": "if7uSe_V3AiF",
        "outputId": "37913389-751b-467c-cc71-dedc02c39b8f"
      },
      "source": [
        "gradient(func, 5)"
      ],
      "execution_count": 16,
      "outputs": [
        {
          "output_type": "execute_result",
          "data": {
            "text/plain": [
              "9.999999999976694"
            ]
          },
          "metadata": {},
          "execution_count": 16
        }
      ]
    },
    {
      "cell_type": "code",
      "metadata": {
        "colab": {
          "base_uri": "https://localhost:8080/"
        },
        "id": "ESuEX9013CIF",
        "outputId": "6eb65c90-f49c-415a-f965-f8afb538edea"
      },
      "source": [
        "import random\n",
        "import numpy as np\n",
        "import matplotlib.pyplot as plt\n",
        "\n",
        "# 1. Set x randomly\n",
        "x = random.randint(-100, 100)\n",
        "print(x)\n",
        "step = 1 \n",
        "num_steps = 80\n",
        "for _ in range(num_steps):\n",
        "  # 2. Compute derivative\n",
        "  dx = gradient(func, x)\n",
        "\n",
        "  # 3. Get sign\n",
        "  sign = np.sign(dx)\n",
        "\n",
        "  # 4. Update\n",
        "  x = x - sign * step\n",
        "  print(x)\n",
        "\n"
      ],
      "execution_count": 20,
      "outputs": [
        {
          "output_type": "stream",
          "name": "stdout",
          "text": [
            "-28\n",
            "-27.0\n",
            "-26.0\n",
            "-25.0\n",
            "-24.0\n",
            "-23.0\n",
            "-22.0\n",
            "-21.0\n",
            "-20.0\n",
            "-19.0\n",
            "-18.0\n",
            "-17.0\n",
            "-16.0\n",
            "-15.0\n",
            "-14.0\n",
            "-13.0\n",
            "-12.0\n",
            "-11.0\n",
            "-10.0\n",
            "-9.0\n",
            "-8.0\n",
            "-7.0\n",
            "-6.0\n",
            "-5.0\n",
            "-4.0\n",
            "-3.0\n",
            "-2.0\n",
            "-1.0\n",
            "0.0\n",
            "0.0\n",
            "0.0\n",
            "0.0\n",
            "0.0\n",
            "0.0\n",
            "0.0\n",
            "0.0\n",
            "0.0\n",
            "0.0\n",
            "0.0\n",
            "0.0\n",
            "0.0\n",
            "0.0\n",
            "0.0\n",
            "0.0\n",
            "0.0\n",
            "0.0\n",
            "0.0\n",
            "0.0\n",
            "0.0\n",
            "0.0\n",
            "0.0\n",
            "0.0\n",
            "0.0\n",
            "0.0\n",
            "0.0\n",
            "0.0\n",
            "0.0\n",
            "0.0\n",
            "0.0\n",
            "0.0\n",
            "0.0\n",
            "0.0\n",
            "0.0\n",
            "0.0\n",
            "0.0\n",
            "0.0\n",
            "0.0\n",
            "0.0\n",
            "0.0\n",
            "0.0\n",
            "0.0\n",
            "0.0\n",
            "0.0\n",
            "0.0\n",
            "0.0\n",
            "0.0\n",
            "0.0\n",
            "0.0\n",
            "0.0\n",
            "0.0\n",
            "0.0\n"
          ]
        }
      ]
    },
    {
      "cell_type": "markdown",
      "metadata": {
        "id": "VSJqnDq44fMn"
      },
      "source": [
        "### Optimization 2D function"
      ]
    },
    {
      "cell_type": "code",
      "metadata": {
        "id": "r7wRpOT-8Vel"
      },
      "source": [
        "# đạo hàm trung tâm\n",
        "def gradient(f, x, y, e=1.0e-4):\n",
        "  dx = (f(x + e/2, y) - f(x - e/2, y)) / e\n",
        "  dy = (f(x, y + e/2) - f(x, y - e/2)) / e\n",
        "  return dx, dy"
      ],
      "execution_count": 22,
      "outputs": []
    },
    {
      "cell_type": "code",
      "metadata": {
        "id": "HBvOxDXu8ogX"
      },
      "source": [
        "def func(x, y):\n",
        "  return x**2 + y**2"
      ],
      "execution_count": 33,
      "outputs": []
    },
    {
      "cell_type": "code",
      "metadata": {
        "colab": {
          "base_uri": "https://localhost:8080/"
        },
        "id": "Bbq7rpzr8tvR",
        "outputId": "b7652927-da0a-46c7-e31a-ab3e26969e17"
      },
      "source": [
        "gradient(func, 2.0, 2.0)"
      ],
      "execution_count": 34,
      "outputs": [
        {
          "output_type": "execute_result",
          "data": {
            "text/plain": [
              "(3.9999999999995595, 3.9999999999995595)"
            ]
          },
          "metadata": {},
          "execution_count": 34
        }
      ]
    },
    {
      "cell_type": "code",
      "metadata": {
        "colab": {
          "base_uri": "https://localhost:8080/"
        },
        "id": "BZaRuKT-8wOi",
        "outputId": "dc7289a2-91a9-4eae-c5b9-e4ab6bce57d7"
      },
      "source": [
        "import random\n",
        "\n",
        "# 1. set (x, y) randomly\n",
        "x = random.randint(-100, 100)\n",
        "y = random.randint(-100, 100)\n",
        "num_iterations = 50\n",
        "for _ in range(num_iterations):\n",
        "  # 2. compute the derivative at (x, y)\n",
        "  dx, dy = gradient(func, x, y)\n",
        "\n",
        "  # 3. get sign of dx, dy\n",
        "  sign_x = np.sign(dx)\n",
        "  sign_y = np.sign(dy)\n",
        "\n",
        "  # 4. Update\n",
        "  x = x - sign_x * step\n",
        "  y = y - sign_y * step\n",
        "\n",
        "  print(x, y, func(x, y))"
      ],
      "execution_count": 35,
      "outputs": [
        {
          "output_type": "stream",
          "name": "stdout",
          "text": [
            "11.0 29.0 962.0\n",
            "10.0 28.0 884.0\n",
            "9.0 27.0 810.0\n",
            "8.0 26.0 740.0\n",
            "7.0 25.0 674.0\n",
            "6.0 24.0 612.0\n",
            "5.0 23.0 554.0\n",
            "4.0 22.0 500.0\n",
            "3.0 21.0 450.0\n",
            "2.0 20.0 404.0\n",
            "1.0 19.0 362.0\n",
            "0.0 18.0 324.0\n",
            "0.0 17.0 289.0\n",
            "0.0 16.0 256.0\n",
            "0.0 15.0 225.0\n",
            "0.0 14.0 196.0\n",
            "0.0 13.0 169.0\n",
            "0.0 12.0 144.0\n",
            "0.0 11.0 121.0\n",
            "0.0 10.0 100.0\n",
            "0.0 9.0 81.0\n",
            "0.0 8.0 64.0\n",
            "0.0 7.0 49.0\n",
            "0.0 6.0 36.0\n",
            "0.0 5.0 25.0\n",
            "0.0 4.0 16.0\n",
            "0.0 3.0 9.0\n",
            "0.0 2.0 4.0\n",
            "0.0 1.0 1.0\n",
            "0.0 0.0 0.0\n",
            "0.0 0.0 0.0\n",
            "0.0 0.0 0.0\n",
            "0.0 0.0 0.0\n",
            "0.0 0.0 0.0\n",
            "0.0 0.0 0.0\n",
            "0.0 0.0 0.0\n",
            "0.0 0.0 0.0\n",
            "0.0 0.0 0.0\n",
            "0.0 0.0 0.0\n",
            "0.0 0.0 0.0\n",
            "0.0 0.0 0.0\n",
            "0.0 0.0 0.0\n",
            "0.0 0.0 0.0\n",
            "0.0 0.0 0.0\n",
            "0.0 0.0 0.0\n",
            "0.0 0.0 0.0\n",
            "0.0 0.0 0.0\n",
            "0.0 0.0 0.0\n",
            "0.0 0.0 0.0\n",
            "0.0 0.0 0.0\n"
          ]
        }
      ]
    },
    {
      "cell_type": "code",
      "metadata": {
        "id": "Fe_7vSdV-OAP"
      },
      "source": [
        ""
      ],
      "execution_count": 35,
      "outputs": []
    }
  ]
}