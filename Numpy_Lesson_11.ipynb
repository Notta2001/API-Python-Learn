{
  "nbformat": 4,
  "nbformat_minor": 0,
  "metadata": {
    "colab": {
      "name": "Numpy_Lesson_11.ipynb",
      "provenance": [],
      "collapsed_sections": [],
      "authorship_tag": "ABX9TyOSngewdC9Q/+jvI4U4p4n7",
      "include_colab_link": true
    },
    "kernelspec": {
      "name": "python3",
      "display_name": "Python 3"
    },
    "language_info": {
      "name": "python"
    }
  },
  "cells": [
    {
      "cell_type": "markdown",
      "metadata": {
        "id": "view-in-github",
        "colab_type": "text"
      },
      "source": [
        "<a href=\"https://colab.research.google.com/github/ThangDoan2001/API-Python-Learn/blob/master/Numpy_Lesson_11.ipynb\" target=\"_parent\"><img src=\"https://colab.research.google.com/assets/colab-badge.svg\" alt=\"Open In Colab\"/></a>"
      ]
    },
    {
      "cell_type": "code",
      "metadata": {
        "colab": {
          "base_uri": "https://localhost:8080/"
        },
        "id": "d5sRuXTbc_f4",
        "outputId": "c924245a-a539-4202-b70f-37437b024431"
      },
      "source": [
        "import numpy as np\n",
        "l = [1, 2, 3, 4]\n",
        "print(type(l))\n",
        "l = np.array(l)\n",
        "print(type(l))"
      ],
      "execution_count": 1,
      "outputs": [
        {
          "output_type": "stream",
          "text": [
            "<class 'list'>\n",
            "<class 'numpy.ndarray'>\n"
          ],
          "name": "stdout"
        }
      ]
    },
    {
      "cell_type": "markdown",
      "metadata": {
        "id": "UysHJxLLi-1K"
      },
      "source": [
        "# Common attributes\n",
        "\n",
        "1. dtype\n",
        "2. shape\n",
        "3. ndim"
      ]
    },
    {
      "cell_type": "code",
      "metadata": {
        "colab": {
          "base_uri": "https://localhost:8080/"
        },
        "id": "l6-T0PtLj1MB",
        "outputId": "bac9272a-8ba3-4220-877a-b70850d4a547"
      },
      "source": [
        "list3d = [[[1, 6], [2, 2], [3, 4]],\n",
        "          [[4, 7], [5, 2], [6, 9]],\n",
        "          [[7, 7], [8, 2], [9, 5]]]\n",
        "data = np.array(list3d)\n",
        "data.dtype, data.shape, data.ndim"
      ],
      "execution_count": 2,
      "outputs": [
        {
          "output_type": "execute_result",
          "data": {
            "text/plain": [
              "(dtype('int64'), (3, 3, 2), 3)"
            ]
          },
          "metadata": {
            "tags": []
          },
          "execution_count": 2
        }
      ]
    },
    {
      "cell_type": "markdown",
      "metadata": {
        "id": "vy_5Ttt1kZ5x"
      },
      "source": [
        "Trong python mọi thứ đều là một object, kể cá a = 5 thì cũng là một object"
      ]
    },
    {
      "cell_type": "markdown",
      "metadata": {
        "id": "Ej5Lhf7Zk84H"
      },
      "source": [
        "# Create Numpy array\n",
        "1. zeros()\n",
        "2. ones()\n",
        "3. full()\n",
        "4. arange()\n",
        "5. eye()\n",
        "6. random.random()"
      ]
    },
    {
      "cell_type": "code",
      "metadata": {
        "colab": {
          "base_uri": "https://localhost:8080/"
        },
        "id": "dJqMIYncl3Io",
        "outputId": "cf250d00-cbaa-4d46-db16-031b0da5df41"
      },
      "source": [
        "# zeros () function\n",
        "zero_arr = np.zeros((2, 3))\n",
        "zero_arr"
      ],
      "execution_count": 5,
      "outputs": [
        {
          "output_type": "execute_result",
          "data": {
            "text/plain": [
              "array([[0., 0., 0.],\n",
              "       [0., 0., 0.]])"
            ]
          },
          "metadata": {
            "tags": []
          },
          "execution_count": 5
        }
      ]
    },
    {
      "cell_type": "code",
      "metadata": {
        "colab": {
          "base_uri": "https://localhost:8080/"
        },
        "id": "VvmyCPMAl-d_",
        "outputId": "94bc4152-1924-4984-f4f8-c78673610fdc"
      },
      "source": [
        "# ones() function\n",
        "arr = np.ones((2, 3))\n",
        "arr"
      ],
      "execution_count": 6,
      "outputs": [
        {
          "output_type": "execute_result",
          "data": {
            "text/plain": [
              "array([[1., 1., 1.],\n",
              "       [1., 1., 1.]])"
            ]
          },
          "metadata": {
            "tags": []
          },
          "execution_count": 6
        }
      ]
    },
    {
      "cell_type": "code",
      "metadata": {
        "colab": {
          "base_uri": "https://localhost:8080/"
        },
        "id": "I-BlB2f7mHin",
        "outputId": "3eda192c-53d3-44d0-c423-a5cf88877d20"
      },
      "source": [
        "# full() function\n",
        "arr = np.full((2, 3), 9)\n",
        "arr"
      ],
      "execution_count": 7,
      "outputs": [
        {
          "output_type": "execute_result",
          "data": {
            "text/plain": [
              "array([[9, 9, 9],\n",
              "       [9, 9, 9]])"
            ]
          },
          "metadata": {
            "tags": []
          },
          "execution_count": 7
        }
      ]
    },
    {
      "cell_type": "code",
      "metadata": {
        "colab": {
          "base_uri": "https://localhost:8080/"
        },
        "id": "FangkTbnmMml",
        "outputId": "a35f7769-0a5e-419e-981e-94c54f04904a"
      },
      "source": [
        "# arange() function\n",
        "arr1 = np.arange(5)\n",
        "arr2 = np.arange(0, 5, 2)\n",
        "arr1, arr2"
      ],
      "execution_count": 8,
      "outputs": [
        {
          "output_type": "execute_result",
          "data": {
            "text/plain": [
              "(array([0, 1, 2, 3, 4]), array([0, 2, 4]))"
            ]
          },
          "metadata": {
            "tags": []
          },
          "execution_count": 8
        }
      ]
    },
    {
      "cell_type": "code",
      "metadata": {
        "colab": {
          "base_uri": "https://localhost:8080/"
        },
        "id": "ggaIcfcCmV3m",
        "outputId": "e1036e9f-7560-4f87-e449-961db6cc0079"
      },
      "source": [
        "# eye() function\n",
        "arr = np.eye(3)\n",
        "arr"
      ],
      "execution_count": 9,
      "outputs": [
        {
          "output_type": "execute_result",
          "data": {
            "text/plain": [
              "array([[1., 0., 0.],\n",
              "       [0., 1., 0.],\n",
              "       [0., 0., 1.]])"
            ]
          },
          "metadata": {
            "tags": []
          },
          "execution_count": 9
        }
      ]
    },
    {
      "cell_type": "code",
      "metadata": {
        "colab": {
          "base_uri": "https://localhost:8080/"
        },
        "id": "PnzYsEJcmam2",
        "outputId": "6e0d641f-fe32-4a99-a10f-2b58879baa9f"
      },
      "source": [
        "# random() function\n",
        "arr = np.random.random((2, 3))\n",
        "arr"
      ],
      "execution_count": 10,
      "outputs": [
        {
          "output_type": "execute_result",
          "data": {
            "text/plain": [
              "array([[0.52008754, 0.63917391, 0.087384  ],\n",
              "       [0.9920145 , 0.94533677, 0.00935907]])"
            ]
          },
          "metadata": {
            "tags": []
          },
          "execution_count": 10
        }
      ]
    },
    {
      "cell_type": "markdown",
      "metadata": {
        "id": "_oOzzN-CmgEu"
      },
      "source": [
        "# Some important function\n",
        "\n",
        "1. clip()\n",
        "2. np.linalg.inv()\n",
        "3. hstack()\n",
        "4. vstack()\n",
        "5. concatenate()\n",
        "6. np.newaxis\n",
        "7. apply_along_axis()\n",
        "8. where()\n",
        "9. flatten()\n",
        "10. reshape()\n",
        "11. dot()\n",
        "12. sum()\n"
      ]
    },
    {
      "cell_type": "code",
      "metadata": {
        "colab": {
          "base_uri": "https://localhost:8080/"
        },
        "id": "eNMHcMwfnSIu",
        "outputId": "9e55127d-b063-42e8-da7c-59dfd0530d3d"
      },
      "source": [
        "# clip() -> xứ lí outlier, threshold....,\n",
        "\n",
        "data = np.array([1, 2, 3, 4, 5, 6, 7, 8, 9])\n",
        "result = np.clip(data, a_min=3, a_max=6)\n",
        "result"
      ],
      "execution_count": 13,
      "outputs": [
        {
          "output_type": "execute_result",
          "data": {
            "text/plain": [
              "array([3, 3, 3, 4, 5, 6, 6, 6, 6])"
            ]
          },
          "metadata": {
            "tags": []
          },
          "execution_count": 13
        }
      ]
    },
    {
      "cell_type": "code",
      "metadata": {
        "colab": {
          "base_uri": "https://localhost:8080/"
        },
        "id": "tcw553wGnZXd",
        "outputId": "1b7cc516-0aa3-4e95-fe69-562b07f10f35"
      },
      "source": [
        "result = np.clip(data, a_min=[3, 4, 1, 1, 1, 4, 4, 4, 4], a_max=9)\n",
        "result"
      ],
      "execution_count": 15,
      "outputs": [
        {
          "output_type": "execute_result",
          "data": {
            "text/plain": [
              "array([3, 4, 3, 4, 5, 6, 7, 8, 9])"
            ]
          },
          "metadata": {
            "tags": []
          },
          "execution_count": 15
        }
      ]
    },
    {
      "cell_type": "code",
      "metadata": {
        "id": "K51GJkYPoRPu"
      },
      "source": [
        "# hstack() - kết hợp theo chiều ngang "
      ],
      "execution_count": 16,
      "outputs": []
    },
    {
      "cell_type": "code",
      "metadata": {
        "id": "HIlCVOuqpDJ0"
      },
      "source": [
        "# vstack() - kết hợp theo chiều dọc"
      ],
      "execution_count": 17,
      "outputs": []
    },
    {
      "cell_type": "code",
      "metadata": {
        "colab": {
          "base_uri": "https://localhost:8080/"
        },
        "id": "F6qXE06zpHAs",
        "outputId": "45e2f938-22ca-4fe8-8617-bbdacd3e393e"
      },
      "source": [
        "# concatenate()\n",
        "arr1 = np.array([1, 2, 3])\n",
        "arr2 = np.array([3, 4, 5])\n",
        "np.concatenate((arr1, arr2), axis=0)"
      ],
      "execution_count": 24,
      "outputs": [
        {
          "output_type": "execute_result",
          "data": {
            "text/plain": [
              "array([1, 2, 3, 3, 4, 5])"
            ]
          },
          "metadata": {
            "tags": []
          },
          "execution_count": 24
        }
      ]
    },
    {
      "cell_type": "code",
      "metadata": {
        "id": "RfLuKQukpaRb"
      },
      "source": [
        "# np.concatenate((arr1, arr2), axis=1) -> lỗi vì chỉ có một chiều "
      ],
      "execution_count": 25,
      "outputs": []
    },
    {
      "cell_type": "code",
      "metadata": {
        "colab": {
          "base_uri": "https://localhost:8080/"
        },
        "id": "-Kl4X627plzj",
        "outputId": "30429490-6782-4cfb-ee4e-afab17df1b1a"
      },
      "source": [
        "arr1 = np.array([[1, 2, 3]])\n",
        "arr2 = np.array([[3, 4, 5]])\n",
        "np.concatenate((arr1, arr2), axis=1)"
      ],
      "execution_count": 26,
      "outputs": [
        {
          "output_type": "execute_result",
          "data": {
            "text/plain": [
              "array([[1, 2, 3, 3, 4, 5]])"
            ]
          },
          "metadata": {
            "tags": []
          },
          "execution_count": 26
        }
      ]
    },
    {
      "cell_type": "code",
      "metadata": {
        "colab": {
          "base_uri": "https://localhost:8080/"
        },
        "id": "M3T9qMttqU-z",
        "outputId": "81d2cab2-d6e0-4bdf-8e9e-a7d9095e78ad"
      },
      "source": [
        "# np.newaxis -> thêm số chiều \n",
        "arr = np.array([1, 2, 3, 4, 5])\n",
        "arr[:, np.newaxis], arr[np.newaxis, :]"
      ],
      "execution_count": 28,
      "outputs": [
        {
          "output_type": "execute_result",
          "data": {
            "text/plain": [
              "(array([[1],\n",
              "        [2],\n",
              "        [3],\n",
              "        [4],\n",
              "        [5]]), array([[1, 2, 3, 4, 5]]))"
            ]
          },
          "metadata": {
            "tags": []
          },
          "execution_count": 28
        }
      ]
    },
    {
      "cell_type": "markdown",
      "metadata": {
        "id": "8dr6TNn9sQUR"
      },
      "source": [
        "# Khi thay đổi của data1 thì data2 (numpy sinh ra từ numpy1 mà liên quan đến các hành động liên quan đến dấu : vd numpy1[:]) -> sẽ thay đổi theo\n"
      ]
    },
    {
      "cell_type": "code",
      "metadata": {
        "id": "WrxDIjErrQ_J"
      },
      "source": [
        "a_list = [1, 2, 3]\n",
        "data1 = np.array(a_list)\n",
        "data2 = data1[:, np.newaxis]"
      ],
      "execution_count": 30,
      "outputs": []
    },
    {
      "cell_type": "code",
      "metadata": {
        "colab": {
          "base_uri": "https://localhost:8080/"
        },
        "id": "Q9ng4XQcsZ5Y",
        "outputId": "3b87f939-205a-45a0-d216-62cd1cd3bc84"
      },
      "source": [
        "# apply_along_axis() function\n",
        "data = np.array([[1, 2, 3, 4],\n",
        "        [1, 2, 3, 4],\n",
        "        [1, 2, 3 ,4],\n",
        "        [1, 2, 3, 4]])\n",
        "\n",
        "result = np.apply_along_axis(np.max,\n",
        "                             axis=1,\n",
        "                             arr=data)\n",
        "result"
      ],
      "execution_count": 33,
      "outputs": [
        {
          "output_type": "execute_result",
          "data": {
            "text/plain": [
              "array([4, 4, 4, 4])"
            ]
          },
          "metadata": {
            "tags": []
          },
          "execution_count": 33
        }
      ]
    },
    {
      "cell_type": "code",
      "metadata": {
        "colab": {
          "base_uri": "https://localhost:8080/"
        },
        "id": "sNiaJwthuFJ-",
        "outputId": "7dbc53cc-09d3-4e23-ac43-b4a17f60eeb6"
      },
      "source": [
        "# np.vectorize()\n",
        "def compare(a, b):\n",
        "  if a >= b:\n",
        "    return 0\n",
        "  else:\n",
        "    return 1\n",
        "\n",
        "compare_vec = np.vectorize(compare)\n",
        "arr1 = np.array([1, 2, 3, 4, 5])\n",
        "arr2 = np.array([2, 3, 0, 1, 4])\n",
        "compare_vec(arr1, arr2)"
      ],
      "execution_count": 35,
      "outputs": [
        {
          "output_type": "execute_result",
          "data": {
            "text/plain": [
              "array([1, 1, 0, 0, 0])"
            ]
          },
          "metadata": {
            "tags": []
          },
          "execution_count": 35
        }
      ]
    },
    {
      "cell_type": "code",
      "metadata": {
        "colab": {
          "base_uri": "https://localhost:8080/"
        },
        "id": "ghvPCfAbuXXe",
        "outputId": "fb14ee5c-6e16-4a48-cbdd-746413b368e1"
      },
      "source": [
        "arr1 > arr2"
      ],
      "execution_count": 36,
      "outputs": [
        {
          "output_type": "execute_result",
          "data": {
            "text/plain": [
              "array([False, False,  True,  True,  True])"
            ]
          },
          "metadata": {
            "tags": []
          },
          "execution_count": 36
        }
      ]
    },
    {
      "cell_type": "code",
      "metadata": {
        "colab": {
          "base_uri": "https://localhost:8080/"
        },
        "id": "DIU49qEwvVjd",
        "outputId": "73e6e1ff-a1d3-4782-e9a7-444dd687ba33"
      },
      "source": [
        "# where()\n",
        "arr = np.arange(5)\n",
        "out = np.where(arr < 3, arr, arr*2) # Sai thực hiện cái trước, đúng thực hiện cái sau\n",
        "out\n"
      ],
      "execution_count": 39,
      "outputs": [
        {
          "output_type": "execute_result",
          "data": {
            "text/plain": [
              "array([0, 1, 2, 6, 8])"
            ]
          },
          "metadata": {
            "tags": []
          },
          "execution_count": 39
        }
      ]
    },
    {
      "cell_type": "code",
      "metadata": {
        "colab": {
          "base_uri": "https://localhost:8080/"
        },
        "id": "XelrrNp3v-CU",
        "outputId": "e6552903-4a7b-4db8-94d3-c212f1c98cc6"
      },
      "source": [
        "# flatten() function\n",
        "arr = np.array([[1, 2], [3, 4]])\n",
        "arr.flatten()"
      ],
      "execution_count": 40,
      "outputs": [
        {
          "output_type": "execute_result",
          "data": {
            "text/plain": [
              "array([1, 2, 3, 4])"
            ]
          },
          "metadata": {
            "tags": []
          },
          "execution_count": 40
        }
      ]
    },
    {
      "cell_type": "code",
      "metadata": {
        "colab": {
          "base_uri": "https://localhost:8080/"
        },
        "id": "l7A4-uKWwZ9c",
        "outputId": "7ba22153-3e75-4820-ae4e-639af1e179a1"
      },
      "source": [
        "# reshape()\n",
        "arr.reshape(1, 4)"
      ],
      "execution_count": 41,
      "outputs": [
        {
          "output_type": "execute_result",
          "data": {
            "text/plain": [
              "array([[1, 2, 3, 4]])"
            ]
          },
          "metadata": {
            "tags": []
          },
          "execution_count": 41
        }
      ]
    },
    {
      "cell_type": "markdown",
      "metadata": {
        "id": "3Byx6_bDw0cD"
      },
      "source": [
        "# Array Indexing\n"
      ]
    },
    {
      "cell_type": "code",
      "metadata": {
        "colab": {
          "base_uri": "https://localhost:8080/"
        },
        "id": "O63KkweQxN-r",
        "outputId": "3e198362-964e-42b3-c1cd-4d73b1308a09"
      },
      "source": [
        "arr = np.array([[1, 2, 3],\n",
        "                [4, 5, 6],\n",
        "                [7, 8, 9]])\n",
        "# C1 : giảm chiều\n",
        "print(arr[1, :])\n",
        "# C2: ko đổi chiều\n",
        "print(arr[1:2, :])"
      ],
      "execution_count": 47,
      "outputs": [
        {
          "output_type": "stream",
          "text": [
            "[4 5 6]\n",
            "[[4 5 6]]\n"
          ],
          "name": "stdout"
        }
      ]
    },
    {
      "cell_type": "code",
      "metadata": {
        "colab": {
          "base_uri": "https://localhost:8080/"
        },
        "id": "q3T2y9WF08-v",
        "outputId": "273ee121-b3a2-4dd6-e2ca-d3bb69cb46d7"
      },
      "source": [
        "# C1: \n",
        "print(arr[:, 1])\n",
        "# C2:\n",
        "print(arr[:, 1:2])"
      ],
      "execution_count": 48,
      "outputs": [
        {
          "output_type": "stream",
          "text": [
            "[2 5 8]\n",
            "[[2]\n",
            " [5]\n",
            " [8]]\n"
          ],
          "name": "stdout"
        }
      ]
    },
    {
      "cell_type": "code",
      "metadata": {
        "colab": {
          "base_uri": "https://localhost:8080/"
        },
        "id": "7EuZiknG1LUW",
        "outputId": "d58b2a19-b8a5-4523-b9c3-1ba6b95b3ce2"
      },
      "source": [
        "# dot()\n",
        "arr1 = np.array([1, 2, 3, 4, 5])\n",
        "arr2 = np.array([2, 3, 0, 1, 4])\n",
        "arr1.dot(arr2)"
      ],
      "execution_count": 49,
      "outputs": [
        {
          "output_type": "execute_result",
          "data": {
            "text/plain": [
              "32"
            ]
          },
          "metadata": {
            "tags": []
          },
          "execution_count": 49
        }
      ]
    },
    {
      "cell_type": "code",
      "metadata": {
        "colab": {
          "base_uri": "https://localhost:8080/"
        },
        "id": "tQIbYto82sxV",
        "outputId": "767c7c8c-6e0f-4aa3-8262-a8854a4cf173"
      },
      "source": [
        "arr1 = np.array([[1, 2, 3, 4, 5],\n",
        "                 [2, 3, 0, 1, 4]])\n",
        "arr2 = np.array([2, 3, 0, 1, 4])\n",
        "arr1.dot(arr2)"
      ],
      "execution_count": 50,
      "outputs": [
        {
          "output_type": "execute_result",
          "data": {
            "text/plain": [
              "array([32, 30])"
            ]
          },
          "metadata": {
            "tags": []
          },
          "execution_count": 50
        }
      ]
    },
    {
      "cell_type": "code",
      "metadata": {
        "colab": {
          "base_uri": "https://localhost:8080/"
        },
        "id": "MO6QM2T53JcF",
        "outputId": "77560329-125f-487e-ce05-0ac1bd51b852"
      },
      "source": [
        "X = np.array([[1, 2],\n",
        "             [3, 4]])\n",
        "X.dot(X), X.dot(X.T)"
      ],
      "execution_count": 51,
      "outputs": [
        {
          "output_type": "execute_result",
          "data": {
            "text/plain": [
              "(array([[ 7, 10],\n",
              "        [15, 22]]), array([[ 5, 11],\n",
              "        [11, 25]]))"
            ]
          },
          "metadata": {
            "tags": []
          },
          "execution_count": 51
        }
      ]
    },
    {
      "cell_type": "code",
      "metadata": {
        "colab": {
          "base_uri": "https://localhost:8080/"
        },
        "id": "X4IrtYOQ3xyM",
        "outputId": "9b519bce-8adf-4d1e-9e61-5e1029e0fddc"
      },
      "source": [
        "# np.sum()\n",
        "np.sum(X, axis = 0) # sum each column"
      ],
      "execution_count": 52,
      "outputs": [
        {
          "output_type": "execute_result",
          "data": {
            "text/plain": [
              "array([4, 6])"
            ]
          },
          "metadata": {
            "tags": []
          },
          "execution_count": 52
        }
      ]
    },
    {
      "cell_type": "code",
      "metadata": {
        "colab": {
          "base_uri": "https://localhost:8080/"
        },
        "id": "GjCAe1-54EBE",
        "outputId": "9014ccf0-00c5-48aa-c86b-1b7277914ff0"
      },
      "source": [
        "np.sum(X, axis = 1) # sum each row"
      ],
      "execution_count": 53,
      "outputs": [
        {
          "output_type": "execute_result",
          "data": {
            "text/plain": [
              "array([3, 7])"
            ]
          },
          "metadata": {
            "tags": []
          },
          "execution_count": 53
        }
      ]
    },
    {
      "cell_type": "code",
      "metadata": {
        "id": "pk4XpjXj4IaU"
      },
      "source": [
        ""
      ],
      "execution_count": null,
      "outputs": []
    }
  ]
}