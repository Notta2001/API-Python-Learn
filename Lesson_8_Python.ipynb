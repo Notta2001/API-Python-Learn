{
  "nbformat": 4,
  "nbformat_minor": 0,
  "metadata": {
    "colab": {
      "name": "Python_Lesson_8.ipynb",
      "provenance": [],
      "collapsed_sections": [],
      "include_colab_link": true
    },
    "kernelspec": {
      "name": "python3",
      "display_name": "Python 3"
    },
    "language_info": {
      "name": "python"
    }
  },
  "cells": [
    {
      "cell_type": "markdown",
      "metadata": {
        "id": "view-in-github",
        "colab_type": "text"
      },
      "source": [
        "<a href=\"https://colab.research.google.com/github/ThangDoan2001/API-Python-Learn/blob/master/Python_Lesson_8.ipynb\" target=\"_parent\"><img src=\"https://colab.research.google.com/assets/colab-badge.svg\" alt=\"Open In Colab\"/></a>"
      ]
    },
    {
      "cell_type": "markdown",
      "metadata": {
        "id": "ljv35ofVjfve"
      },
      "source": [
        "# File\n",
        "1. Connect to file: open(file_path 'r')\n",
        "2. Read from/ write to file: read() \n",
        "3. Disconnect to file: close()\n",
        "4. Read each line: readline()\n",
        "5. Read all lines and put into a list: readlines()\n",
        "\n",
        "**Head First Design Pattern**\n",
        "\n",
        "\n",
        "csv : comma separated value\n",
        "\n",
        "1. split()\n",
        "2. strip()\n",
        "\n",
        "\n",
        "Mode:\n",
        "1. read : 'r'\n",
        "2. write : 'w' - ghi đè dữ liệu\n",
        "3. append : 'a' - ghi tiếp vào dữ liệu đã có mà không làm mất dữ liệu như write()"
      ]
    },
    {
      "cell_type": "code",
      "metadata": {
        "id": "Rq0ifDJLkahw"
      },
      "source": [
        "# 1) open\n",
        "a_file = open(\"/content/drive/MyDrive/Colab Notebooks/hello_word.txt\", 'r')\n",
        "\n",
        "# 2) read from file\n",
        "data = a_file.read()\n",
        "\n",
        "# 3) close file\n",
        "a_file.close()\n"
      ],
      "execution_count": null,
      "outputs": []
    },
    {
      "cell_type": "code",
      "metadata": {
        "colab": {
          "base_uri": "https://localhost:8080/"
        },
        "id": "JfnNAYHuoLJi",
        "outputId": "d5dd7357-9269-4f6a-d6a0-61caac9656ed"
      },
      "source": [
        "# read content as line \n",
        "# 1) open\n",
        "a_file = open(\"/content/drive/MyDrive/Colab Notebooks/hello_word.txt\", 'r')\n",
        "\n",
        "# 2) read from file\n",
        "data = a_file.readline()\n",
        "data2 = a_file.readline()\n",
        "print(data)\n",
        "print(data2)\n",
        "\n",
        "# 3) close file\n",
        "a_file.close()"
      ],
      "execution_count": null,
      "outputs": [
        {
          "output_type": "stream",
          "text": [
            "Hello Thang Doan \n",
            "\n",
            "How are you?\n",
            "\n"
          ],
          "name": "stdout"
        }
      ]
    },
    {
      "cell_type": "code",
      "metadata": {
        "colab": {
          "base_uri": "https://localhost:8080/"
        },
        "id": "Kwj1YMVHqZk3",
        "outputId": "cee7d705-b33f-48c0-ad07-e5b409ac9803"
      },
      "source": [
        "# read content as line \n",
        "# 1) open\n",
        "a_file = open(\"/content/drive/MyDrive/Colab Notebooks/hello_word.txt\", 'r')\n",
        "\n",
        "# 2) read from file\n",
        "data = a_file.readlines()\n",
        "print(type(data))\n",
        "\n",
        "# 3) close file\n",
        "a_file.close()"
      ],
      "execution_count": null,
      "outputs": [
        {
          "output_type": "stream",
          "text": [
            "<class 'list'>\n"
          ],
          "name": "stdout"
        }
      ]
    },
    {
      "cell_type": "code",
      "metadata": {
        "colab": {
          "base_uri": "https://localhost:8080/"
        },
        "id": "MEwggExUq_9n",
        "outputId": "f6cdd462-1ab9-453a-91ac-bc74414c8491"
      },
      "source": [
        "# split from read\n",
        "# 1) open\n",
        "a_file = open(\"/content/drive/MyDrive/Colab Notebooks/hello_word.txt\", 'r')\n",
        "\n",
        "# 2) read from file\n",
        "data = a_file.read().split('\\n')\n",
        "print(data)\n",
        "\n",
        "# 3) close file\n",
        "a_file.close()"
      ],
      "execution_count": null,
      "outputs": [
        {
          "output_type": "stream",
          "text": [
            "['Hello Thang Doan ', 'How are you?', '']\n"
          ],
          "name": "stdout"
        }
      ]
    },
    {
      "cell_type": "code",
      "metadata": {
        "colab": {
          "base_uri": "https://localhost:8080/"
        },
        "id": "IWyqHBI8r3jm",
        "outputId": "16c343bb-dd1f-492a-94cf-d39d865e57d5"
      },
      "source": [
        "# split from read\n",
        "# 1) open\n",
        "a_file = open(\"/content/drive/MyDrive/Colab Notebooks/hello_word.txt\", 'r')\n",
        "\n",
        "# 2) read from file\n",
        "lines = a_file.readlines()\n",
        "for line in lines:\n",
        "  line = line.replace('\\n', '').strip()\n",
        "  print(line, end=\"\")\n",
        "\n",
        "# 3) close file\n",
        "a_file.close()"
      ],
      "execution_count": null,
      "outputs": [
        {
          "output_type": "stream",
          "text": [
            "Hello Thang DoanHow are you?"
          ],
          "name": "stdout"
        }
      ]
    },
    {
      "cell_type": "markdown",
      "metadata": {
        "id": "tMEs8oq4sudt"
      },
      "source": [
        "## Write() - Nó tạo ra một file mới (ghi đè lên dữ liệu cũ)\n",
        "\n",
        "File tồn tại hay không, không quan trọng\n",
        "\n",
        "Iterator: Duyệt từng phần tử, cùng cần xử lý tất cả trong một lần.\n",
        "\n"
      ]
    },
    {
      "cell_type": "code",
      "metadata": {
        "id": "O07irQmetadS"
      },
      "source": [
        "# connect with a new file\n",
        "a_file = open('new_file.txt', 'w')\n",
        "\n",
        "# write to file\n",
        "text_1 = \"content in line 1 \\n\"\n",
        "a_file.write(text_1)\n",
        "\n",
        "text_2 = \"content in line 2\"\n",
        "a_file.write(text_2)\n",
        "\n",
        "# close file \n",
        "a_file.close()\n"
      ],
      "execution_count": null,
      "outputs": []
    },
    {
      "cell_type": "code",
      "metadata": {
        "colab": {
          "base_uri": "https://localhost:8080/"
        },
        "id": "4O_V-43yv0GQ",
        "outputId": "a1fcc23d-5b49-4af3-be93-f3df820c2297"
      },
      "source": [
        "a_file = open('new_file.txt', 'r')\n",
        "data = a_file.read()\n",
        "print(data)\n",
        "a_file.close()"
      ],
      "execution_count": null,
      "outputs": [
        {
          "output_type": "stream",
          "text": [
            "content in line 1 \n",
            "content in line 2\n"
          ],
          "name": "stdout"
        }
      ]
    },
    {
      "cell_type": "code",
      "metadata": {
        "colab": {
          "base_uri": "https://localhost:8080/"
        },
        "id": "WKaPiQd5v7cc",
        "outputId": "b16b91b7-4c26-4b2c-a0c2-bdf332fe3aaa"
      },
      "source": [
        "a_file = open('new_file.txt', 'w')\n",
        "a_file.write('Hello')\n",
        "a_file.close()\n",
        "\n",
        "a_file = open('new_file.txt', 'r')\n",
        "data = a_file.read()\n",
        "print(data)\n",
        "a_file.close()"
      ],
      "execution_count": null,
      "outputs": [
        {
          "output_type": "stream",
          "text": [
            "Hello\n"
          ],
          "name": "stdout"
        }
      ]
    },
    {
      "cell_type": "markdown",
      "metadata": {
        "id": "TUmNa_dVwjXl"
      },
      "source": [
        "## Append\n",
        "\n",
        "Still use write()\n",
        "\n",
        "Nếu file chưa tồn tại thì tạo ra một file mới\n"
      ]
    },
    {
      "cell_type": "code",
      "metadata": {
        "id": "3q-YvVAzxSer"
      },
      "source": [
        "a_file = open('new_file.txt', 'a')\n",
        "a_file.write(' Thang Doan')\n",
        "a_file.close()"
      ],
      "execution_count": null,
      "outputs": []
    },
    {
      "cell_type": "code",
      "metadata": {
        "colab": {
          "base_uri": "https://localhost:8080/"
        },
        "id": "tXNAXl5Vxg9c",
        "outputId": "f578aeaf-8aa3-4b88-f709-f65db352d3b7"
      },
      "source": [
        "a_file = open('new_file.txt', 'r')\n",
        "data = a_file.read()\n",
        "print(data)\n",
        "a_file.close()"
      ],
      "execution_count": null,
      "outputs": [
        {
          "output_type": "stream",
          "text": [
            "Hello Thang Doan Thang Doan Thang Doan\n"
          ],
          "name": "stdout"
        }
      ]
    },
    {
      "cell_type": "markdown",
      "metadata": {
        "id": "cmbS2pwqxm_l"
      },
      "source": [
        "# Check if a file exists"
      ]
    },
    {
      "cell_type": "code",
      "metadata": {
        "colab": {
          "base_uri": "https://localhost:8080/"
        },
        "id": "2OOWbTOMz2qh",
        "outputId": "5b534bd0-ca7e-4716-dfe5-57d91194e671"
      },
      "source": [
        "import os\n",
        "\n",
        "file_path1 = 'my_file.txt'\n",
        "check1 = os.path.exists(file_path1)\n",
        "print(check1)\n",
        "\n",
        "file_path2 = 'new_file.txt'\n",
        "check2 = os.path.exists(file_path2)\n",
        "print(check2)"
      ],
      "execution_count": null,
      "outputs": [
        {
          "output_type": "stream",
          "text": [
            "False\n",
            "True\n"
          ],
          "name": "stdout"
        }
      ]
    },
    {
      "cell_type": "markdown",
      "metadata": {
        "id": "zeNfpvC40APg"
      },
      "source": [
        "# Tokens "
      ]
    },
    {
      "cell_type": "code",
      "metadata": {
        "colab": {
          "base_uri": "https://localhost:8080/"
        },
        "id": "08pk_cwU1Ip9",
        "outputId": "290b6743-0325-4c8e-fe42-64d8f3d5f490"
      },
      "source": [
        "data = '1.4, 3.5, 9.0'\n",
        "tokens = data.split(',')\n",
        "\n",
        "for token in tokens:\n",
        "  # token = token.strip()\n",
        "  print(float(token))"
      ],
      "execution_count": null,
      "outputs": [
        {
          "output_type": "stream",
          "text": [
            "1.4\n",
            "3.5\n",
            "9.0\n"
          ],
          "name": "stdout"
        }
      ]
    },
    {
      "cell_type": "markdown",
      "metadata": {
        "id": "wkkdMekK15Nr"
      },
      "source": [
        "## Buffer, Cache and Channel\n",
        "* Buffer là phần dữ liệu được chia nhỏ lưu trong bộ nhớ tạm của trình duyệt, player của trình duyệt sẽ lấy dữ liệu đã tải này xử lý \n",
        "* Buffer giống Cache ở điểm là nó cũng lưu data ở bộ nhớ tạm. Tuy nhiên Buffer được sử dụng chủ yếu để giảm thời gian chờ giữa việc nhận và xử lý dữ liệu bởi một thiết bị nào đó, data được băm nhỏ, tải đến đâu xử lý đến đó.\n",
        "* Cache được sử dụng dựa trên nguyên tắc cùng một dữ liệu sẽ được truy cập nhiều lần do đó data được lưu trữ trong cache sẽ làm giảm phần lớn thời gian truy cập, đỡ phải tải dữ liệu lại một lần nữa."
      ]
    },
    {
      "cell_type": "markdown",
      "metadata": {
        "id": "TxKd71TC3n62"
      },
      "source": [
        "## with keyword: open không cần đóng \n",
        "\n",
        "\n",
        "\n"
      ]
    },
    {
      "cell_type": "code",
      "metadata": {
        "id": "8dUxxqNh4yao"
      },
      "source": [
        "# using with\n",
        "with open('hello_world.txt', 'r') as file:\n",
        "  file.read()"
      ],
      "execution_count": null,
      "outputs": []
    },
    {
      "cell_type": "markdown",
      "metadata": {
        "id": "ByAJbm0Iq9WX"
      },
      "source": [
        "* List comprehension'\n",
        "\n",
        "numbers = [i for i in range(1, 100) if (i%5 == 0)]\n",
        "\n",
        "print(numbers)\n",
        "\n",
        "* enumerate(a_list, start=...)\n",
        "\n",
        "return a list of (index, value)\n",
        "\n",
        "* zip(iterator1, iterator2, iterator3 ...) \n",
        "\n",
        "The zip() function returns a zip object, which is an iterator of tuples where the first item in each passed iterator is paired together, and then the second item in each passed iterator are paired together etc.\n"
      ]
    }
  ]
}