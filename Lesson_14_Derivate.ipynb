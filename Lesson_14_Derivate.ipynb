{
  "nbformat": 4,
  "nbformat_minor": 0,
  "metadata": {
    "colab": {
      "name": "Lesson_14_Derivate.ipynb",
      "provenance": [],
      "authorship_tag": "ABX9TyOfJGtOVKpc22HRpjlO59Wy",
      "include_colab_link": true
    },
    "kernelspec": {
      "name": "python3",
      "display_name": "Python 3"
    },
    "language_info": {
      "name": "python"
    }
  },
  "cells": [
    {
      "cell_type": "markdown",
      "metadata": {
        "id": "view-in-github",
        "colab_type": "text"
      },
      "source": [
        "<a href=\"https://colab.research.google.com/github/ThangDoan2001/API-Python-Learn/blob/master/Lesson_14_Derivate.ipynb\" target=\"_parent\"><img src=\"https://colab.research.google.com/assets/colab-badge.svg\" alt=\"Open In Colab\"/></a>"
      ]
    },
    {
      "cell_type": "code",
      "metadata": {
        "id": "7p-Gx9U5wBaS"
      },
      "source": [
        "import numpy as np\n",
        "area = np.array([6.7, 4.6, 3.5, 5.5])\n",
        "price = np.array([9.1, 5.9, 4.6, 6.7])"
      ],
      "execution_count": null,
      "outputs": []
    },
    {
      "cell_type": "code",
      "metadata": {
        "colab": {
          "base_uri": "https://localhost:8080/",
          "height": 297
        },
        "id": "rs9Tc3i9xvIm",
        "outputId": "312ff252-954e-43b3-d0e5-f1a5efcbbf69"
      },
      "source": [
        "import matplotlib.pyplot as plt\n",
        "\n",
        "plt.scatter(area, price)\n",
        "plt.xlabel(\"Diện tích nhà (x100m^2)\")\n",
        "plt.ylabel(\"Giá nhà (chục lượng vàng)\")"
      ],
      "execution_count": null,
      "outputs": [
        {
          "output_type": "execute_result",
          "data": {
            "text/plain": [
              "Text(0, 0.5, 'Giá nhà (chục lượng vàng)')"
            ]
          },
          "metadata": {},
          "execution_count": 7
        },
        {
          "output_type": "display_data",
          "data": {
            "image/png": "[encoded data removed]",
            "text/plain": [
              "<Figure size 432x288 with 1 Axes>"
            ]
          },
          "metadata": {
            "needs_background": "light"
          }
        }
      ]
    },
    {
      "cell_type": "markdown",
      "metadata": {
        "id": "EI9mSdDtxyv8"
      },
      "source": [
        "predicted_price = a*area + b\n",
        "\n",
        "error = (predicted_price - real_price)^2\n",
        "\n",
        "Mục đích là kiếm một hàm f nào đó nhận vào giá trị a và b, phải mô tả được độ tốt của a và b"
      ]
    },
    {
      "cell_type": "code",
      "metadata": {
        "id": "Kox1Ww8S8x-W"
      },
      "source": [
        "data_x = area\n",
        "data_y = price"
      ],
      "execution_count": null,
      "outputs": []
    },
    {
      "cell_type": "code",
      "metadata": {
        "colab": {
          "base_uri": "https://localhost:8080/"
        },
        "id": "_5SYuARP08SW",
        "outputId": "c1d40fad-1b46-4585-e04c-a836d9cfa48f"
      },
      "source": [
        "def error(a, b, data_x, data_y):\n",
        "  # params\n",
        "  error_sum = 0.0\n",
        "  N = len(data_x)\n",
        "  # sample\n",
        "  for i in range(4):\n",
        "    data_x_i = data_x[i]\n",
        "    data_y_i = data_y[i]\n",
        "\n",
        "    # compute predicted price\n",
        "    predicted_price = a * data_x_i + b\n",
        "\n",
        "    # compute error for the sample i\n",
        "    error_i = (predicted_price - data_y_i)**2\n",
        "    error_sum += error_i\n",
        "\n",
        "  return error_sum\n",
        "\n",
        "error(a=-0.34, b=0.04, data_x=data_x, data_y=data_y)"
      ],
      "execution_count": null,
      "outputs": [
        {
          "output_type": "execute_result",
          "data": {
            "text/plain": [
              "289.48942"
            ]
          },
          "metadata": {},
          "execution_count": 15
        }
      ]
    },
    {
      "cell_type": "code",
      "metadata": {
        "id": "4XI_0q5R8xeP"
      },
      "source": [
        "def gradient(func, a, b, data_x, data_y, e=1.0e-4):\n",
        "  # compute da\n",
        "  f_a_1 = func(a + e/2, b, data_x, data_y)\n",
        "  f_a_2 = func(a - e/2, b, data_x, data_y)\n",
        "  da = (f_a_1 - f_a_2) / e\n",
        "\n",
        "  # compute db\n",
        "  f_b_1 = func(a, b + e/2, data_x, data_y)\n",
        "  f_b_2 = func(a, b - e/2, data_x, data_y)\n",
        "  db = (f_b_1 - f_b_2) / e\n",
        "\n",
        "  return da, db"
      ],
      "execution_count": null,
      "outputs": []
    },
    {
      "cell_type": "code",
      "metadata": {
        "colab": {
          "base_uri": "https://localhost:8080/"
        },
        "id": "TN1O_F4B8UUK",
        "outputId": "c93e6add-874a-4f22-9ce6-b0080f9257a6"
      },
      "source": [
        "import random \n",
        "\n",
        "# 1. set (a, b) randomly\n",
        "a = random.random()\n",
        "b = 0.0\n",
        "\n",
        "# params\n",
        "num_iterations = 100\n",
        "step = 0.01\n",
        "\n",
        "# optimize\n",
        "for _ in range(num_iterations):\n",
        "  # compute the derivative at (a, b)\n",
        "  da, db = gradient(error, a, b, data_x, data_y)\n",
        "\n",
        "  # 3. Get sign of dx\n",
        "  sign_a = np.sign(da)\n",
        "  sign_b = np.sign(db)\n",
        "\n",
        "  # 4. Update\n",
        "  a = a - sign_a*step\n",
        "  b = b - sign_b*step\n",
        "  print(error(a, b, data_x, data_y))"
      ],
      "execution_count": null,
      "outputs": [
        {
          "output_type": "stream",
          "name": "stdout",
          "text": [
            "42.88246328779282\n",
            "41.28660507139115\n",
            "39.721376854989515\n",
            "38.18677863858785\n",
            "36.68281042218621\n",
            "35.20947220578455\n",
            "33.766763989382895\n",
            "32.35468577298125\n",
            "30.973237556579598\n",
            "29.62241934017794\n",
            "28.3022311237763\n",
            "27.01267290737464\n",
            "25.753744690972994\n",
            "24.525446474571343\n",
            "23.32777825816968\n",
            "22.160740041768033\n",
            "21.02433182536639\n",
            "19.918553608964732\n",
            "18.84340539256308\n",
            "17.798887176161433\n",
            "16.784998959759783\n",
            "15.801740743358138\n",
            "14.849112526956475\n",
            "13.927114310554826\n",
            "13.035746094153176\n",
            "12.175007877751531\n",
            "11.344899661349878\n",
            "10.545421444948227\n",
            "9.776573228546576\n",
            "9.038355012144931\n",
            "8.330766795743273\n",
            "7.653808579341623\n",
            "7.007480362939974\n",
            "6.391782146538326\n",
            "5.8067139301366755\n",
            "5.252275713735024\n",
            "4.728467497333375\n",
            "4.2352892809317275\n",
            "3.7727410645300714\n",
            "3.3408228481284237\n",
            "2.939534631726773\n",
            "2.5688764153251245\n",
            "2.2288481989234747\n",
            "1.9194499825218252\n",
            "1.640681766120176\n",
            "1.3925435497185275\n",
            "1.1750353333168773\n",
            "0.9881571169152283\n",
            "0.8319089005135757\n",
            "0.7062906841119267\n",
            "0.6113024677102804\n",
            "0.5469442513086314\n",
            "0.5132160349069819\n",
            "0.5014756965488475\n",
            "0.504125358190714\n",
            "0.49603357459236175\n",
            "0.49216323623422853\n",
            "0.4937914526358773\n",
            "0.483401114277743\n",
            "0.49474933067939164\n",
            "0.483401114277743\n",
            "0.49474933067939164\n",
            "0.483401114277743\n",
            "0.49474933067939164\n",
            "0.483401114277743\n",
            "0.49474933067939164\n",
            "0.483401114277743\n",
            "0.49474933067939164\n",
            "0.483401114277743\n",
            "0.49474933067939164\n",
            "0.483401114277743\n",
            "0.49474933067939164\n",
            "0.483401114277743\n",
            "0.49474933067939164\n",
            "0.483401114277743\n",
            "0.49474933067939164\n",
            "0.483401114277743\n",
            "0.49474933067939164\n",
            "0.483401114277743\n",
            "0.49474933067939164\n",
            "0.483401114277743\n",
            "0.49474933067939164\n",
            "0.483401114277743\n",
            "0.49474933067939164\n",
            "0.483401114277743\n",
            "0.49474933067939164\n",
            "0.483401114277743\n",
            "0.49474933067939164\n",
            "0.483401114277743\n",
            "0.49474933067939164\n",
            "0.483401114277743\n",
            "0.49474933067939164\n",
            "0.483401114277743\n",
            "0.49474933067939164\n",
            "0.483401114277743\n",
            "0.49474933067939164\n",
            "0.483401114277743\n",
            "0.49474933067939164\n",
            "0.483401114277743\n",
            "0.49474933067939164\n"
          ]
        }
      ]
    },
    {
      "cell_type": "code",
      "metadata": {
        "colab": {
          "base_uri": "https://localhost:8080/"
        },
        "id": "BJXaeJIX98FY",
        "outputId": "a85defca-407a-4d3e-d48e-7456beae05c1"
      },
      "source": [
        "data_x_new = 7\n",
        "predicted_price = a*data_x_new + b\n",
        "print(predicted_price)\n"
      ],
      "execution_count": null,
      "outputs": [
        {
          "output_type": "stream",
          "name": "stdout",
          "text": [
            "8.872432085831765\n"
          ]
        }
      ]
    },
    {
      "cell_type": "code",
      "metadata": {
        "id": "q0ks1DlyCTBq"
      },
      "source": [
        ""
      ],
      "execution_count": null,
      "outputs": []
    },
    {
      "cell_type": "markdown",
      "metadata": {
        "id": "xgyxdb9rE8kQ"
      },
      "source": [
        "## Train mà giá trị hàm loss không giảm\n",
        "* Learning rate quá lớn\n",
        "*"
      ]
    },
    {
      "cell_type": "markdown",
      "metadata": {
        "id": "5vKQ5IGkFS06"
      },
      "source": [
        "# Derivative and Chain Rule\n"
      ]
    },
    {
      "cell_type": "code",
      "metadata": {
        "id": "2wGqTWq5Lql-"
      },
      "source": [
        ""
      ],
      "execution_count": null,
      "outputs": []
    }
  ]
}