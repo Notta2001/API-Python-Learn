{
  "nbformat": 4,
  "nbformat_minor": 0,
  "metadata": {
    "colab": {
      "name": "Python_8-Homeworks.ipynb",
      "provenance": [],
      "authorship_tag": "ABX9TyM5I6/CCP0M+VdEieYZmUHj",
      "include_colab_link": true
    },
    "kernelspec": {
      "name": "python3",
      "display_name": "Python 3"
    },
    "language_info": {
      "name": "python"
    }
  },
  "cells": [
    {
      "cell_type": "markdown",
      "metadata": {
        "id": "view-in-github",
        "colab_type": "text"
      },
      "source": [
        "<a href=\"https://colab.research.google.com/github/ThangDoan2001/API-Python-Learn/blob/master/Python_8_Homeworks.ipynb\" target=\"_parent\"><img src=\"https://colab.research.google.com/assets/colab-badge.svg\" alt=\"Open In Colab\"/></a>"
      ]
    },
    {
      "cell_type": "markdown",
      "metadata": {
        "id": "ISiNXA9XXNBW"
      },
      "source": [
        "1) Cho một list các số nguyên num_list và một sliding window có kích thước size k di\n",
        "chuyển từ trái sang phải. Mỗi lần dịch chuyển 1 vị trí sang phải có thể nhìn thấy\n",
        "đươc k số trong num_list và tìm số lớn nhất trong k số này sau mỗi lần trượt. k phải lớn\n",
        "hơn hoặc bằng 1\n",
        "\n",
        "Input: num_list = [3, 4, 5, 1, -44 , 5 ,10, 12 ,33, 1]\n",
        "\n",
        "Output: [5, 5, 5, 5, 10, 12, 33, 33]"
      ]
    },
    {
      "cell_type": "code",
      "metadata": {
        "id": "FVbKCppiXWX_"
      },
      "source": [
        "def max_list(num_list, k):\n",
        "  if len(num_list) == 0:\n",
        "    return []\n",
        "  if k > len(num_list):\n",
        "    return [max(num_list)]\n",
        "  else:\n",
        "    ans = [max(num_list[:k])]\n",
        "    for i in range(k, len(num_list)):\n",
        "      ans.append( max(num_list[i], ans[-1]))\n",
        "    return ans\n"
      ],
      "execution_count": 12,
      "outputs": []
    },
    {
      "cell_type": "code",
      "metadata": {
        "colab": {
          "base_uri": "https://localhost:8080/"
        },
        "id": "DNHNwZKmXpIQ",
        "outputId": "83b2232c-1f80-4f36-ace7-16ca38e55274"
      },
      "source": [
        "num_list = [3, 4, 5, 1, -44 , 5 ,10, 12 ,33, 1]\n",
        "max_numbers = max_list(num_list, 3)\n",
        "max_numbers"
      ],
      "execution_count": 13,
      "outputs": [
        {
          "output_type": "execute_result",
          "data": {
            "text/plain": [
              "[5, 5, 5, 5, 10, 12, 33, 33]"
            ]
          },
          "metadata": {
            "tags": []
          },
          "execution_count": 13
        }
      ]
    },
    {
      "cell_type": "markdown",
      "metadata": {
        "id": "QceQgL94Xzpn"
      },
      "source": [
        "2) Cho hai list các số nguyên là num_list1 và num_list2, trả về các list các số cũng xuất\n",
        "hiện trong hai list, thứ tự không quan trọng."
      ]
    },
    {
      "cell_type": "code",
      "metadata": {
        "id": "d8I_nxRfZR3e"
      },
      "source": [
        "def duplicate_list(num_list1, num_list2):\n",
        "  num_list1.sort()\n",
        "  num_list2.sort()\n",
        "  i = 0\n",
        "  j = 0\n",
        "  ans =[]\n",
        "\n",
        "  while i < len(num_list1) and j < len(num_list2):\n",
        "    if num_list1[i] == num_list2[j]:\n",
        "      ans.append(num_list1[i])\n",
        "      i += 1\n",
        "      j += 1\n",
        "    elif num_list1[i] < num_list2[j]:\n",
        "      i += 1\n",
        "    else:\n",
        "      j += 1\n",
        "  \n",
        "  return ans\n"
      ],
      "execution_count": 76,
      "outputs": []
    },
    {
      "cell_type": "code",
      "metadata": {
        "colab": {
          "base_uri": "https://localhost:8080/"
        },
        "id": "YvfEc9eDjMl9",
        "outputId": "cf1252fb-721f-40c9-db26-d809ed7c5e34"
      },
      "source": [
        "num_list1 = [1, 2, 2, 1]\n",
        "num_list2 = [2, 2]\n",
        "print(duplicate_list(num_list1, num_list2))"
      ],
      "execution_count": 77,
      "outputs": [
        {
          "output_type": "stream",
          "text": [
            "[2, 2]\n"
          ],
          "name": "stdout"
        }
      ]
    },
    {
      "cell_type": "code",
      "metadata": {
        "colab": {
          "base_uri": "https://localhost:8080/"
        },
        "id": "7rQVs_yzkvHK",
        "outputId": "d81f036d-1311-4b73-d0a4-b151657fe529"
      },
      "source": [
        "num_list1 = [4, 9, 5]\n",
        "num_list2 = [9, 4, 9, 8, 4]\n",
        "print(duplicate_list(num_list1, num_list2))"
      ],
      "execution_count": 78,
      "outputs": [
        {
          "output_type": "stream",
          "text": [
            "[4, 9]\n"
          ],
          "name": "stdout"
        }
      ]
    },
    {
      "cell_type": "markdown",
      "metadata": {
        "id": "MtTWD9JxaRve"
      },
      "source": [
        "3)Tìm hiểu về stack và tạo ra một class stack gồm các function sau\n",
        "\n",
        " push(x): đẩy giá trị x vào stack khi stack không đầy\n",
        "\n",
        " pop: remove element trên top của stack và trả về giá trị đó\n",
        "\n",
        " top: trả về giá trị top hiện tại\n",
        "\n",
        "\n",
        " empty: trả về True nếu stack rỗng và False nếu có element trong stack"
      ]
    },
    {
      "cell_type": "code",
      "metadata": {
        "id": "hjz-hgMKaWtK"
      },
      "source": [
        "class MyStack:\n",
        "  def __init__(self, x):\n",
        "    self.size = x\n",
        "    self.rear = 0\n",
        "    self.stack = []\n",
        "\n",
        "  def push(self, x) :\n",
        "    if self.rear == self.size:\n",
        "      print(\"Stack is currently full!\")\n",
        "      return\n",
        "    self.stack.append(x)\n",
        "    self.rear += 1\n",
        "  \n",
        "  def top(self):\n",
        "    return self.stack[self.rear-1]\n",
        "\n",
        "  def pop(self):\n",
        "    if self.empty():\n",
        "      print(\"Stack is empty!\")\n",
        "      return\n",
        "    self.rear -= 1;\n",
        "    return self.stack.pop()\n",
        "    # top = self.stack[self.rear-1];\n",
        "    # self.stack = self.stack[:self.rear-1]\n",
        "    # self.rear -= 1\n",
        "    # return top;\n",
        "\n",
        "  def empty(self):\n",
        "    return self.rear == 0"
      ],
      "execution_count": 45,
      "outputs": []
    },
    {
      "cell_type": "code",
      "metadata": {
        "colab": {
          "base_uri": "https://localhost:8080/"
        },
        "id": "hBEGxUdCaxnd",
        "outputId": "502dd00a-435c-4e69-e428-5406e762ec70"
      },
      "source": [
        "stack = MyStack(2)\n",
        "stack.push(1)\n",
        "stack.push(2)\n",
        "stack.push(3)\n",
        "print(stack.top()) \n",
        "print(stack.pop())\n",
        "print(stack.pop()) \n",
        "print(stack.empty()) "
      ],
      "execution_count": 46,
      "outputs": [
        {
          "output_type": "stream",
          "text": [
            "Stack is currently full!\n",
            "2\n",
            "2\n",
            "1\n",
            "True\n"
          ],
          "name": "stdout"
        }
      ]
    },
    {
      "cell_type": "markdown",
      "metadata": {
        "id": "SvJZcmYEcGhj"
      },
      "source": [
        "4)(Optional): Tìm hiểu về Queue và thực hiện một class Queue\n",
        "\n",
        "    EnQueue: Thêm phần tử vào cuối(rear) của Queue.\n",
        "    DeQueue: Xóa phần tử khỏi đầu(front) của Queue. Nếu Queue rỗng thì thông báo lỗi.\n",
        "    IsEmpty: Kiểm tra Queue rỗng.\n",
        "    Front: Lấy giá trị của phần tử ở đầu(front) của Queue. Lấy giá trị không làm thay đổi Queue.\n"
      ]
    },
    {
      "cell_type": "code",
      "metadata": {
        "id": "aaD6N3ZEdjek"
      },
      "source": [
        "class MyQueue:\n",
        "  def __init__(self, x):\n",
        "    self.size = x\n",
        "    self.queue = []\n",
        "    self.rear = 0\n",
        "  \n",
        "  def enqueue(self, x):\n",
        "    if self.rear == self.size:\n",
        "      print(\"Queue is currently full!\")\n",
        "      return\n",
        "    self.queue.append(x)\n",
        "    self.rear += 1\n",
        "\n",
        "  def dequeue(self):\n",
        "    if self.isEmpty():\n",
        "      print(\"Queue is empty\")\n",
        "      return\n",
        "    \n",
        "    self.queue = self.queue[1:]\n",
        "    self.rear -= 1\n",
        "  \n",
        "  def isEmpty(self):\n",
        "    return self.rear == 0;\n",
        "\n",
        "  def front(self):\n",
        "    if self.isEmpty():\n",
        "      print(\"Queue is empty\")\n",
        "      return\n",
        "    return self.queue[0]\n",
        "    \n",
        "    "
      ],
      "execution_count": 60,
      "outputs": []
    },
    {
      "cell_type": "code",
      "metadata": {
        "colab": {
          "base_uri": "https://localhost:8080/"
        },
        "id": "SiDKy243feMj",
        "outputId": "9f5cc0e5-2d89-4258-dc51-7887dc72518f"
      },
      "source": [
        "queue = MyQueue(2)\n",
        "queue.enqueue(1)\n",
        "queue.enqueue(2)\n",
        "queue.enqueue(3)\n",
        "print(queue.front())\n",
        "queue.dequeue()\n",
        "print(queue.front())\n",
        "queue.dequeue()\n",
        "print(queue.isEmpty())\n",
        "print(queue.front())\n",
        "queue.dequeue()"
      ],
      "execution_count": 61,
      "outputs": [
        {
          "output_type": "stream",
          "text": [
            "Queue is currently full!\n",
            "1\n",
            "2\n",
            "True\n",
            "Queue is empty\n",
            "None\n",
            "Queue is empty\n"
          ],
          "name": "stdout"
        }
      ]
    },
    {
      "cell_type": "markdown",
      "metadata": {
        "id": "mY00x2BWfgff"
      },
      "source": [
        "5) Cho một chuỗi DNA, được tạo bởi các nucleotides 'A', 'C', 'G' và 'T'. Khi nghiên cứu\n",
        "về DNA cần phải nhận dạng các chuỗi được lập lại trong DNA. Bài tóa cho một\n",
        "chuối s là DNA, hãy trả về các chuỗi có 10 chữ cái được lập lại nhiều hơn một lần dựa\n",
        "vào s (Thứ tự trả về không quan trọng).\n",
        "\n",
        "Ví Dụ:\n",
        "\n",
        "s = \"TTTTTGGGGGTTTTTGGGGGGTTTTTAAACCC\"\n",
        "\n",
        "ouput = ['TTTTTGGGGG', 'GGGGGTTTTT']\n",
        "\n",
        "s = \"TTTTTTTTTTTTTTTTTTTT\"\n",
        "\n",
        "ouput = ['TTTTTTTTTT']"
      ]
    },
    {
      "cell_type": "code",
      "metadata": {
        "id": "KuieIxBWg2dQ"
      },
      "source": [
        "def repeat(s):\n",
        "  if len(s) <= 10:\n",
        "    return []\n",
        "\n",
        "  ans = []\n",
        "  for i in range(10, len(s)):\n",
        "    cur = s[(i-10):i]\n",
        "    if s.count(cur) > 1 and cur not in ans:\n",
        "      ans.append(cur)\n",
        "  return ans\n"
      ],
      "execution_count": 64,
      "outputs": []
    },
    {
      "cell_type": "code",
      "metadata": {
        "colab": {
          "base_uri": "https://localhost:8080/"
        },
        "id": "S2F_BNFuhWwb",
        "outputId": "13df2ed3-cffc-466e-89c1-fed3369d832b"
      },
      "source": [
        "s = \"TTTTTGGGGGTTTTTGGGGGGTTTTTAAACCC\"\n",
        "print(repeat(s))"
      ],
      "execution_count": 65,
      "outputs": [
        {
          "output_type": "stream",
          "text": [
            "['TTTTTGGGGG', 'GGGGGTTTTT']\n"
          ],
          "name": "stdout"
        }
      ]
    }
  ]
}