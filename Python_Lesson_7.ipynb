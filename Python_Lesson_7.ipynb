{
  "nbformat": 4,
  "nbformat_minor": 0,
  "metadata": {
    "colab": {
      "name": "Python-Lesson 7",
      "provenance": [],
      "mount_file_id": "1X258sFtN_gL3c7Jdk30ZWeFl3OE11wd3",
      "authorship_tag": "ABX9TyOE5ZAFBBmk6NqrWAb8dAkR",
      "include_colab_link": true
    },
    "kernelspec": {
      "name": "python3",
      "display_name": "Python 3"
    },
    "language_info": {
      "name": "python"
    }
  },
  "cells": [
    {
      "cell_type": "markdown",
      "metadata": {
        "id": "view-in-github",
        "colab_type": "text"
      },
      "source": [
        "<a href=\"https://colab.research.google.com/github/ThangDoan2001/API-Python-Learn/blob/master/Python_Lesson_7.ipynb\" target=\"_parent\"><img src=\"https://colab.research.google.com/assets/colab-badge.svg\" alt=\"Open In Colab\"/></a>"
      ]
    },
    {
      "cell_type": "markdown",
      "metadata": {
        "id": "YZeqIejMOesH"
      },
      "source": [
        "#Set is unordered and unindexed. It cannot cotain unhashable type : list and dict\n",
        "\n",
        "Some function:\n",
        "1. copy()\n",
        "2. add()\n",
        "3. union()\n",
        "4. difference()\n",
        "5. difference_update()\n",
        "6. symmetric_difference()\n",
        "7. symmetric_difference_update()\n",
        "8. remove() - error\n",
        "9. dicard() - no error"
      ]
    },
    {
      "cell_type": "code",
      "metadata": {
        "colab": {
          "base_uri": "https://localhost:8080/"
        },
        "id": "dNrUa2idkVqp",
        "outputId": "4a3a74ee-d7a6-4a7a-d76b-cc65a122d546"
      },
      "source": [
        "a_list = [i*2 for i in range(10)]\n",
        "print(a_list)\n",
        "print(type)"
      ],
      "execution_count": 1,
      "outputs": [
        {
          "output_type": "stream",
          "text": [
            "[0, 2, 4, 6, 8, 10, 12, 14, 16, 18]\n",
            "<class 'list'>\n"
          ],
          "name": "stdout"
        }
      ]
    },
    {
      "cell_type": "code",
      "metadata": {
        "colab": {
          "base_uri": "https://localhost:8080/"
        },
        "id": "sGP1Zt1NkdlJ",
        "outputId": "6500381a-2172-4a98-8627-faa68bdb60b4"
      },
      "source": [
        "# Create a set\n",
        "a_set = {i*i for i in range(10)}\n",
        "print(a_set)\n",
        "print(type(a_set))\n",
        "# Normally, this is an unordered set and using hash function to store\n"
      ],
      "execution_count": 2,
      "outputs": [
        {
          "output_type": "stream",
          "text": [
            "{0, 1, 64, 4, 36, 9, 16, 49, 81, 25}\n",
            "<class 'set'>\n"
          ],
          "name": "stdout"
        }
      ]
    },
    {
      "cell_type": "code",
      "metadata": {
        "colab": {
          "base_uri": "https://localhost:8080/"
        },
        "id": "rwoXW_LqkmIf",
        "outputId": "7bf67336-77ee-44ab-f0a7-84cebc4b8b59"
      },
      "source": [
        "# copy\n",
        "set1 = {i*i for i in range(10)}\n",
        "set2 = set1.copy()\n",
        "print(set1)\n",
        "print(set2)"
      ],
      "execution_count": 3,
      "outputs": [
        {
          "output_type": "stream",
          "text": [
            "{0, 1, 64, 4, 36, 9, 16, 49, 81, 25}\n",
            "{0, 1, 64, 4, 36, 9, 16, 49, 81, 25}\n"
          ],
          "name": "stdout"
        }
      ]
    },
    {
      "cell_type": "code",
      "metadata": {
        "id": "fCJkPHeCmqkX"
      },
      "source": [
        "# Because set is unordered so can use index\n",
        "# Can't use set1[0]"
      ],
      "execution_count": 4,
      "outputs": []
    },
    {
      "cell_type": "code",
      "metadata": {
        "colab": {
          "base_uri": "https://localhost:8080/"
        },
        "id": "EFXIGK0JnF2e",
        "outputId": "35273b7d-9e26-4e47-a4d9-77e4d609b254"
      },
      "source": [
        "for v in set1:\n",
        "  v = 5\n",
        "print(set1)"
      ],
      "execution_count": 5,
      "outputs": [
        {
          "output_type": "stream",
          "text": [
            "{0, 1, 64, 4, 36, 9, 16, 49, 81, 25}\n"
          ],
          "name": "stdout"
        }
      ]
    },
    {
      "cell_type": "code",
      "metadata": {
        "colab": {
          "base_uri": "https://localhost:8080/"
        },
        "id": "iDwm3gzdnJUt",
        "outputId": "f2fb2ad0-5c53-456e-fc09-ff40b89821e9"
      },
      "source": [
        "# Because set using hash function(need a fixed index to correspond with each element)-> set can't store mutable object (list)\n",
        "# But set can store string, tuple because they are immutable\n",
        "# Can't init set1 = {1, 2, [3, 4]}\n",
        "\n",
        "set1 = {1, 2, (3, 4)} \n",
        "set1"
      ],
      "execution_count": 6,
      "outputs": [
        {
          "output_type": "execute_result",
          "data": {
            "text/plain": [
              "{(3, 4), 1, 2}"
            ]
          },
          "metadata": {
            "tags": []
          },
          "execution_count": 6
        }
      ]
    },
    {
      "cell_type": "code",
      "metadata": {
        "colab": {
          "base_uri": "https://localhost:8080/"
        },
        "id": "QVHTEjXuoHsm",
        "outputId": "382bb9e2-9561-45e9-ac19-e06343531465"
      },
      "source": [
        "# add an item\n",
        "set1.add(\"bear\")\n",
        "set1"
      ],
      "execution_count": 7,
      "outputs": [
        {
          "output_type": "execute_result",
          "data": {
            "text/plain": [
              "{(3, 4), 1, 2, 'bear'}"
            ]
          },
          "metadata": {
            "tags": []
          },
          "execution_count": 7
        }
      ]
    },
    {
      "cell_type": "code",
      "metadata": {
        "colab": {
          "base_uri": "https://localhost:8080/"
        },
        "id": "pU099B7lomgb",
        "outputId": "a5d7a538-1a3d-4c10-f44c-b55e9ad086a5"
      },
      "source": [
        "# join two sets\n",
        "set1 = {\"cat\", \"dog\"}\n",
        "set2 = {\"dog\", \"duck\", \"bear\"}\n",
        "set3 = set1.union(set2)\n",
        "set3"
      ],
      "execution_count": 8,
      "outputs": [
        {
          "output_type": "execute_result",
          "data": {
            "text/plain": [
              "{'bear', 'cat', 'dog', 'duck'}"
            ]
          },
          "metadata": {
            "tags": []
          },
          "execution_count": 8
        }
      ]
    },
    {
      "cell_type": "code",
      "metadata": {
        "colab": {
          "base_uri": "https://localhost:8080/"
        },
        "id": "1DYodc63oylk",
        "outputId": "44c756ff-2d13-4211-efb0-92194a68ae3d"
      },
      "source": [
        "# insert a set to another set\n",
        "set1.update({\"chicken\", \"Duck\"})\n",
        "set1"
      ],
      "execution_count": 9,
      "outputs": [
        {
          "output_type": "execute_result",
          "data": {
            "text/plain": [
              "{'Duck', 'cat', 'chicken', 'dog'}"
            ]
          },
          "metadata": {
            "tags": []
          },
          "execution_count": 9
        }
      ]
    },
    {
      "cell_type": "code",
      "metadata": {
        "colab": {
          "base_uri": "https://localhost:8080/"
        },
        "id": "a3zrrq2jrzA9",
        "outputId": "84c4946b-f220-41ed-e628-23d9c2e30ba1"
      },
      "source": [
        "# difference\n",
        "set1 = {\"apple\", \"banana\", \"cherry\"}\n",
        "set2 = {\"pineapple\", \"apple\"}\n",
        "set3 = set1.difference(set2)\n",
        "set3"
      ],
      "execution_count": 10,
      "outputs": [
        {
          "output_type": "execute_result",
          "data": {
            "text/plain": [
              "{'banana', 'cherry'}"
            ]
          },
          "metadata": {
            "tags": []
          },
          "execution_count": 10
        }
      ]
    },
    {
      "cell_type": "code",
      "metadata": {
        "colab": {
          "base_uri": "https://localhost:8080/"
        },
        "id": "8q5eUXULr_2p",
        "outputId": "ec810637-29e9-496f-eb90-dd0b6df1f4f8"
      },
      "source": [
        "# difference_update function\n",
        "set1.difference_update(set2)\n",
        "\n",
        "print(set1)"
      ],
      "execution_count": 11,
      "outputs": [
        {
          "output_type": "stream",
          "text": [
            "{'banana', 'cherry'}\n"
          ],
          "name": "stdout"
        }
      ]
    },
    {
      "cell_type": "code",
      "metadata": {
        "colab": {
          "base_uri": "https://localhost:8080/"
        },
        "id": "unqr2EXisJLT",
        "outputId": "45cb0ad6-5a5a-4a12-8eb8-a949e10c43eb"
      },
      "source": [
        "# symmetric_difference\n",
        "# set3 = set1-set2 + set2-set1\n",
        "set1 = {\"apple\", \"banana\", \"cherry\"}\n",
        "set2 = {\"pineapple\", \"apple\"}\n",
        "set3 = set1.symmetric_difference(set2)\n",
        "set3"
      ],
      "execution_count": 13,
      "outputs": [
        {
          "output_type": "execute_result",
          "data": {
            "text/plain": [
              "{'banana', 'cherry', 'pineapple'}"
            ]
          },
          "metadata": {
            "tags": []
          },
          "execution_count": 13
        }
      ]
    },
    {
      "cell_type": "code",
      "metadata": {
        "colab": {
          "base_uri": "https://localhost:8080/"
        },
        "id": "0BCejEynLm6t",
        "outputId": "4e121757-5acb-4c79-9340-9eea054e76f7"
      },
      "source": [
        "# symmectric_difference_update\n",
        "set1.symmetric_difference_update(set2)\n",
        "set1"
      ],
      "execution_count": 14,
      "outputs": [
        {
          "output_type": "execute_result",
          "data": {
            "text/plain": [
              "{'banana', 'cherry', 'pineapple'}"
            ]
          },
          "metadata": {
            "tags": []
          },
          "execution_count": 14
        }
      ]
    },
    {
      "cell_type": "code",
      "metadata": {
        "colab": {
          "base_uri": "https://localhost:8080/"
        },
        "id": "BuK-h9g2Lur4",
        "outputId": "f5cc54ee-c993-45d3-f192-a5da85b8fe9a"
      },
      "source": [
        "# AND(&)\n",
        "set1 = {1, 2, 3}\n",
        "set2 = {3, 4, 5}\n",
        "print(set1 & set2)"
      ],
      "execution_count": 15,
      "outputs": [
        {
          "output_type": "stream",
          "text": [
            "{3}\n"
          ],
          "name": "stdout"
        }
      ]
    },
    {
      "cell_type": "code",
      "metadata": {
        "colab": {
          "base_uri": "https://localhost:8080/"
        },
        "id": "pVH2g3XmL4wn",
        "outputId": "f7dca675-f659-47f8-8283-fe4ecbfe2ad1"
      },
      "source": [
        "# OR(|)\n",
        "print(set1|set2)"
      ],
      "execution_count": 16,
      "outputs": [
        {
          "output_type": "stream",
          "text": [
            "{1, 2, 3, 4, 5}\n"
          ],
          "name": "stdout"
        }
      ]
    },
    {
      "cell_type": "code",
      "metadata": {
        "colab": {
          "base_uri": "https://localhost:8080/"
        },
        "id": "fa8Vrj_AL88P",
        "outputId": "e64ffb2d-228c-4c25-8198-cebefe97fa87"
      },
      "source": [
        "# XOR(^) ~ symmetric difference\n",
        "print(set1^set2)"
      ],
      "execution_count": 17,
      "outputs": [
        {
          "output_type": "stream",
          "text": [
            "{1, 2, 4, 5}\n"
          ],
          "name": "stdout"
        }
      ]
    },
    {
      "cell_type": "code",
      "metadata": {
        "colab": {
          "base_uri": "https://localhost:8080/"
        },
        "id": "mbchdkKIMArp",
        "outputId": "c9cb87d7-0bc8-4861-99f0-194fd5932aed"
      },
      "source": [
        "# Subtraction \n",
        "print(set1 - set2)\n"
      ],
      "execution_count": 18,
      "outputs": [
        {
          "output_type": "stream",
          "text": [
            "{1, 2}\n"
          ],
          "name": "stdout"
        }
      ]
    },
    {
      "cell_type": "code",
      "metadata": {
        "colab": {
          "base_uri": "https://localhost:8080/"
        },
        "id": "TA2zP71YMJjy",
        "outputId": "7fc44b10-67c6-4a9e-8935-5937ec6ee680"
      },
      "source": [
        "#remove\n",
        "animals = {\"cat\", \"dog\", \"bird\"}\n",
        "animals.remove(\"cat\")\n",
        "animals"
      ],
      "execution_count": 21,
      "outputs": [
        {
          "output_type": "execute_result",
          "data": {
            "text/plain": [
              "{'bird', 'dog'}"
            ]
          },
          "metadata": {
            "tags": []
          },
          "execution_count": 21
        }
      ]
    },
    {
      "cell_type": "code",
      "metadata": {
        "id": "cucs4_zfMM1v"
      },
      "source": [
        "# remove element that does not exist will cause an error "
      ],
      "execution_count": null,
      "outputs": []
    },
    {
      "cell_type": "code",
      "metadata": {
        "colab": {
          "base_uri": "https://localhost:8080/"
        },
        "id": "Kd4FDEYGNRF-",
        "outputId": "789dfb2b-b767-4ff7-9719-ab4440d65744"
      },
      "source": [
        "#discard(item)\n",
        "# Remove an item from the set if it is present\n",
        "# remove se bao loi neu phan tu khong ton tai\n",
        "# discard thi khong\n",
        "animals.discard(\"cat\")\n",
        "animals"
      ],
      "execution_count": 22,
      "outputs": [
        {
          "output_type": "execute_result",
          "data": {
            "text/plain": [
              "{'bird', 'dog'}"
            ]
          },
          "metadata": {
            "tags": []
          },
          "execution_count": 22
        }
      ]
    },
    {
      "cell_type": "markdown",
      "metadata": {
        "id": "683V8F5uO5OY"
      },
      "source": [
        "# Dictionary\n",
        "\n",
        "Some functions:\n",
        "1. copy()\n",
        "2. keys()\n",
        "3. values()\n",
        "4. items()\n",
        "5. get(x) - None when not exist compared to error with indexing \n",
        "6. pop(x) - return and remove - error when not exist\n",
        "7. popitem () - return and remove the last element - error when empty\n",
        "8. clear()\n",
        "9. del(x) - error when not exist\n",
        "10. setdefault()\n",
        "\n"
      ]
    },
    {
      "cell_type": "code",
      "metadata": {
        "colab": {
          "base_uri": "https://localhost:8080/"
        },
        "id": "iPmysye6OZvr",
        "outputId": "59fa59a7-33a2-4439-c4fc-08fec37cbc6e"
      },
      "source": [
        "# dic comprehension\n",
        "a_dict = {i:i*i for i in range(10)}\n",
        "a_dict"
      ],
      "execution_count": 25,
      "outputs": [
        {
          "output_type": "execute_result",
          "data": {
            "text/plain": [
              "{0: 0, 1: 1, 2: 4, 3: 9, 4: 16, 5: 25, 6: 36, 7: 49, 8: 64, 9: 81}"
            ]
          },
          "metadata": {
            "tags": []
          },
          "execution_count": 25
        }
      ]
    },
    {
      "cell_type": "code",
      "metadata": {
        "colab": {
          "base_uri": "https://localhost:8080/"
        },
        "id": "LYkaoX0pPL7U",
        "outputId": "05673633-23a4-4442-cae9-0d751a8d95a2"
      },
      "source": [
        "keys = {i*i for i in range(5)}\n",
        "values = [str(i) for i in range (5)]\n",
        "\n",
        "a_dict = dict(zip(keys, values))\n",
        "a_dict"
      ],
      "execution_count": 31,
      "outputs": [
        {
          "output_type": "execute_result",
          "data": {
            "text/plain": [
              "{0: '0', 1: '1', 4: '2', 9: '3', 16: '4'}"
            ]
          },
          "metadata": {
            "tags": []
          },
          "execution_count": 31
        }
      ]
    },
    {
      "cell_type": "code",
      "metadata": {
        "colab": {
          "base_uri": "https://localhost:8080/"
        },
        "id": "XDMxEiUlPV8q",
        "outputId": "67818331-94a1-46ca-b084-ac02ca1d28b6"
      },
      "source": [
        "# update a value\n",
        "a_dict[0] = '1'\n",
        "a_dict"
      ],
      "execution_count": 32,
      "outputs": [
        {
          "output_type": "execute_result",
          "data": {
            "text/plain": [
              "{0: '1', 1: '1', 4: '2', 9: '3', 16: '4'}"
            ]
          },
          "metadata": {
            "tags": []
          },
          "execution_count": 32
        }
      ]
    },
    {
      "cell_type": "code",
      "metadata": {
        "colab": {
          "base_uri": "https://localhost:8080/"
        },
        "id": "-IlfqjF-QcqE",
        "outputId": "46b886e3-0b59-4f5a-d8d4-f0d236339170"
      },
      "source": [
        "a_dict1 = a_dict.copy()\n",
        "a_dict1"
      ],
      "execution_count": 33,
      "outputs": [
        {
          "output_type": "execute_result",
          "data": {
            "text/plain": [
              "{0: '1', 1: '1', 4: '2', 9: '3', 16: '4'}"
            ]
          },
          "metadata": {
            "tags": []
          },
          "execution_count": 33
        }
      ]
    },
    {
      "cell_type": "code",
      "metadata": {
        "colab": {
          "base_uri": "https://localhost:8080/"
        },
        "id": "QcnHave3Qg-E",
        "outputId": "360cf354-5058-46e7-d8ed-9e0c52ff7720"
      },
      "source": [
        "# get keys \n",
        "keys = a_dict.keys()\n",
        "for key in keys:\n",
        "  print(key)"
      ],
      "execution_count": 35,
      "outputs": [
        {
          "output_type": "stream",
          "text": [
            "0\n",
            "1\n",
            "4\n",
            "9\n",
            "16\n"
          ],
          "name": "stdout"
        }
      ]
    },
    {
      "cell_type": "code",
      "metadata": {
        "colab": {
          "base_uri": "https://localhost:8080/"
        },
        "id": "231mOkdRQ3t0",
        "outputId": "e74a6f4b-dae4-41a9-9d1a-4e1a97b9108d"
      },
      "source": [
        "for key in a_dict:\n",
        "  print(key)"
      ],
      "execution_count": 36,
      "outputs": [
        {
          "output_type": "stream",
          "text": [
            "0\n",
            "1\n",
            "4\n",
            "9\n",
            "16\n"
          ],
          "name": "stdout"
        }
      ]
    },
    {
      "cell_type": "code",
      "metadata": {
        "colab": {
          "base_uri": "https://localhost:8080/"
        },
        "id": "ajFFggP1SKTt",
        "outputId": "59912768-182f-49e2-8f3f-e1c1f328fb9c"
      },
      "source": [
        "values = a_dict.values()\n",
        "values"
      ],
      "execution_count": 38,
      "outputs": [
        {
          "output_type": "execute_result",
          "data": {
            "text/plain": [
              "dict_values(['1', '1', '2', '3', '4'])"
            ]
          },
          "metadata": {
            "tags": []
          },
          "execution_count": 38
        }
      ]
    },
    {
      "cell_type": "code",
      "metadata": {
        "colab": {
          "base_uri": "https://localhost:8080/"
        },
        "id": "eyMQk9gKSWYs",
        "outputId": "487f98e8-b01d-4a29-c19c-abc723134579"
      },
      "source": [
        "items = a_dict.items()\n",
        "for key, value in items:\n",
        "  print(key, value)"
      ],
      "execution_count": 39,
      "outputs": [
        {
          "output_type": "stream",
          "text": [
            "0 1\n",
            "1 1\n",
            "4 2\n",
            "9 3\n",
            "16 4\n"
          ],
          "name": "stdout"
        }
      ]
    },
    {
      "cell_type": "code",
      "metadata": {
        "colab": {
          "base_uri": "https://localhost:8080/",
          "height": 36
        },
        "id": "HXyzb5wbSioz",
        "outputId": "47c581bf-22ca-4fb4-82ac-dd282f62f3ee"
      },
      "source": [
        "a_dict.get(1)"
      ],
      "execution_count": 43,
      "outputs": [
        {
          "output_type": "execute_result",
          "data": {
            "application/vnd.google.colaboratory.intrinsic+json": {
              "type": "string"
            },
            "text/plain": [
              "'1'"
            ]
          },
          "metadata": {
            "tags": []
          },
          "execution_count": 43
        }
      ]
    },
    {
      "cell_type": "code",
      "metadata": {
        "colab": {
          "base_uri": "https://localhost:8080/"
        },
        "id": "Muv08k0ZSmxn",
        "outputId": "5f0fe823-baaa-49df-dd7a-29bb1db48f4e"
      },
      "source": [
        "item = a_dict.popitem()\n",
        "print(item)\n",
        "print(a_dict)\n",
        "\n",
        "item = a_dict.popitem()\n",
        "print(item)\n",
        "print(a_dict)"
      ],
      "execution_count": 47,
      "outputs": [
        {
          "output_type": "stream",
          "text": [
            "(16, '4')\n",
            "{0: '1', 4: '2', 9: '3'}\n",
            "(9, '3')\n",
            "{0: '1', 4: '2'}\n"
          ],
          "name": "stdout"
        }
      ]
    },
    {
      "cell_type": "code",
      "metadata": {
        "colab": {
          "base_uri": "https://localhost:8080/"
        },
        "id": "QSSHeq0qS3-y",
        "outputId": "23a41f82-c25b-4213-be19-badfc23a7a96"
      },
      "source": [
        "item = a_dict.pop(0)\n",
        "print(item)"
      ],
      "execution_count": 48,
      "outputs": [
        {
          "output_type": "stream",
          "text": [
            "1\n"
          ],
          "name": "stdout"
        }
      ]
    },
    {
      "cell_type": "code",
      "metadata": {
        "colab": {
          "base_uri": "https://localhost:8080/"
        },
        "id": "vJcBcq9ZTVhT",
        "outputId": "627ddac3-31d7-4a06-a04e-b5a526743c6b"
      },
      "source": [
        "# setdefault()\n",
        "\n",
        "fruits = {'banana': 2}\n",
        "fruits.setdefault('apple', 0)\n",
        "\n",
        "fruits['apple'] += 10\n",
        "print(fruits)"
      ],
      "execution_count": 49,
      "outputs": [
        {
          "output_type": "stream",
          "text": [
            "{'banana': 2, 'apple': 10}\n"
          ],
          "name": "stdout"
        }
      ]
    },
    {
      "cell_type": "code",
      "metadata": {
        "colab": {
          "base_uri": "https://localhost:8080/"
        },
        "id": "-v7mCXhiU3ep",
        "outputId": "d71aefd9-3236-47ba-b553-bff14142757c"
      },
      "source": [
        "# merge two dict\n",
        "fruits = {'banana': 2, 'apple':4}\n",
        "cereal = {'rice': 3, 'corn': 7}\n",
        "\n",
        "result = {**fruits, ** cereal}\n",
        "result"
      ],
      "execution_count": 50,
      "outputs": [
        {
          "output_type": "execute_result",
          "data": {
            "text/plain": [
              "{'apple': 4, 'banana': 2, 'corn': 7, 'rice': 3}"
            ]
          },
          "metadata": {
            "tags": []
          },
          "execution_count": 50
        }
      ]
    },
    {
      "cell_type": "code",
      "metadata": {
        "colab": {
          "base_uri": "https://localhost:8080/"
        },
        "id": "fjzgr_KWWlJS",
        "outputId": "1e508864-984e-4294-b1a5-cabcf6cd4d0f"
      },
      "source": [
        "# remove empty items\n",
        "\n",
        "fruits = {'banana': 2, 'apple':None}\n",
        "\n",
        "dict1 = {key:value for (key,value) \n",
        "                    in fruits.items()\n",
        "                    if value is not None}\n",
        "\n",
        "dict1\n"
      ],
      "execution_count": 51,
      "outputs": [
        {
          "output_type": "execute_result",
          "data": {
            "text/plain": [
              "{'banana': 2}"
            ]
          },
          "metadata": {
            "tags": []
          },
          "execution_count": 51
        }
      ]
    },
    {
      "cell_type": "code",
      "metadata": {
        "colab": {
          "base_uri": "https://localhost:8080/"
        },
        "id": "PuzbzqGrW0Lo",
        "outputId": "641591c5-c552-4aa7-87e3-ace30fc782d2"
      },
      "source": [
        "# common error\n",
        "fruits = ['apple', 'banana', 'peach']\n",
        "for fruit in fruits:\n",
        "  if(fruit == 'banana'):\n",
        "    fruits.remove('banana')\n",
        "\n",
        "  print('Do something with fruits - ', fruit)"
      ],
      "execution_count": 55,
      "outputs": [
        {
          "output_type": "stream",
          "text": [
            "Do something with fruits -  apple\n",
            "Do something with fruits -  banana\n"
          ],
          "name": "stdout"
        }
      ]
    },
    {
      "cell_type": "code",
      "metadata": {
        "id": "rxWnXx5NXsou"
      },
      "source": [
        ""
      ],
      "execution_count": 56,
      "outputs": []
    },
    {
      "cell_type": "code",
      "metadata": {
        "id": "BDwjVrT7YzjH"
      },
      "source": [
        ""
      ],
      "execution_count": null,
      "outputs": []
    }
  ]
}