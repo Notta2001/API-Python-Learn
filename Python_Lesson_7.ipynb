{
  "nbformat": 4,
  "nbformat_minor": 0,
  "metadata": {
    "colab": {
      "name": "Python-Lesson 7",
      "provenance": [],
      "mount_file_id": "1X258sFtN_gL3c7Jdk30ZWeFl3OE11wd3",
      "authorship_tag": "ABX9TyMRN+8rTlcHPNimdLLT5pxs",
      "include_colab_link": true
    },
    "kernelspec": {
      "name": "python3",
      "display_name": "Python 3"
    },
    "language_info": {
      "name": "python"
    }
  },
  "cells": [
    {
      "cell_type": "markdown",
      "metadata": {
        "id": "view-in-github",
        "colab_type": "text"
      },
      "source": [
        "<a href=\"https://colab.research.google.com/github/ThangDoan2001/API-Python-Learn/blob/master/Python_Lesson_7.ipynb\" target=\"_parent\"><img src=\"https://colab.research.google.com/assets/colab-badge.svg\" alt=\"Open In Colab\"/></a>"
      ]
    },
    {
      "cell_type": "code",
      "metadata": {
        "colab": {
          "base_uri": "https://localhost:8080/"
        },
        "id": "dNrUa2idkVqp",
        "outputId": "18bfef9a-2d6d-4913-cdeb-d15bd628ac2b"
      },
      "source": [
        "a_list = [i*2 for i in range(10)]\n",
        "print(a_list)\n",
        "print(type(a_list))"
      ],
      "execution_count": 2,
      "outputs": [
        {
          "output_type": "stream",
          "text": [
            "[0, 2, 4, 6, 8, 10, 12, 14, 16, 18]\n",
            "<class 'list'>\n"
          ],
          "name": "stdout"
        }
      ]
    },
    {
      "cell_type": "code",
      "metadata": {
        "colab": {
          "base_uri": "https://localhost:8080/"
        },
        "id": "sGP1Zt1NkdlJ",
        "outputId": "8d4b8c0e-a0ae-44e4-8b48-f32807665825"
      },
      "source": [
        "# Create a set\n",
        "a_set = {i*i for i in range(10)}\n",
        "print(a_set)\n",
        "print(type(a_set))\n",
        "# Normally, this is an unordered set and using hash function to store\n"
      ],
      "execution_count": 5,
      "outputs": [
        {
          "output_type": "stream",
          "text": [
            "{0, 1, 64, 4, 36, 9, 16, 49, 81, 25}\n",
            "<class 'set'>\n"
          ],
          "name": "stdout"
        }
      ]
    },
    {
      "cell_type": "code",
      "metadata": {
        "colab": {
          "base_uri": "https://localhost:8080/"
        },
        "id": "rwoXW_LqkmIf",
        "outputId": "df586b41-c3c0-4132-87c1-004a61d297e6"
      },
      "source": [
        "# copy\n",
        "set1 = {i*i for i in range(10)}\n",
        "set2 = set1.copy()\n",
        "print(set1)\n",
        "print(set2)"
      ],
      "execution_count": 6,
      "outputs": [
        {
          "output_type": "stream",
          "text": [
            "{0, 1, 64, 4, 36, 9, 16, 49, 81, 25}\n",
            "{0, 1, 64, 4, 36, 9, 16, 49, 81, 25}\n"
          ],
          "name": "stdout"
        }
      ]
    },
    {
      "cell_type": "code",
      "metadata": {
        "id": "fCJkPHeCmqkX"
      },
      "source": [
        "# Because set is unordered so can use index\n",
        "# Can't use set1[0]"
      ],
      "execution_count": 7,
      "outputs": []
    },
    {
      "cell_type": "code",
      "metadata": {
        "colab": {
          "base_uri": "https://localhost:8080/"
        },
        "id": "EFXIGK0JnF2e",
        "outputId": "c4c521ed-0b8e-4ba8-cd49-688dd84cdd13"
      },
      "source": [
        "for v in set1:\n",
        "  v = 5\n",
        "print(set1)"
      ],
      "execution_count": 8,
      "outputs": [
        {
          "output_type": "stream",
          "text": [
            "{0, 1, 64, 4, 36, 9, 16, 49, 81, 25}\n"
          ],
          "name": "stdout"
        }
      ]
    },
    {
      "cell_type": "code",
      "metadata": {
        "colab": {
          "base_uri": "https://localhost:8080/"
        },
        "id": "iDwm3gzdnJUt",
        "outputId": "612776cf-5dba-4bac-f91d-03844a9625b8"
      },
      "source": [
        "# Because set using hash function(need a fixed index to correspond with each element)-> set can't store mutable object (list)\n",
        "# But set can store string, tuple because they are immutable\n",
        "# Can't init set1 = {1, 2, [3, 4]}\n",
        "\n",
        "set1 = {1, 2, (3, 4)} \n",
        "set1"
      ],
      "execution_count": 9,
      "outputs": [
        {
          "output_type": "execute_result",
          "data": {
            "text/plain": [
              "{(3, 4), 1, 2}"
            ]
          },
          "metadata": {
            "tags": []
          },
          "execution_count": 9
        }
      ]
    },
    {
      "cell_type": "code",
      "metadata": {
        "colab": {
          "base_uri": "https://localhost:8080/"
        },
        "id": "QVHTEjXuoHsm",
        "outputId": "f448e09c-c186-48a0-aa90-8f41918cf15c"
      },
      "source": [
        "# add an item\n",
        "set1.add(\"bear\")\n",
        "set1"
      ],
      "execution_count": 10,
      "outputs": [
        {
          "output_type": "execute_result",
          "data": {
            "text/plain": [
              "{(3, 4), 1, 2, 'bear'}"
            ]
          },
          "metadata": {
            "tags": []
          },
          "execution_count": 10
        }
      ]
    },
    {
      "cell_type": "code",
      "metadata": {
        "colab": {
          "base_uri": "https://localhost:8080/"
        },
        "id": "pU099B7lomgb",
        "outputId": "3759c2f1-44ed-47d6-8747-c4c25c021098"
      },
      "source": [
        "# join two sets\n",
        "set1 = {\"cat\", \"dog\"}\n",
        "set2 = {\"dog\", \"duck\", \"bear\"}\n",
        "set3 = set1.union(set2)\n",
        "set3"
      ],
      "execution_count": 12,
      "outputs": [
        {
          "output_type": "execute_result",
          "data": {
            "text/plain": [
              "{'bear', 'cat', 'dog', 'duck'}"
            ]
          },
          "metadata": {
            "tags": []
          },
          "execution_count": 12
        }
      ]
    },
    {
      "cell_type": "code",
      "metadata": {
        "colab": {
          "base_uri": "https://localhost:8080/"
        },
        "id": "1DYodc63oylk",
        "outputId": "e9d6634e-309c-4fd7-84ac-904caf6ace72"
      },
      "source": [
        "# insert a set to another set\n",
        "set1.update({\"chicken\", \"Duck\"})\n",
        "set1"
      ],
      "execution_count": 13,
      "outputs": [
        {
          "output_type": "execute_result",
          "data": {
            "text/plain": [
              "{'Duck', 'cat', 'chicken', 'dog'}"
            ]
          },
          "metadata": {
            "tags": []
          },
          "execution_count": 13
        }
      ]
    },
    {
      "cell_type": "code",
      "metadata": {
        "colab": {
          "base_uri": "https://localhost:8080/"
        },
        "id": "a3zrrq2jrzA9",
        "outputId": "8ce914f4-7c4f-4e96-8c14-1362aa3a2128"
      },
      "source": [
        "# difference\n",
        "set1 = {\"apple\", \"banana\", \"cherry\"}\n",
        "set2 = {\"pineapple\", \"apple\"}\n",
        "set3 = set1.difference(set2)\n",
        "set3"
      ],
      "execution_count": 14,
      "outputs": [
        {
          "output_type": "execute_result",
          "data": {
            "text/plain": [
              "{'banana', 'cherry'}"
            ]
          },
          "metadata": {
            "tags": []
          },
          "execution_count": 14
        }
      ]
    },
    {
      "cell_type": "code",
      "metadata": {
        "colab": {
          "base_uri": "https://localhost:8080/"
        },
        "id": "8q5eUXULr_2p",
        "outputId": "6355d419-4a48-4008-818e-97d601c24185"
      },
      "source": [
        "# difference_update function\n",
        "set1.difference_update(set2)\n",
        "\n",
        "print(set1)"
      ],
      "execution_count": 15,
      "outputs": [
        {
          "output_type": "stream",
          "text": [
            "{'banana', 'cherry'}\n"
          ],
          "name": "stdout"
        }
      ]
    },
    {
      "cell_type": "code",
      "metadata": {
        "id": "unqr2EXisJLT"
      },
      "source": [
        ""
      ],
      "execution_count": null,
      "outputs": []
    }
  ]
}