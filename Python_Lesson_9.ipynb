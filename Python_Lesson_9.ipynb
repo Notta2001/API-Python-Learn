{
  "nbformat": 4,
  "nbformat_minor": 0,
  "metadata": {
    "colab": {
      "name": "Python_Lesson_9.ipynb",
      "provenance": [],
      "collapsed_sections": [],
      "mount_file_id": "1mF-zTjftIHp5AZKBBYz4TJdYbYatqOyv",
      "authorship_tag": "ABX9TyPUTVKAZEHOuZUneVBiSSDd",
      "include_colab_link": true
    },
    "kernelspec": {
      "name": "python3",
      "display_name": "Python 3"
    },
    "language_info": {
      "name": "python"
    }
  },
  "cells": [
    {
      "cell_type": "markdown",
      "metadata": {
        "id": "view-in-github",
        "colab_type": "text"
      },
      "source": [
        "<a href=\"https://colab.research.google.com/github/ThangDoan2001/API-Python-Learn/blob/master/Python_Lesson_9.ipynb\" target=\"_parent\"><img src=\"https://colab.research.google.com/assets/colab-badge.svg\" alt=\"Open In Colab\"/></a>"
      ]
    },
    {
      "cell_type": "markdown",
      "metadata": {
        "id": "jpPOjo-2VNP0"
      },
      "source": [
        "# Lambda"
      ]
    },
    {
      "cell_type": "code",
      "metadata": {
        "colab": {
          "base_uri": "https://localhost:8080/",
          "height": 0
        },
        "id": "MvzWwMCDVU42",
        "outputId": "564225b6-a4b3-4688-a9fb-5552a2cf32b8"
      },
      "source": [
        "# lambda function\n",
        "a_lfunction = lambda v1, v2: v1 + v2\n",
        "print(a_lfunction(3, 4))"
      ],
      "execution_count": 1,
      "outputs": [
        {
          "output_type": "stream",
          "text": [
            "7\n"
          ],
          "name": "stdout"
        }
      ]
    },
    {
      "cell_type": "markdown",
      "metadata": {
        "id": "I7tPMSZcVfYx"
      },
      "source": [
        "# Try/ Catch\n",
        "* try\n",
        "* except (có thể xử lý tương ứng với từng ngoại lệ)\n",
        "* finally (optinal)\n"
      ]
    },
    {
      "cell_type": "code",
      "metadata": {
        "colab": {
          "base_uri": "https://localhost:8080/",
          "height": 0
        },
        "id": "8YXb5QL0XNCP",
        "outputId": "2f4788d7-df32-49cd-cc99-5ddfb208e57f"
      },
      "source": [
        "try: \n",
        "  value = input()\n",
        "  number = int(value)\n",
        "  print(f'The number is {number}')\n",
        "except:\n",
        "  print('Something wrong')\n"
      ],
      "execution_count": 2,
      "outputs": [
        {
          "output_type": "stream",
          "text": [
            "a\n",
            "Something wrong\n"
          ],
          "name": "stdout"
        }
      ]
    },
    {
      "cell_type": "code",
      "metadata": {
        "colab": {
          "base_uri": "https://localhost:8080/"
        },
        "id": "-p4axK5IYfjp",
        "outputId": "5db6058c-2289-4efd-a40f-00acccc251f8"
      },
      "source": [
        "# Finally is compulsory if we add it \n",
        "try: \n",
        "  value = input()\n",
        "  number = int(value)\n",
        "  print(f'The number is {number}')\n",
        "except:\n",
        "  print('Something wrong')\n",
        "finally:\n",
        "  print('Do something in finally!')"
      ],
      "execution_count": 3,
      "outputs": [
        {
          "output_type": "stream",
          "text": [
            "6\n",
            "The number is 6\n",
            "Do something in finally!\n"
          ],
          "name": "stdout"
        }
      ]
    },
    {
      "cell_type": "code",
      "metadata": {
        "colab": {
          "base_uri": "https://localhost:8080/"
        },
        "id": "F3wbuxyoY5MK",
        "outputId": "2e152a73-2ff2-4849-bcf9-120ba0c273ba"
      },
      "source": [
        "# Catch each errors\n",
        "try:\n",
        "  n1 = int(input())\n",
        "  n2 = int(input())\n",
        "\n",
        "  result = n1/n2\n",
        "  print(result)\n",
        "except ValueError:\n",
        "  print(\"ValueError\")\n",
        "except ZeroDivisionError:\n",
        "  print(\"Error Division Error\")"
      ],
      "execution_count": 4,
      "outputs": [
        {
          "output_type": "stream",
          "text": [
            "a\n",
            "ValueError\n"
          ],
          "name": "stdout"
        }
      ]
    },
    {
      "cell_type": "code",
      "metadata": {
        "colab": {
          "base_uri": "https://localhost:8080/"
        },
        "id": "ZRP1sNmIaVIA",
        "outputId": "3f4ff385-fc92-4d7d-815f-8bce871b4296"
      },
      "source": [
        "# Catch each errors\n",
        "try:\n",
        "  n1 = int(input())\n",
        "  n2 = int(input())\n",
        "\n",
        "  result = n1/n2\n",
        "  print(result)\n",
        "except ValueError:\n",
        "  print(\"ValueError\")\n",
        "except ZeroDivisionError:\n",
        "  print(\"Error Division Error\")"
      ],
      "execution_count": 5,
      "outputs": [
        {
          "output_type": "stream",
          "text": [
            "5\n",
            "0\n",
            "Error Division Error\n"
          ],
          "name": "stdout"
        }
      ]
    },
    {
      "cell_type": "code",
      "metadata": {
        "colab": {
          "base_uri": "https://localhost:8080/"
        },
        "id": "aPSBWcjzaYW5",
        "outputId": "3330160e-51cb-4a70-debb-08512a396170"
      },
      "source": [
        "# Don't know about errors\n",
        "try:\n",
        "  n1 = int(input())\n",
        "  n2 = int(input())\n",
        "\n",
        "  result = n1/n2\n",
        "  print(result)\n",
        "except Exception as e:\n",
        "  print(e)"
      ],
      "execution_count": 9,
      "outputs": [
        {
          "output_type": "stream",
          "text": [
            "e\n",
            "invalid literal for int() with base 10: 'e'\n"
          ],
          "name": "stdout"
        }
      ]
    },
    {
      "cell_type": "markdown",
      "metadata": {
        "id": "njVCNA2obJZK"
      },
      "source": [
        "# Iterator & Generator\n",
        "\n",
        "\n",
        " Iterator là một biến duyệt trong iterable(list, string, dictionary,tuple...)\n"
      ]
    },
    {
      "cell_type": "code",
      "metadata": {
        "colab": {
          "base_uri": "https://localhost:8080/"
        },
        "id": "ydMBZoTmcUtW",
        "outputId": "060130fb-1980-4428-aead-2d01f3109523"
      },
      "source": [
        "# range and iterator (for = tay)\n",
        "\n",
        "range_object = range(3)\n",
        "print(range_object)\n",
        "\n",
        "iterator = iter(range_object) # convert range_object to iterator\n",
        "print(next(iterator))\n",
        "print(next(iterator))\n",
        "print(next(iterator))\n",
        "# print(next(iterator)) -> StopIteration (error)"
      ],
      "execution_count": 11,
      "outputs": [
        {
          "output_type": "stream",
          "text": [
            "range(0, 3)\n",
            "0\n",
            "1\n",
            "2\n"
          ],
          "name": "stdout"
        }
      ]
    },
    {
      "cell_type": "code",
      "metadata": {
        "colab": {
          "base_uri": "https://localhost:8080/"
        },
        "id": "b8SjNZKEdJOw",
        "outputId": "2305d69c-4f40-416a-8672-2cfaee258dd5"
      },
      "source": [
        "ro = range(4)\n",
        "print(list(ro))\n",
        "iterator = iter(ro)\n",
        "\n",
        "try:\n",
        "  while True:\n",
        "    print(next(iterator))\n",
        "except:\n",
        "  print(\"Something!\")"
      ],
      "execution_count": 15,
      "outputs": [
        {
          "output_type": "stream",
          "text": [
            "[0, 1, 2, 3]\n",
            "0\n",
            "1\n",
            "2\n",
            "3\n",
            "Something!\n"
          ],
          "name": "stdout"
        }
      ]
    },
    {
      "cell_type": "code",
      "metadata": {
        "id": "wvjNu-gKlOte"
      },
      "source": [
        "class AdditionValueSeries:\n",
        "  def __init__(self, value, max=0):\n",
        "    self.value = value\n",
        "    self.max = max\n",
        "\n",
        "  def __iter__(self):\n",
        "    self.n = 0\n",
        "    return self\n",
        "    \n",
        "  def __next__(self):\n",
        "    if self.n <= self.max:\n",
        "      result = self.n + self.value \n",
        "      self.n += 1\n",
        "\n",
        "      return result\n",
        "    else:\n",
        "      raise StopIteration"
      ],
      "execution_count": 24,
      "outputs": []
    },
    {
      "cell_type": "code",
      "metadata": {
        "colab": {
          "base_uri": "https://localhost:8080/"
        },
        "id": "ioxbSlXOmnwD",
        "outputId": "1a29f390-dca5-4465-c2e5-b503e7ac2179"
      },
      "source": [
        "# create an object  \n",
        "numbers = AdditionValueSeries(5, 2)\n",
        "\n",
        "for n in numbers: \n",
        "  print(n)"
      ],
      "execution_count": 31,
      "outputs": [
        {
          "output_type": "stream",
          "text": [
            "5\n",
            "6\n",
            "7\n"
          ],
          "name": "stdout"
        }
      ]
    },
    {
      "cell_type": "code",
      "metadata": {
        "colab": {
          "base_uri": "https://localhost:8080/"
        },
        "id": "BrbKZSQtmu9z",
        "outputId": "8bba3e5c-c492-47af-c915-6dd03626502a"
      },
      "source": [
        "numbers = AdditionValueSeries(5, 2)\n",
        "a_iter = iter(numbers)\n",
        "\n",
        "print(next(a_iter))\n",
        "print(next(a_iter))"
      ],
      "execution_count": 32,
      "outputs": [
        {
          "output_type": "stream",
          "text": [
            "5\n",
            "6\n"
          ],
          "name": "stdout"
        }
      ]
    },
    {
      "cell_type": "code",
      "metadata": {
        "id": "tMKe5Uz7rmdg"
      },
      "source": [
        "# Generator\n",
        "\n",
        "def addValueSeries(value, max=0):\n",
        "  n = 0\n",
        "  while n <= max:\n",
        "    yield n + value\n",
        "    n += 1\n",
        "# Auto raise StopIteration"
      ],
      "execution_count": 35,
      "outputs": []
    },
    {
      "cell_type": "code",
      "metadata": {
        "colab": {
          "base_uri": "https://localhost:8080/"
        },
        "id": "L4Ew4UQRsOa4",
        "outputId": "783ec905-250d-4920-dea4-96638461ccac"
      },
      "source": [
        "# create an object  \n",
        "numbers = addValueSeries(5, 2)\n",
        "\n",
        "for n in numbers: \n",
        "  print(n)"
      ],
      "execution_count": 36,
      "outputs": [
        {
          "output_type": "stream",
          "text": [
            "5\n",
            "6\n",
            "7\n"
          ],
          "name": "stdout"
        }
      ]
    },
    {
      "cell_type": "markdown",
      "metadata": {
        "id": "3jBUYGYPsQPC"
      },
      "source": [
        "## Từ khóa Yield\n",
        "Dùng dể xử lý dữ liệu lớn\n",
        "\n",
        "Sinh ra một generator, không thể tái sử dụng, mỗi lần gọi next thì sẽ sinh ra hủy giá trị trước để nhường chỗ cho giá trị mới.\n",
        "\n",
        "Môi lần gặp yield nó sẽ trả về kết quả và dừng hàm lại ở đó, lần sau gọi nó lại tiếp tục. Hàm sẽ dừng khi đi tiếp mà k gặp yield\n"
      ]
    },
    {
      "cell_type": "code",
      "metadata": {
        "colab": {
          "base_uri": "https://localhost:8080/"
        },
        "id": "qvtbUtmt5KZc",
        "outputId": "dbb1384b-015c-4507-c1a6-48d3ae8d605a"
      },
      "source": [
        "def square(list):\n",
        "  for num in list:\n",
        "    yield num**2\n",
        "  \n",
        "list = square([1, 2, 3])\n",
        "for num in list:\n",
        "  print(num)"
      ],
      "execution_count": 46,
      "outputs": [
        {
          "output_type": "stream",
          "text": [
            "1\n",
            "4\n",
            "9\n"
          ],
          "name": "stdout"
        }
      ]
    },
    {
      "cell_type": "code",
      "metadata": {
        "id": "QOf2tXTc5nfK"
      },
      "source": [
        "#print(next(list)) -> StopIteration"
      ],
      "execution_count": 48,
      "outputs": []
    },
    {
      "cell_type": "code",
      "metadata": {
        "id": "aPixVbBW6KRT"
      },
      "source": [
        "def gen():\n",
        "  yield 1\n",
        "  print('This is the first yield')\n",
        "  yield 2\n",
        "  print('This is the second yield')\n",
        "  yield 3\n",
        "  print('This is the last yield')\n",
        "\n",
        "lst = gen()"
      ],
      "execution_count": 49,
      "outputs": []
    },
    {
      "cell_type": "code",
      "metadata": {
        "colab": {
          "base_uri": "https://localhost:8080/"
        },
        "id": "lzcfXKuj6Xjb",
        "outputId": "9667115e-6212-424c-b1e2-bbb15498d2e5"
      },
      "source": [
        "print(next(lst))"
      ],
      "execution_count": 50,
      "outputs": [
        {
          "output_type": "stream",
          "text": [
            "1\n"
          ],
          "name": "stdout"
        }
      ]
    },
    {
      "cell_type": "code",
      "metadata": {
        "colab": {
          "base_uri": "https://localhost:8080/"
        },
        "id": "GqXc8yLy6au-",
        "outputId": "b11d4a63-f567-4fa7-f8a3-125254dd63a5"
      },
      "source": [
        "print(next(lst))"
      ],
      "execution_count": 51,
      "outputs": [
        {
          "output_type": "stream",
          "text": [
            "This is the first yield\n",
            "2\n"
          ],
          "name": "stdout"
        }
      ]
    },
    {
      "cell_type": "code",
      "metadata": {
        "colab": {
          "base_uri": "https://localhost:8080/"
        },
        "id": "WVmKoANW6cKF",
        "outputId": "2cac2e43-102d-4ee9-9900-31cf1db58113"
      },
      "source": [
        "print(next(lst))"
      ],
      "execution_count": 52,
      "outputs": [
        {
          "output_type": "stream",
          "text": [
            "This is the second yield\n",
            "3\n"
          ],
          "name": "stdout"
        }
      ]
    },
    {
      "cell_type": "code",
      "metadata": {
        "id": "gNwju5mB6c87"
      },
      "source": [
        "# print(next(lst)) -> StopIteration"
      ],
      "execution_count": 54,
      "outputs": []
    },
    {
      "cell_type": "markdown",
      "metadata": {
        "id": "oPT62vRAuvcQ"
      },
      "source": [
        "# XML và json\n",
        "\n",
        "* Read from a file\n",
        "* Get root element\n",
        "\n",
        "Thuộc tính của element\n",
        "1. Tag - tên của element\n",
        "2. Text - Nội dung của element\n",
        "3. Attrib['..']"
      ]
    },
    {
      "cell_type": "markdown",
      "metadata": {
        "id": "iCagyI1G3CIb"
      },
      "source": [
        "## Không có attribute"
      ]
    },
    {
      "cell_type": "code",
      "metadata": {
        "colab": {
          "base_uri": "https://localhost:8080/"
        },
        "id": "W9WD7g2uwqw6",
        "outputId": "27e849b5-cfba-4b7b-a36d-75e57cef403a"
      },
      "source": [
        "import xml.etree.ElementTree as ET\n",
        "\n",
        "mytree = ET.parse('/content/drive/MyDrive/Colab Notebooks/test.xml')\n",
        "myroot = mytree.getroot()\n",
        "print(myroot)\n",
        "print(type(myroot))"
      ],
      "execution_count": 39,
      "outputs": [
        {
          "output_type": "stream",
          "text": [
            "<Element 'letter' at 0x7f275c6d4290>\n",
            "<class 'xml.etree.ElementTree.Element'>\n"
          ],
          "name": "stdout"
        }
      ]
    },
    {
      "cell_type": "markdown",
      "metadata": {
        "id": "0zDQ16gx2nY0"
      },
      "source": [
        "<?xml version=\"1.0\" encoding=\"UTF-8\"?>\n",
        "<letter>\n",
        "\t<to>John</to>\n",
        "\t<from>Marry</from>\n",
        "\t<heading>Greeting</heading>\n",
        "\t<body>Congratulation!</body>\n",
        "</letter>"
      ]
    },
    {
      "cell_type": "code",
      "metadata": {
        "colab": {
          "base_uri": "https://localhost:8080/"
        },
        "id": "IWtQ-RLc2GVA",
        "outputId": "d9791faa-2437-4892-d5a6-40b2aa83829d"
      },
      "source": [
        "to_text = myroot[0].text\n",
        "from_text = myroot[1].text\n",
        "heading_text = myroot[2].text\n",
        "body_text = myroot[3].text\n",
        "\n",
        "print(to_text)\n",
        "print(from_text)\n",
        "print(heading_text)\n",
        "print(body_text)"
      ],
      "execution_count": 40,
      "outputs": [
        {
          "output_type": "stream",
          "text": [
            "John\n",
            "Marry\n",
            "Greeting\n",
            "Congratulation!\n"
          ],
          "name": "stdout"
        }
      ]
    },
    {
      "cell_type": "markdown",
      "metadata": {
        "id": "oDNRO-022-XU"
      },
      "source": [
        "## Có attribute\n",
        "\n"
      ]
    },
    {
      "cell_type": "markdown",
      "metadata": {
        "id": "bjgjRraO2riz"
      },
      "source": [
        "<?xml version=\"1.0\" encoding=\"UTF-8\"?>\n",
        "<letter>\n",
        "\t<to id=\"123\">John</to>\n",
        "\t<from>Marry</from>\n",
        "\t<heading>Greeting</heading>\n",
        "\t<body>Congratulation!</body>\n",
        "</letter>\n"
      ]
    },
    {
      "cell_type": "code",
      "metadata": {
        "colab": {
          "base_uri": "https://localhost:8080/"
        },
        "id": "gH64JDNr2clS",
        "outputId": "3bc72860-6b02-4316-9556-d441c1556ac8"
      },
      "source": [
        "import xml.etree.ElementTree as ET\n",
        "\n",
        "mytree = ET.parse('/content/drive/MyDrive/Colab Notebooks/test.xml')\n",
        "myroot = mytree.getroot()\n",
        "print(myroot)\n",
        "print(type(myroot))"
      ],
      "execution_count": 41,
      "outputs": [
        {
          "output_type": "stream",
          "text": [
            "<Element 'letter' at 0x7f275c660f50>\n",
            "<class 'xml.etree.ElementTree.Element'>\n"
          ],
          "name": "stdout"
        }
      ]
    },
    {
      "cell_type": "code",
      "metadata": {
        "colab": {
          "base_uri": "https://localhost:8080/"
        },
        "id": "Spj4dUwu22U5",
        "outputId": "8e161158-a3e1-4ad3-dd1a-d00898be995a"
      },
      "source": [
        "# Read attribute\n",
        "print(myroot[0].attrib['id'])"
      ],
      "execution_count": 44,
      "outputs": [
        {
          "output_type": "stream",
          "text": [
            "123\n"
          ],
          "name": "stdout"
        }
      ]
    },
    {
      "cell_type": "code",
      "metadata": {
        "colab": {
          "base_uri": "https://localhost:8080/"
        },
        "id": "akFql6vw3KWD",
        "outputId": "44623d6a-1ac2-4732-b8a4-6579a8ad2dad"
      },
      "source": [
        "# Use find function\n",
        "print(myroot.find('from').text)"
      ],
      "execution_count": 45,
      "outputs": [
        {
          "output_type": "stream",
          "text": [
            "Marry\n"
          ],
          "name": "stdout"
        }
      ]
    }
  ]
}