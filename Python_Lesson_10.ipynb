{
  "nbformat": 4,
  "nbformat_minor": 0,
  "metadata": {
    "colab": {
      "name": "Python_Lesson_10.ipynb",
      "provenance": [],
      "collapsed_sections": [],
      "mount_file_id": "1MlV2V6yQU3zgjwpmBny2LBHKi58NmKZl",
      "authorship_tag": "ABX9TyOeCPox5SzqZXKaIMuDqkx9",
      "include_colab_link": true
    },
    "kernelspec": {
      "name": "python3",
      "display_name": "Python 3"
    },
    "language_info": {
      "name": "python"
    }
  },
  "cells": [
    {
      "cell_type": "markdown",
      "metadata": {
        "id": "view-in-github",
        "colab_type": "text"
      },
      "source": [
        "<a href=\"https://colab.research.google.com/github/ThangDoan2001/API-Python-Learn/blob/master/Python_Lesson_10.ipynb\" target=\"_parent\"><img src=\"https://colab.research.google.com/assets/colab-badge.svg\" alt=\"Open In Colab\"/></a>"
      ]
    },
    {
      "cell_type": "markdown",
      "metadata": {
        "id": "OOAZlgpgm4NT"
      },
      "source": [
        "# XML in Python"
      ]
    },
    {
      "cell_type": "code",
      "metadata": {
        "colab": {
          "base_uri": "https://localhost:8080/"
        },
        "id": "ZfVpZSDKpq6C",
        "outputId": "6d2c6a50-9a38-4e9b-d970-c84de09dde41"
      },
      "source": [
        "import xml.etree.ElementTree as ET\n",
        "xml_tree = ET.parse('/content/drive/MyDrive/Colab Notebooks/test.xml')\n",
        "root_element = xml_tree.getroot()\n",
        "print(root_element)"
      ],
      "execution_count": 2,
      "outputs": [
        {
          "output_type": "stream",
          "text": [
            "<Element 'letter' at 0x7fd61634aef0>\n"
          ],
          "name": "stdout"
        }
      ]
    },
    {
      "cell_type": "code",
      "metadata": {
        "colab": {
          "base_uri": "https://localhost:8080/",
          "height": 35
        },
        "id": "zxrf1onvp3rT",
        "outputId": "799c371e-5dd4-4bac-f03a-d6195d834536"
      },
      "source": [
        "root_element.text"
      ],
      "execution_count": 3,
      "outputs": [
        {
          "output_type": "execute_result",
          "data": {
            "application/vnd.google.colaboratory.intrinsic+json": {
              "type": "string"
            },
            "text/plain": [
              "'\\n\\t'"
            ]
          },
          "metadata": {
            "tags": []
          },
          "execution_count": 3
        }
      ]
    },
    {
      "cell_type": "code",
      "metadata": {
        "colab": {
          "base_uri": "https://localhost:8080/"
        },
        "id": "vc6rkvmwqFHU",
        "outputId": "6b203568-5f2f-4f71-ec23-1f87ce13981f"
      },
      "source": [
        "to_element = root_element[0]\n",
        "body_element = root_element[3]\n",
        "print(to_element.text)\n",
        "print(body_element.text)"
      ],
      "execution_count": 6,
      "outputs": [
        {
          "output_type": "stream",
          "text": [
            "John\n",
            "Congratulation!\n"
          ],
          "name": "stdout"
        }
      ]
    },
    {
      "cell_type": "code",
      "metadata": {
        "colab": {
          "base_uri": "https://localhost:8080/"
        },
        "id": "JIC16AssqUXO",
        "outputId": "59c2addd-84da-43eb-9313-3df97252df4b"
      },
      "source": [
        "to_element = root_element.find('to')\n",
        "body_element = root_element.find('body')\n",
        "to_element.text, body_element.text"
      ],
      "execution_count": 7,
      "outputs": [
        {
          "output_type": "execute_result",
          "data": {
            "text/plain": [
              "('John', 'Congratulation!')"
            ]
          },
          "metadata": {
            "tags": []
          },
          "execution_count": 7
        }
      ]
    },
    {
      "cell_type": "code",
      "metadata": {
        "colab": {
          "base_uri": "https://localhost:8080/"
        },
        "id": "08ZjserRrIBP",
        "outputId": "3c2ad0b6-400d-4110-e615-c6c8d11ce71d"
      },
      "source": [
        "root_element.attrib"
      ],
      "execution_count": 8,
      "outputs": [
        {
          "output_type": "execute_result",
          "data": {
            "text/plain": [
              "{}"
            ]
          },
          "metadata": {
            "tags": []
          },
          "execution_count": 8
        }
      ]
    },
    {
      "cell_type": "code",
      "metadata": {
        "colab": {
          "base_uri": "https://localhost:8080/"
        },
        "id": "hixzuem0rRjD",
        "outputId": "36a61907-2223-4100-c0ba-9bd7429e05ee"
      },
      "source": [
        "# Tag \n",
        "to_element.tag, root_element.find('heading').tag"
      ],
      "execution_count": 9,
      "outputs": [
        {
          "output_type": "execute_result",
          "data": {
            "text/plain": [
              "('to', 'heading')"
            ]
          },
          "metadata": {
            "tags": []
          },
          "execution_count": 9
        }
      ]
    },
    {
      "cell_type": "code",
      "metadata": {
        "id": "0rYKMMIHrd-e"
      },
      "source": [
        "import xml.etree.ElementTree as ET\n",
        "xml_tree = ET.parse('/content/drive/MyDrive/Colab Notebooks/day.xml')\n",
        "root_element = xml_tree.getroot()"
      ],
      "execution_count": 12,
      "outputs": []
    },
    {
      "cell_type": "code",
      "metadata": {
        "colab": {
          "base_uri": "https://localhost:8080/",
          "height": 35
        },
        "id": "2G3lXItjsdvm",
        "outputId": "dc2fe4a0-f2ca-47c7-a6c9-22389dca399a"
      },
      "source": [
        "root_element.find('date').find('month').text"
      ],
      "execution_count": 13,
      "outputs": [
        {
          "output_type": "execute_result",
          "data": {
            "application/vnd.google.colaboratory.intrinsic+json": {
              "type": "string"
            },
            "text/plain": [
              "'7'"
            ]
          },
          "metadata": {
            "tags": []
          },
          "execution_count": 13
        }
      ]
    },
    {
      "cell_type": "code",
      "metadata": {
        "id": "fJWY7h6bsoWy"
      },
      "source": [
        "# Cant not find directly\n",
        "# root_element.find('month') -> error"
      ],
      "execution_count": 14,
      "outputs": []
    },
    {
      "cell_type": "code",
      "metadata": {
        "id": "La1hC17CsvDE"
      },
      "source": [
        "import xml.etree.ElementTree as ET\n",
        "xml_tree = ET.parse('/content/drive/MyDrive/Colab Notebooks/company.xml')\n",
        "root_element = xml_tree.getroot()"
      ],
      "execution_count": 15,
      "outputs": []
    },
    {
      "cell_type": "code",
      "metadata": {
        "colab": {
          "base_uri": "https://localhost:8080/",
          "height": 35
        },
        "id": "RvselJEct0tX",
        "outputId": "93900ec2-35de-42cf-84e3-5e1c13df0e2f"
      },
      "source": [
        "root_element.find('staff').find('name').text"
      ],
      "execution_count": 17,
      "outputs": [
        {
          "output_type": "execute_result",
          "data": {
            "application/vnd.google.colaboratory.intrinsic+json": {
              "type": "string"
            },
            "text/plain": [
              "'John'"
            ]
          },
          "metadata": {
            "tags": []
          },
          "execution_count": 17
        }
      ]
    },
    {
      "cell_type": "code",
      "metadata": {
        "colab": {
          "base_uri": "https://localhost:8080/",
          "height": 35
        },
        "id": "o9KyGdq1t58_",
        "outputId": "86683ec9-ffc2-4c20-8588-16aa2a2dbb75"
      },
      "source": [
        "# Find attribute by get or .attrib\n",
        "root_element.find('staff').get('id')"
      ],
      "execution_count": 18,
      "outputs": [
        {
          "output_type": "execute_result",
          "data": {
            "application/vnd.google.colaboratory.intrinsic+json": {
              "type": "string"
            },
            "text/plain": [
              "'1001'"
            ]
          },
          "metadata": {
            "tags": []
          },
          "execution_count": 18
        }
      ]
    },
    {
      "cell_type": "code",
      "metadata": {
        "colab": {
          "base_uri": "https://localhost:8080/"
        },
        "id": "XiKml4uxvBnI",
        "outputId": "63ab387f-4358-48c4-bcba-9392b329abdd"
      },
      "source": [
        "# Find all child node have the same name\n",
        "staffs_element = root_element.findall('staff')\n",
        "for staff_element in staffs_element:\n",
        "  print(staff_element.get('id'))\n",
        "  print(staff_element.find('name').text)\n",
        "  print(staff_element.find('salary').text)"
      ],
      "execution_count": 20,
      "outputs": [
        {
          "output_type": "stream",
          "text": [
            "1001\n",
            "John\n",
            "100\n",
            "2001\n",
            "Peter\n",
            "200\n"
          ],
          "name": "stdout"
        }
      ]
    },
    {
      "cell_type": "markdown",
      "metadata": {
        "id": "yjpt6aB6vbsI"
      },
      "source": [
        "## Create element"
      ]
    },
    {
      "cell_type": "code",
      "metadata": {
        "id": "yoXrI7ryzMsS"
      },
      "source": [
        "import xml.etree.ElementTree as ET\n",
        "\n",
        "root = ET.Element(\"Company\")\n",
        "\n",
        "staff1 = ET.Element(\"Staff\")\n",
        "# Link staff and compay\n",
        "root.append(staff1)"
      ],
      "execution_count": 21,
      "outputs": []
    },
    {
      "cell_type": "code",
      "metadata": {
        "id": "BhEZ8u6CzpxW"
      },
      "source": [
        "staff1_fn = ET.SubElement(staff1, \"firstname\")\n",
        "staff1_fn.text = \"John\""
      ],
      "execution_count": 22,
      "outputs": []
    },
    {
      "cell_type": "code",
      "metadata": {
        "id": "CXSCh2f2zqJS"
      },
      "source": [
        "staff1_ln = ET.SubElement(staff1, \"lastname\")\n",
        "staff1_ln = \"Smith\""
      ],
      "execution_count": 23,
      "outputs": []
    },
    {
      "cell_type": "code",
      "metadata": {
        "colab": {
          "base_uri": "https://localhost:8080/"
        },
        "id": "7PgiwxUIzyk1",
        "outputId": "94057d79-898d-49cf-cc49-d502c3720317"
      },
      "source": [
        "staff2 = ET.Element(\"Staff\")\n",
        "root.append(staff2)\n",
        "staff2.attrib[\"id\"] = '2001'\n",
        "print(staff2.get('id'))"
      ],
      "execution_count": 30,
      "outputs": [
        {
          "output_type": "stream",
          "text": [
            "2001\n"
          ],
          "name": "stdout"
        }
      ]
    },
    {
      "cell_type": "code",
      "metadata": {
        "id": "c0KrOq-fz2-9"
      },
      "source": [
        "staff2_fn = ET.SubElement(staff2, \"firstname\")\n",
        "staff2_fn.text = \"Peter\"\n",
        "staff2_ln = ET.SubElement(staff2, \"firstname\")\n",
        "staff2_fn.text = \"White\""
      ],
      "execution_count": 25,
      "outputs": []
    },
    {
      "cell_type": "code",
      "metadata": {
        "id": "OWsnbX7sz_DP"
      },
      "source": [
        "# Make a tree\n",
        "tree = ET.ElementTree(root)\n",
        "\n",
        "with open ('/content/drive/MyDrive/Colab Notebooks/staffs.xml', 'wb') as file:\n",
        "  tree.write(file)"
      ],
      "execution_count": 28,
      "outputs": []
    },
    {
      "cell_type": "markdown",
      "metadata": {
        "id": "UXMjJNlO0PVr"
      },
      "source": [
        "# OS Package"
      ]
    },
    {
      "cell_type": "code",
      "metadata": {
        "id": "6Mi_OARO4OLG"
      },
      "source": [
        "import os"
      ],
      "execution_count": 32,
      "outputs": []
    },
    {
      "cell_type": "code",
      "metadata": {
        "colab": {
          "base_uri": "https://localhost:8080/",
          "height": 35
        },
        "id": "RwJvdJX_4INN",
        "outputId": "3e15163b-d8d3-495f-b32f-68f2d32c2d93"
      },
      "source": [
        "# trả về thư mục hiện hành\n",
        "os.getcwd()"
      ],
      "execution_count": 33,
      "outputs": [
        {
          "output_type": "execute_result",
          "data": {
            "application/vnd.google.colaboratory.intrinsic+json": {
              "type": "string"
            },
            "text/plain": [
              "'/content'"
            ]
          },
          "metadata": {
            "tags": []
          },
          "execution_count": 33
        }
      ]
    },
    {
      "cell_type": "code",
      "metadata": {
        "id": "ozAt5FRP4MnY"
      },
      "source": [
        "# Tìm và thay đổi đường dẫn trực tiếp "
      ],
      "execution_count": null,
      "outputs": []
    },
    {
      "cell_type": "markdown",
      "metadata": {
        "id": "3wlGchTM5IgX"
      },
      "source": [
        "# Glob Package\n",
        "\n",
        "Get path from specific type of file\n"
      ]
    },
    {
      "cell_type": "code",
      "metadata": {
        "colab": {
          "base_uri": "https://localhost:8080/"
        },
        "id": "6i9chhNl5Lsw",
        "outputId": "3578eada-ae1f-4069-986a-76c6535f2bed"
      },
      "source": [
        "import glob\n",
        "\n",
        "# Trả về tất cả các file .png trong images\n",
        "file_paths = glob.glob('iamges\\*.png')\n",
        "print(type(file_paths))\n",
        "\n",
        "for path in file_paths:\n",
        "  print(path)"
      ],
      "execution_count": 36,
      "outputs": [
        {
          "output_type": "stream",
          "text": [
            "<class 'list'>\n"
          ],
          "name": "stdout"
        }
      ]
    },
    {
      "cell_type": "code",
      "metadata": {
        "id": "3zh_JSgg5R0U"
      },
      "source": [
        "# Assume we have cat_n.png and dog_n.png n = 1,1000 but I want to take only cat\n",
        "cat_paths = glob.glob('images\\cat_*.png')"
      ],
      "execution_count": 37,
      "outputs": []
    },
    {
      "cell_type": "markdown",
      "metadata": {
        "id": "S3Mqasj66DdH"
      },
      "source": [
        "# Gzip Package\n",
        "\n",
        "Read .gz file"
      ]
    },
    {
      "cell_type": "markdown",
      "metadata": {
        "id": "m7NraC_V6RAp"
      },
      "source": [
        "# Pickle Package\n",
        "\n",
        "import pickle\n",
        "\n",
        "Write to file"
      ]
    },
    {
      "cell_type": "markdown",
      "metadata": {
        "id": "6jM7yrz67Jbw"
      },
      "source": [
        "# Image Data\n",
        "1. Grayscale images\n",
        "2. Color images"
      ]
    },
    {
      "cell_type": "markdown",
      "metadata": {
        "id": "EX8w46TY7RRy"
      },
      "source": [
        "## PIL Image"
      ]
    },
    {
      "cell_type": "code",
      "metadata": {
        "id": "b3dE2XnK_CMg"
      },
      "source": [
        "from PIL import Image\n",
        "\n",
        "im = Image.open('/content/drive/MyDrive/Colab Notebooks/09ca66ba-f8a0-48ad-af32-ab67d5007490.jpg')\n",
        "im.save('/content/drive/MyDrive/Colab Notebooks/power_ranger.jpg')"
      ],
      "execution_count": 43,
      "outputs": []
    },
    {
      "cell_type": "code",
      "metadata": {
        "id": "h2cRy3rU_MQ8"
      },
      "source": [
        "from PIL import Image\n",
        "im = Image.open('/content/drive/MyDrive/Colab Notebooks/power_ranger.jpg')\n",
        "im = im.convert('L')\n",
        "im.save('/content/drive/MyDrive/Colab Notebooks/power_ranger_gray.jpg')"
      ],
      "execution_count": 47,
      "outputs": []
    },
    {
      "cell_type": "markdown",
      "metadata": {
        "id": "-ybItDhbAS8S"
      },
      "source": [
        "# Numpy\n",
        "\n",
        "CPU xử lí nó và dữ liệu nằm trên RAM\n",
        "\n",
        "-> Sử dụng Tensor để có thể train trên GPU để tăng tốc độ"
      ]
    },
    {
      "cell_type": "code",
      "metadata": {
        "id": "Z_QG5JdeBycV"
      },
      "source": [
        "l = [[1, 2, 3, 4],\n",
        "     [5, 6, 7, 8]]"
      ],
      "execution_count": 48,
      "outputs": []
    },
    {
      "cell_type": "code",
      "metadata": {
        "colab": {
          "base_uri": "https://localhost:8080/"
        },
        "id": "u0dGAeANGZ9_",
        "outputId": "38a3c13d-a782-4333-d541-9183451a8deb"
      },
      "source": [
        "import numpy as np\n",
        "np_arr = np.array(l)\n",
        "np_arr.shape, type(np_arr)"
      ],
      "execution_count": 50,
      "outputs": [
        {
          "output_type": "execute_result",
          "data": {
            "text/plain": [
              "((2, 4), numpy.ndarray)"
            ]
          },
          "metadata": {
            "tags": []
          },
          "execution_count": 50
        }
      ]
    },
    {
      "cell_type": "code",
      "metadata": {
        "colab": {
          "base_uri": "https://localhost:8080/"
        },
        "id": "jjKBQsFHGg23",
        "outputId": "d4bd5b64-4b21-4028-bcab-ecb4ed2e0e64"
      },
      "source": [
        "np_arr.reshape((4, 2))"
      ],
      "execution_count": 51,
      "outputs": [
        {
          "output_type": "execute_result",
          "data": {
            "text/plain": [
              "array([[1, 2],\n",
              "       [3, 4],\n",
              "       [5, 6],\n",
              "       [7, 8]])"
            ]
          },
          "metadata": {
            "tags": []
          },
          "execution_count": 51
        }
      ]
    },
    {
      "cell_type": "markdown",
      "metadata": {
        "id": "XaWrnKnPGmwQ"
      },
      "source": [
        "# Matplotlib"
      ]
    },
    {
      "cell_type": "code",
      "metadata": {
        "colab": {
          "base_uri": "https://localhost:8080/",
          "height": 279
        },
        "id": "ambVKXnNH39g",
        "outputId": "fd370026-0c36-4259-f1d3-42d66f89a6de"
      },
      "source": [
        "import matplotlib.pyplot as plt\n",
        "\n",
        "x_data = [0, 1, 2, 3, 4, 5]\n",
        "y_data = [2, 3, 4, 7, 4, 3]\n",
        "\n",
        "plt.plot(x_data, y_data)\n",
        "plt.ylabel('y labels')\n",
        "plt.xlabel('x labels')\n",
        "\n",
        "# hiển thị biểu đồ\n",
        "plt.show()"
      ],
      "execution_count": 52,
      "outputs": [
        {
          "output_type": "display_data",
          "data": {
            "image/png": "[encoded data removed]",
            "text/plain": [
              "<Figure size 432x288 with 1 Axes>"
            ]
          },
          "metadata": {
            "tags": [],
            "needs_background": "light"
          }
        }
      ]
    },
    {
      "cell_type": "code",
      "metadata": {
        "id": "LL4hJbmZIGgM"
      },
      "source": [
        ""
      ],
      "execution_count": null,
      "outputs": []
    }
  ]
}