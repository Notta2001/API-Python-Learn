{
  "nbformat": 4,
  "nbformat_minor": 0,
  "metadata": {
    "kernelspec": {
      "display_name": "Python 3",
      "language": "python",
      "name": "python3"
    },
    "language_info": {
      "codemirror_mode": {
        "name": "ipython",
        "version": 3
      },
      "file_extension": ".py",
      "mimetype": "text/x-python",
      "name": "python",
      "nbconvert_exporter": "python",
      "pygments_lexer": "ipython3",
      "version": "3.8.8"
    },
    "colab": {
      "name": "Homeworks_12_Python.ipynb",
      "provenance": [],
      "collapsed_sections": [],
      "include_colab_link": true
    }
  },
  "cells": [
    {
      "cell_type": "markdown",
      "metadata": {
        "id": "view-in-github",
        "colab_type": "text"
      },
      "source": [
        "<a href=\"https://colab.research.google.com/github/ThangDoan2001/API-Python-Learn/blob/master/Homeworks_12_Python.ipynb\" target=\"_parent\"><img src=\"https://colab.research.google.com/assets/colab-badge.svg\" alt=\"Open In Colab\"/></a>"
      ]
    },
    {
      "cell_type": "code",
      "metadata": {
        "colab": {
          "base_uri": "https://localhost:8080/"
        },
        "id": "eP7bZxjG73Ld",
        "outputId": "6f9ff808-3cbe-4ba3-879d-87afc2e6934c"
      },
      "source": [
        "# câu 1 : import module numpy và in ra version \n",
        "\n",
        "import numpy as np\n",
        "print(np.__version__)\n",
        "\n",
        "# python 3.8 +\n",
        "from importlib_metadata import version \n",
        "print(version('numpy'))"
      ],
      "execution_count": 3,
      "outputs": [
        {
          "output_type": "stream",
          "text": [
            "1.19.5\n",
            "1.19.5\n"
          ],
          "name": "stdout"
        }
      ]
    },
    {
      "cell_type": "code",
      "metadata": {
        "colab": {
          "base_uri": "https://localhost:8080/"
        },
        "id": "Vz_hjzui73Le",
        "outputId": "fc11780a-83b4-453f-b4fa-986e2a75b297"
      },
      "source": [
        "# câu 2 : Tạo mảng 1 chiều từ 0 đến 9\n",
        "\n",
        "import numpy as np\n",
        "np.arange(0, 10)"
      ],
      "execution_count": 4,
      "outputs": [
        {
          "output_type": "execute_result",
          "data": {
            "text/plain": [
              "array([0, 1, 2, 3, 4, 5, 6, 7, 8, 9])"
            ]
          },
          "metadata": {},
          "execution_count": 4
        }
      ]
    },
    {
      "cell_type": "code",
      "metadata": {
        "id": "ld00D5d073Lg",
        "colab": {
          "base_uri": "https://localhost:8080/"
        },
        "outputId": "04b9032f-d2f0-4eae-e44c-a82647879611"
      },
      "source": [
        "# câu 3: Tạo một mảng boolean 3x3 với tất cả giá trị là True\n",
        "\n",
        "import numpy as np\n",
        "\n",
        "# Cách 1 :\n",
        "\n",
        "arr = np.ones((3, 3)) > 0\n",
        "print(arr)\n",
        "# Cách 2 : \n",
        "arr = np.ones((3, 3), dtype=bool)\n",
        "print(arr)\n",
        "# Cách 3:\n",
        "arr = np.full(shape=(3,3), fill_value=True, dtype=bool)\n",
        "print(arr)"
      ],
      "execution_count": 10,
      "outputs": [
        {
          "output_type": "stream",
          "text": [
            "[[ True  True  True]\n",
            " [ True  True  True]\n",
            " [ True  True  True]]\n",
            "[[ True  True  True]\n",
            " [ True  True  True]\n",
            " [ True  True  True]]\n",
            "[[ True  True  True]\n",
            " [ True  True  True]\n",
            " [ True  True  True]]\n"
          ],
          "name": "stdout"
        }
      ]
    },
    {
      "cell_type": "code",
      "metadata": {
        "colab": {
          "base_uri": "https://localhost:8080/"
        },
        "id": "zu7V253973Lh",
        "outputId": "17ca79da-0e93-42a9-d1dc-e9f2d2451aec"
      },
      "source": [
        "# câu 4 : Lấy những phần tử mà thoả mãn một điều kiện cho trước của mảng một chiều\n",
        "\n",
        "import numpy as np\n",
        "\n",
        "# tạo mảng một chiều từ 0 đến 9\n",
        "data = np.arange(0, 10, 1)\n",
        "# Tìm phần tử có giá rị lẻ \n",
        "odds = data[data%2 == 1]\n",
        "odds"
      ],
      "execution_count": null,
      "outputs": [
        {
          "output_type": "execute_result",
          "data": {
            "text/plain": [
              "array([1, 3, 5, 7, 9])"
            ]
          },
          "metadata": {},
          "execution_count": 11
        }
      ]
    },
    {
      "cell_type": "code",
      "metadata": {
        "colab": {
          "base_uri": "https://localhost:8080/"
        },
        "id": "XzaaFZ7273Li",
        "outputId": "905b12c9-ee7a-463b-b276-3f820cd4af9d"
      },
      "source": [
        "# câu 5 : Thay thế phần tử thoả mãn điều kiện cho trước bằng 1 một giá khác\n",
        "\n",
        "import numpy as np\n",
        "\n",
        "# tạo mảng một chiều từ 0 đến 9\n",
        "data = np.arange(0, 10, 1)\n",
        "# cách 1\n",
        "print(np.where(data%2 == 1, -1, data))\n",
        "# Thay thế phần tử có giá trị lẻ bằng -1\n",
        "data[data%2==1] = -1\n",
        "print(data)\n"
      ],
      "execution_count": 15,
      "outputs": [
        {
          "output_type": "stream",
          "text": [
            "[ 0 -1  2 -1  4 -1  6 -1  8 -1]\n",
            "[ 0 -1  2 -1  4 -1  6 -1  8 -1]\n"
          ],
          "name": "stdout"
        }
      ]
    },
    {
      "cell_type": "code",
      "metadata": {
        "id": "_4Qc8MI973Li",
        "colab": {
          "base_uri": "https://localhost:8080/"
        },
        "outputId": "157b5d8b-0117-4670-9a0c-e8b6703b2745"
      },
      "source": [
        "# câu 6 : Thay thế phần tử thoả mãn điều kiện cho trước bằng 1 một giá khác \n",
        "# nhưng không thay đổi mảng ban đầu\n",
        "\n",
        "# Thay thế tất cả số lẻ bằng giá trị -1 nhưng mảng ban đầu không thay đổi\n",
        "\n",
        "import numpy as np\n",
        "\n",
        "# tạo mảng một chiều từ 0 đến 9\n",
        "arr = np.arange(0, 10)\n",
        "# arr_copy = arr\n",
        "arr_copy = arr.copy()\n",
        "arr_copy[arr % 2 == 1] = -1\n",
        "print(arr)\n",
        "print(arr_copy);\n",
        "# Cách 2 :\n",
        "arr_copy2 = np.where(arr%2==1, -1, arr)\n",
        "print(arr_copy2)\n",
        "\n"
      ],
      "execution_count": 17,
      "outputs": [
        {
          "output_type": "stream",
          "text": [
            "[0 1 2 3 4 5 6 7 8 9]\n",
            "[ 0 -1  2 -1  4 -1  6 -1  8 -1]\n",
            "[ 0 -1  2 -1  4 -1  6 -1  8 -1]\n"
          ],
          "name": "stdout"
        }
      ]
    },
    {
      "cell_type": "code",
      "metadata": {
        "id": "1-XobBbz73Lj",
        "colab": {
          "base_uri": "https://localhost:8080/"
        },
        "outputId": "81b7c555-d000-4967-af51-1816c41060c4"
      },
      "source": [
        "# câu 7 : Định dạng/chuyển mảng\n",
        "\n",
        "# Chuyển mảng 1 chiều thành mảng 2 chiều có 2 hàng ( dòng )\n",
        "\n",
        "import numpy as np\n",
        "\n",
        "# tạo mảng 1d gồm 10 phần tử\n",
        "arr = np.array([1, 2, 3, 4, 5, 6, 7, 8, 9, 10])\n",
        "# mảng 2 chiều có 2 hàng\n",
        "print(arr.reshape((2, -1)))\n"
      ],
      "execution_count": 19,
      "outputs": [
        {
          "output_type": "stream",
          "text": [
            "[[ 1  2  3  4  5]\n",
            " [ 6  7  8  9 10]]\n"
          ],
          "name": "stdout"
        }
      ]
    },
    {
      "cell_type": "code",
      "metadata": {
        "id": "v9X0h96L73Lk",
        "colab": {
          "base_uri": "https://localhost:8080/"
        },
        "outputId": "3e0f0bf7-aeec-44af-a727-bc1847ff6d8d"
      },
      "source": [
        "# câu 8:  xếp chồng 2 mảng theo chiều dọc\n",
        "\n",
        "import numpy as np\n",
        "\n",
        "# tạo data\n",
        "a = np.arange(10).reshape(2, -1)\n",
        "b = np.repeat(1, 10).reshape(2, -1)\n",
        "print(a)\n",
        "print(b)\n",
        "# Cách 1 : \n",
        "c = np.concatenate([a, b], axis = 0)\n",
        "print(c)\n",
        "# Cách 2 : \n",
        "d = np.vstack([a, b])\n",
        "print(d)\n",
        "# Cách 3 : \n",
        "e = np.r_[a, b]\n",
        "print(e)"
      ],
      "execution_count": 21,
      "outputs": [
        {
          "output_type": "stream",
          "text": [
            "[[0 1 2 3 4]\n",
            " [5 6 7 8 9]]\n",
            "[[1 1 1 1 1]\n",
            " [1 1 1 1 1]]\n",
            "[[0 1 2 3 4]\n",
            " [5 6 7 8 9]\n",
            " [1 1 1 1 1]\n",
            " [1 1 1 1 1]]\n",
            "[[0 1 2 3 4]\n",
            " [5 6 7 8 9]\n",
            " [1 1 1 1 1]\n",
            " [1 1 1 1 1]]\n",
            "[[0 1 2 3 4]\n",
            " [5 6 7 8 9]\n",
            " [1 1 1 1 1]\n",
            " [1 1 1 1 1]]\n"
          ],
          "name": "stdout"
        }
      ]
    },
    {
      "cell_type": "code",
      "metadata": {
        "id": "13JjhcBZ73Lm",
        "colab": {
          "base_uri": "https://localhost:8080/"
        },
        "outputId": "68e44289-0a93-4fea-b139-f26656e7cbaa"
      },
      "source": [
        "# câu 9 : xếp chồng 2 mảng theo chiều ngang\n",
        "\n",
        "import numpy as np\n",
        "\n",
        "# tạo data\n",
        "a = np.arange(10).reshape(2, -1)\n",
        "b = np.repeat(1, 10).reshape(2, -1)\n",
        "print(a)\n",
        "print(b)\n",
        "# Cách 1 : \n",
        "c = np.concatenate([a, b], axis = 1)\n",
        "print(c)\n",
        "# Cách 2 : \n",
        "d = np.hstack([a, b])\n",
        "print(d)\n",
        "# Cách 3 : \n",
        "e = np.c_[a, b]\n",
        "print(e)"
      ],
      "execution_count": 22,
      "outputs": [
        {
          "output_type": "stream",
          "text": [
            "[[0 1 2 3 4]\n",
            " [5 6 7 8 9]]\n",
            "[[1 1 1 1 1]\n",
            " [1 1 1 1 1]]\n",
            "[[0 1 2 3 4 1 1 1 1 1]\n",
            " [5 6 7 8 9 1 1 1 1 1]]\n",
            "[[0 1 2 3 4 1 1 1 1 1]\n",
            " [5 6 7 8 9 1 1 1 1 1]]\n",
            "[[0 1 2 3 4 1 1 1 1 1]\n",
            " [5 6 7 8 9 1 1 1 1 1]]\n"
          ],
          "name": "stdout"
        }
      ]
    },
    {
      "cell_type": "code",
      "metadata": {
        "id": "01Joa2nT73Ln",
        "colab": {
          "base_uri": "https://localhost:8080/"
        },
        "outputId": "6dad12d2-59a0-4057-be70-20649cfe324a"
      },
      "source": [
        "# câu 10\n",
        "\n",
        "import numpy as np\n",
        "\n",
        "# chỉ dùng hàm numpy có sẵn với mảng a như bên dưới\n",
        "a = np.array([1,2,3])\n",
        "print(a)\n",
        "\n",
        "# tạo mảng mới lặp lại mỗi phần tử lên 3 lần\n",
        "b = np.repeat(a, 3)\n",
        "print(b)\n",
        "# tạo mảng mới lặp lại mảng tất cả phần tử lên 3 lần\n",
        "c = np.tile(a, (1, 3))\n",
        "print(c)\n",
        "d = np.tile(a, (3, 1))\n",
        "print(d)"
      ],
      "execution_count": 29,
      "outputs": [
        {
          "output_type": "stream",
          "text": [
            "[1 2 3]\n",
            "[1 1 1 2 2 2 3 3 3]\n",
            "[[1 2 3 1 2 3 1 2 3]]\n",
            "[[1 2 3]\n",
            " [1 2 3]\n",
            " [1 2 3]]\n"
          ],
          "name": "stdout"
        }
      ]
    },
    {
      "cell_type": "code",
      "metadata": {
        "id": "6cCX8F8W73Lo",
        "colab": {
          "base_uri": "https://localhost:8080/"
        },
        "outputId": "8fd8d789-08e2-40c9-a517-6bd0ae3d6570"
      },
      "source": [
        "# câu 11: Lấy phần tử chung của 2 mảng a và b \n",
        "\n",
        "import numpy as np\n",
        "\n",
        "a = np.array([1,2,3,2,3,4,3,5,6])\n",
        "b = np.array([7,2,10,2,7,4,9,4,9,8])\n",
        "\n",
        "# Lấy phần tử chung của 2 mảng a và b \n",
        "np.intersect1d(a, b)\n",
        "# Find unique, different elements"
      ],
      "execution_count": 31,
      "outputs": [
        {
          "output_type": "execute_result",
          "data": {
            "text/plain": [
              "array([2, 4])"
            ]
          },
          "metadata": {},
          "execution_count": 31
        }
      ]
    },
    {
      "cell_type": "code",
      "metadata": {
        "id": "g7D_Wx8H73Lo",
        "colab": {
          "base_uri": "https://localhost:8080/"
        },
        "outputId": "5e6dd993-0d2d-468f-9b67-8acde15b5657"
      },
      "source": [
        "# câu 12 : Xoá phần tử từ 1 mảng mà tồn tại trong 1 mảng khác\n",
        "\n",
        "import numpy as np\n",
        "\n",
        "a = np.array([1,2,3,4,5])\n",
        "b = np.array([5,6,7,8,9])\n",
        "\n",
        "# Từ mảng a xoá tất cả các phần tử mà đã có trong mảng b\n",
        "np.setdiff1d(a,b)"
      ],
      "execution_count": 32,
      "outputs": [
        {
          "output_type": "execute_result",
          "data": {
            "text/plain": [
              "array([1, 2, 3, 4])"
            ]
          },
          "metadata": {},
          "execution_count": 32
        }
      ]
    },
    {
      "cell_type": "code",
      "metadata": {
        "id": "r_Df7PDd73Lo",
        "colab": {
          "base_uri": "https://localhost:8080/"
        },
        "outputId": "c0f0885d-e49b-4b10-a3b2-cd22e141f3b4"
      },
      "source": [
        "# câu 13: \n",
        "\n",
        "import numpy as np\n",
        "\n",
        "a = np.array([1,2,3,2,3,4,3,4,5,6])\n",
        "b = np.array([7,2,10,2,7,4,9,4,9,8])\n",
        "\n",
        "# Lấy tất cả vị trí nơi giá trị các phần tử của 2 mảng a,b giống nhau\n",
        "np.where(a==b)"
      ],
      "execution_count": 33,
      "outputs": [
        {
          "output_type": "execute_result",
          "data": {
            "text/plain": [
              "(array([1, 3, 5, 7]),)"
            ]
          },
          "metadata": {},
          "execution_count": 33
        }
      ]
    },
    {
      "cell_type": "code",
      "metadata": {
        "id": "P_t7JQZ773Lp",
        "colab": {
          "base_uri": "https://localhost:8080/"
        },
        "outputId": "516097f4-93d3-4d27-90ce-7dac83a7502b"
      },
      "source": [
        "# câu 14 : Lấy tất cả các giá trị trong 1 phạm vi cho trước từ 1 mảng\n",
        "\n",
        "import numpy as np\n",
        "\n",
        "a = np.array([2,6,1,9,10,3,27])\n",
        "\n",
        "# tìm tất cả vị trí của các phần tử có giá trị trong phạm vi [5,10]\n",
        "b = a[np.where((a>=5)&(a<=10))]\n",
        "print(b)\n",
        "\n",
        "c = a[(a>=5)&(a<=10)]\n",
        "print(c)\n",
        "\n",
        "d = a[np.where(np.logical_and(a>=5, a<=10))]\n",
        "print(d)"
      ],
      "execution_count": 40,
      "outputs": [
        {
          "output_type": "stream",
          "text": [
            "[ 6  9 10]\n",
            "[ 6  9 10]\n",
            "[ 6  9 10]\n"
          ],
          "name": "stdout"
        }
      ]
    },
    {
      "cell_type": "code",
      "metadata": {
        "id": "2o9eYcTT73Lp",
        "colab": {
          "base_uri": "https://localhost:8080/"
        },
        "outputId": "5b79a829-24ab-434a-c877-9ee8bb481411"
      },
      "source": [
        "# câu 15 : Tạo hàm xử lý trên mảng numpy\n",
        "\n",
        "import numpy as np\n",
        "\n",
        "def maxx(x,y):\n",
        "    # Lấy số lớn nhất nhất trong 2 số\n",
        "    if x >= y :\n",
        "        return x\n",
        "    else:\n",
        "        return y\n",
        "\n",
        "a = np.array([5,7,9,8,6,4,5])\n",
        "b = np.array([6,3,4,8,9,7,1])\n",
        "\n",
        "# numpy.vectorize lấy hàm maxx: x,y và biến nó thành maxx: a[] -> b[].\n",
        "pair_max = np.vectorize(maxx, otypes=[float])\n",
        "c = pair_max(a, b)\n",
        "print(c)\n"
      ],
      "execution_count": 43,
      "outputs": [
        {
          "output_type": "stream",
          "text": [
            "[6. 7. 9. 8. 9. 7. 5.]\n",
            "[6 7 9 8 9 7 5]\n"
          ],
          "name": "stdout"
        }
      ]
    },
    {
      "cell_type": "code",
      "metadata": {
        "id": "c7j7w_Lh73Lp",
        "colab": {
          "base_uri": "https://localhost:8080/"
        },
        "outputId": "7fd4c185-5979-46d2-f64f-04f51184d509"
      },
      "source": [
        "import numpy as np\n",
        "\n",
        "# lấy giá trị lớn hơn giữa a và b\n",
        "a = np.array([5,7,9,8,6,4,5])\n",
        "b = np.array([6,3,4,8,9,7,1])\n",
        "\n",
        "\n",
        "# dùng hàm maximum để\n",
        "c = np.maximum(a, b, dtype=float)\n",
        "print(c)\n",
        "\n",
        "# dùng hàm where \n",
        "d = np.where(a < b, b, a)\n",
        "print(d)"
      ],
      "execution_count": 48,
      "outputs": [
        {
          "output_type": "stream",
          "text": [
            "[6. 7. 9. 8. 9. 7. 5.]\n",
            "[6 7 9 8 9 7 5]\n"
          ],
          "name": "stdout"
        }
      ]
    },
    {
      "cell_type": "code",
      "metadata": {
        "id": "iaa_oIUD73Lp",
        "colab": {
          "base_uri": "https://localhost:8080/"
        },
        "outputId": "60669e93-5049-42de-c3c5-43f95aa7aaeb"
      },
      "source": [
        "# câu 16 : Hoán các cột trong mảng 2 chiều \n",
        "\n",
        "import numpy as np\n",
        "\n",
        "# cho mảng arr có shape 3x3\n",
        "arr = np.arange(9).reshape(3,3)\n",
        "\n",
        "# Hoán cột có index 0 và index 1 trong mảng arr\n",
        "arr[:, [1, 0, 2]]\n"
      ],
      "execution_count": 51,
      "outputs": [
        {
          "output_type": "execute_result",
          "data": {
            "text/plain": [
              "array([[1, 0, 2],\n",
              "       [4, 3, 5],\n",
              "       [7, 6, 8]])"
            ]
          },
          "metadata": {},
          "execution_count": 51
        }
      ]
    },
    {
      "cell_type": "code",
      "metadata": {
        "id": "MIbPev2m73Lq",
        "colab": {
          "base_uri": "https://localhost:8080/"
        },
        "outputId": "c4a222be-2d51-4dfc-8240-6aa584f2c8f7"
      },
      "source": [
        "# câu 17 :  Hoán 2 hàng trong mảng 2 chiều \n",
        "\n",
        "import numpy as np\n",
        "\n",
        "# cho mảng arr có shape 3x3\n",
        "arr = np.arange(9).reshape(3,3)\n",
        "print(arr)\n",
        "\n",
        "# Hoán dòng có index 0 và index 1 trong mảng arr\n",
        "arr[[1,0,2], :]"
      ],
      "execution_count": 55,
      "outputs": [
        {
          "output_type": "stream",
          "text": [
            "[[0 1 2]\n",
            " [3 4 5]\n",
            " [6 7 8]]\n"
          ],
          "name": "stdout"
        },
        {
          "output_type": "execute_result",
          "data": {
            "text/plain": [
              "array([[3, 4, 5],\n",
              "       [0, 1, 2],\n",
              "       [6, 7, 8]])"
            ]
          },
          "metadata": {},
          "execution_count": 55
        }
      ]
    },
    {
      "cell_type": "code",
      "metadata": {
        "id": "J2hcwDn_73Lq",
        "colab": {
          "base_uri": "https://localhost:8080/"
        },
        "outputId": "6ff5b9f6-4142-46f6-b51d-3afbf1d70608"
      },
      "source": [
        "# câu 18 : \n",
        "\n",
        "import numpy as np\n",
        "\n",
        "# cho mảng arr có shape 3x3\n",
        "arr = np.arange(9).reshape(3,3)\n",
        "print(arr)\n",
        "# Đoản ngược hàng (dòng) trong mảng 2 chiều\n",
        "print(arr[::-1])\n",
        "print(arr[:, ::-1])\n",
        "print(arr[::-1, :])\n"
      ],
      "execution_count": 61,
      "outputs": [
        {
          "output_type": "stream",
          "text": [
            "[[0 1 2]\n",
            " [3 4 5]\n",
            " [6 7 8]]\n",
            "[[6 7 8]\n",
            " [3 4 5]\n",
            " [0 1 2]]\n",
            "[[2 1 0]\n",
            " [5 4 3]\n",
            " [8 7 6]]\n",
            "[[6 7 8]\n",
            " [3 4 5]\n",
            " [0 1 2]]\n"
          ],
          "name": "stdout"
        }
      ]
    },
    {
      "cell_type": "code",
      "metadata": {
        "id": "NpEKQIJV73Lq",
        "colab": {
          "base_uri": "https://localhost:8080/"
        },
        "outputId": "26757235-3d93-4dff-8eb2-27fb07112b77"
      },
      "source": [
        "# câu 19 \n",
        "\n",
        "import numpy as np\n",
        "\n",
        "# cho mảng arr có shape 3x3\n",
        "arr = np.arange(9).reshape(3,3)\n",
        "\n",
        "# Đoản ngược cột trong mảng 2 chiều\n",
        "arr[:, ::-1]"
      ],
      "execution_count": 62,
      "outputs": [
        {
          "output_type": "execute_result",
          "data": {
            "text/plain": [
              "array([[2, 1, 0],\n",
              "       [5, 4, 3],\n",
              "       [8, 7, 6]])"
            ]
          },
          "metadata": {},
          "execution_count": 62
        }
      ]
    },
    {
      "cell_type": "code",
      "metadata": {
        "id": "RNQAieRG73Lq",
        "colab": {
          "base_uri": "https://localhost:8080/"
        },
        "outputId": "a4cd6733-3e7b-47c3-a96b-d27d9c0fb0a4"
      },
      "source": [
        "# Câu 20 :  Tạo mảng 2 chiều chứa số random kiểu float từ 5 đến 10\n",
        "\n",
        "import numpy as np\n",
        "\n",
        "\n",
        "# Tạo mảng 2 chiều 5x3 từ 5 đến 10\n",
        "# Cách Dùng hàm random.uniform \n",
        "ar = np.random.uniform(5,10,size=(5,3))\n",
        "ar"
      ],
      "execution_count": 66,
      "outputs": [
        {
          "output_type": "execute_result",
          "data": {
            "text/plain": [
              "array([[5.79905927, 6.7246582 , 6.03606274],\n",
              "       [5.1175771 , 5.45901967, 9.99184753],\n",
              "       [8.82969353, 8.37467504, 6.37307083],\n",
              "       [9.66242922, 8.92619297, 5.67848442],\n",
              "       [6.94592479, 9.7596621 , 5.68674827]])"
            ]
          },
          "metadata": {},
          "execution_count": 66
        }
      ]
    },
    {
      "cell_type": "code",
      "metadata": {
        "id": "9PIwISTy73Lr",
        "colab": {
          "base_uri": "https://localhost:8080/"
        },
        "outputId": "4cbd7303-54ec-4e75-a996-766caafc7ea0"
      },
      "source": [
        "# câu 21 \n",
        "\n",
        "import numpy as np\n",
        "\n",
        "# cho mảng a chứa các số ngẫu nhiên từ [1, 50)\n",
        "a = np.random.uniform(1,50,20)\n",
        "print(a)\n",
        "\n",
        "# Thay thế tất cả các giá trị lớn hơn một giá trị cho trước thành một phạm vi [10,30]\n",
        "# Thay thế tất cả các giá trị lớn hơn 30 thành 30 và dưới 10 thành 10\n",
        "# Cách 1 : dùng hàm np.clip  \n",
        "b = np.clip(a, 10., 30.)\n",
        "print(b)\n",
        "\n",
        "# Cách 2 : dùng hàm np.where\n",
        "c = np.where(a < 10, 10, np.where(a > 30, 30, a))\n",
        "print(c)\n"
      ],
      "execution_count": 69,
      "outputs": [
        {
          "output_type": "stream",
          "text": [
            "[48.82513337 27.01742057 38.77289978 32.90673242 14.43781982 21.04848797\n",
            " 37.83199226 20.90545098 11.23486383 48.70748491 30.95158523 37.07968164\n",
            "  6.51600378  6.869717   14.19241712 40.6967339  14.66947925 23.03253354\n",
            " 21.92820931  6.44606434]\n",
            "[30.         27.01742057 30.         30.         14.43781982 21.04848797\n",
            " 30.         20.90545098 11.23486383 30.         30.         30.\n",
            " 10.         10.         14.19241712 30.         14.66947925 23.03253354\n",
            " 21.92820931 10.        ]\n",
            "[30.         27.01742057 30.         30.         14.43781982 21.04848797\n",
            " 30.         20.90545098 11.23486383 30.         30.         30.\n",
            " 10.         10.         14.19241712 30.         14.66947925 23.03253354\n",
            " 21.92820931 10.        ]\n"
          ],
          "name": "stdout"
        }
      ]
    },
    {
      "cell_type": "code",
      "metadata": {
        "id": "9zo9wiGL73Lr",
        "colab": {
          "base_uri": "https://localhost:8080/"
        },
        "outputId": "25c3b7b6-56c1-46e7-b876-87e01f1dce8d"
      },
      "source": [
        "# câu 22: Lấy vị trí của n giá trị đứng đầu từ một mảng numpy\n",
        "\n",
        "import numpy as np\n",
        "\n",
        "# cho mảng a chứa các số ngẫu nhiên từ [1, 50)\n",
        "a = np.random.uniform(1,50, 20)\n",
        "print(a)\n",
        "\n",
        "\n",
        "# Cách 1 : dùng hàm np.argsort() \n",
        "ind = np.argsort(a)[-5:]\n",
        "print(a[np.argsort(a)[-5:]])\n",
        "# Cách 2 : dùng hàm sort() \n",
        "np.argpartition(a, -5)\n",
        "print(a[np.argpartition(a, 5)][-5:])"
      ],
      "execution_count": 82,
      "outputs": [
        {
          "output_type": "stream",
          "text": [
            "[29.74191821 36.41467837 28.29861126 27.4954968  14.86872031 48.97456479\n",
            " 15.14208524 15.53126087 49.43483995 30.85256545 48.65595739 25.56580225\n",
            "  8.84576259 14.60116457 11.51560468 18.32138012 13.51175019 37.47735707\n",
            "  6.30883114 28.29507247]\n",
            "[36.41467837 37.47735707 48.65595739 48.97456479 49.43483995]\n",
            "[36.41467837 49.43483995 37.47735707 48.97456479 30.85256545]\n"
          ],
          "name": "stdout"
        }
      ]
    },
    {
      "cell_type": "code",
      "metadata": {
        "id": "K0xwn_gg73Lr",
        "colab": {
          "base_uri": "https://localhost:8080/"
        },
        "outputId": "bc98627d-6e58-403c-b812-cc55e2bffcbc"
      },
      "source": [
        "# câu 23: Chuyển đổi một mảng chứa nhiều mảng thành một mảng 1d phẳng\n",
        "\n",
        "import numpy as np\n",
        "\n",
        "\n",
        "# cho array_of_arrays như sau\n",
        "arr1 = np.arange(3)\n",
        "arr2 = np.arange(3,7)\n",
        "arr3 = np.arange(7,10)\n",
        "\n",
        "array_of_arrays = np.array([arr1, arr2, arr3])\n",
        "d = np.concatenate(array_of_arrays)\n",
        "print(d)\n",
        "# Chuyển đổi array_of_arrays thành mảng 1d tuyến tính phẳng \n",
        "e = np.hstack(array_of_arrays)\n",
        "print(e)\n"
      ],
      "execution_count": 108,
      "outputs": [
        {
          "output_type": "stream",
          "text": [
            "[0 1 2 3 4 5 6 7 8 9]\n",
            "[0 1 2 3 4 5 6 7 8 9]\n"
          ],
          "name": "stdout"
        },
        {
          "output_type": "stream",
          "text": [
            "/usr/local/lib/python3.7/dist-packages/ipykernel_launcher.py:11: VisibleDeprecationWarning: Creating an ndarray from ragged nested sequences (which is a list-or-tuple of lists-or-tuples-or ndarrays with different lengths or shapes) is deprecated. If you meant to do this, you must specify 'dtype=object' when creating the ndarray\n",
            "  # This is added back by InteractiveShellApp.init_path()\n"
          ],
          "name": "stderr"
        }
      ]
    },
    {
      "cell_type": "code",
      "metadata": {
        "id": "EpaCVOp273Ls",
        "colab": {
          "base_uri": "https://localhost:8080/"
        },
        "outputId": "90d7f06a-d558-4a9f-90eb-3fe9fd40d9c7"
      },
      "source": [
        "# câu 24: Tìm giá trị lớn nhất trong mỗi hàng của mảng 2d \n",
        "\n",
        "import numpy as np\n",
        "\n",
        "# cho mảng a\n",
        "a = np.random.randint(1, 10, [5,3])\n",
        "print(a)\n",
        "\n",
        "\n",
        "# Cách 1 : dùng np.amax\n",
        "b = np.amax(a, axis=1)\n",
        "print(b)\n",
        "\n",
        "#Cách 2 : dung np.apply_along_axis và np.max\n",
        "c = np.apply_along_axis(np.max, axis=1, arr=a)\n",
        "print(c)\n"
      ],
      "execution_count": 91,
      "outputs": [
        {
          "output_type": "stream",
          "text": [
            "[[2 6 1]\n",
            " [6 5 9]\n",
            " [6 4 9]\n",
            " [7 2 9]\n",
            " [4 7 5]]\n",
            "[6 9 9 9 7]\n",
            "[6 9 9 9 7]\n"
          ],
          "name": "stdout"
        }
      ]
    },
    {
      "cell_type": "code",
      "metadata": {
        "id": "gxqRyrMW73Ls",
        "colab": {
          "base_uri": "https://localhost:8080/"
        },
        "outputId": "027e82a0-21c2-4568-962f-61f7a67367c1"
      },
      "source": [
        "# câu 25\n",
        "\n",
        "import numpy as np\n",
        "\n",
        "# cho mảng a\n",
        "a = np.random.randint(1, 10, [5,3])\n",
        "print(a)\n",
        "\n",
        "# tính tỉ số min/max cho mỗi hàng trong mảng a\n",
        "b = np.min(a, axis=1)/np.max(a, axis = 1)\n",
        "print(b)\n"
      ],
      "execution_count": 112,
      "outputs": [
        {
          "output_type": "stream",
          "text": [
            "[[1 3 5]\n",
            " [1 7 5]\n",
            " [4 7 6]\n",
            " [1 6 1]\n",
            " [6 8 4]]\n",
            "[0.2        0.14285714 0.57142857 0.16666667 0.5       ]\n"
          ],
          "name": "stdout"
        }
      ]
    },
    {
      "cell_type": "code",
      "metadata": {
        "id": "dxF9Vic373Ls",
        "colab": {
          "base_uri": "https://localhost:8080/"
        },
        "outputId": "2dcf0dc0-2c50-4a30-9bf3-2f5655da1526"
      },
      "source": [
        "# câu 26: Tìm các vị trí có giá trị trùng lặp trong một mảng numpy\n",
        "\n",
        "import numpy as np\n",
        "\n",
        "# cho mảng a\n",
        "a = np.random.randint(0, 5, 10)\n",
        "print(a)\n",
        "\n",
        "# Tìm các phần tử trùng lặp (lần xuất hiện thứ 2 trở đi) trong mảng đã cho\n",
        "# và đánh dấu chúng là True. Lần đầu tiên xuất hiện là False.\n",
        "\n",
        "# hint: dùng np.full và np.unique\n",
        "b = np.full(a.shape[0], True)\n",
        "\n",
        "unique_a, return_index = np.unique(a, return_index=True)\n",
        "\n",
        "b[return_index] = False\n",
        "b\n",
        "\n"
      ],
      "execution_count": 115,
      "outputs": [
        {
          "output_type": "stream",
          "text": [
            "[2 0 2 4 1 3 0 2 0 1]\n"
          ],
          "name": "stdout"
        },
        {
          "output_type": "execute_result",
          "data": {
            "text/plain": [
              "array([False, False,  True, False, False, False,  True,  True,  True,\n",
              "        True])"
            ]
          },
          "metadata": {},
          "execution_count": 115
        }
      ]
    },
    {
      "cell_type": "code",
      "metadata": {
        "id": "jfUHexCE73Ls",
        "colab": {
          "base_uri": "https://localhost:8080/"
        },
        "outputId": "ea8ecb21-2537-4877-f4ff-3f01962359fc"
      },
      "source": [
        "# câu 27: loại bỏ tất cả các giá trị còn thiếu (np.nan) trong một mảng\n",
        "\n",
        "import numpy as np\n",
        "\n",
        "# cho mảng a\n",
        "a = np.array([1,2,3,np.nan,5,6,7,np.nan])\n",
        "\n",
        "# bỏ tất cả các giá trị nan từ một mảng numpy 1D\n",
        "a[np.logical_not(np.isnan(a))]"
      ],
      "execution_count": 93,
      "outputs": [
        {
          "output_type": "execute_result",
          "data": {
            "text/plain": [
              "array([1., 2., 3., 5., 6., 7.])"
            ]
          },
          "metadata": {},
          "execution_count": 93
        }
      ]
    },
    {
      "cell_type": "code",
      "metadata": {
        "id": "Hy3l4Msy73Ls",
        "colab": {
          "base_uri": "https://localhost:8080/"
        },
        "outputId": "be058565-b0e5-4eab-9da2-27bc679565e0"
      },
      "source": [
        "# câu 28: \n",
        "\n",
        "import numpy as np\n",
        "\n",
        "a = np.array([1,2,3,4,5])\n",
        "b = np.array([4,5,6,7,8])\n",
        "\n",
        "# tính khoảng cách giữa hai mảng a và b, dùng np.linalg.norm\n",
        "np.linalg.norm(a-b)\n"
      ],
      "execution_count": 84,
      "outputs": [
        {
          "output_type": "execute_result",
          "data": {
            "text/plain": [
              "6.708203932499369"
            ]
          },
          "metadata": {},
          "execution_count": 84
        }
      ]
    },
    {
      "cell_type": "code",
      "metadata": {
        "id": "mDEyqqlr73Lt",
        "colab": {
          "base_uri": "https://localhost:8080/"
        },
        "outputId": "f99e46b7-46f2-4feb-8acc-8f5a2e8b56ec"
      },
      "source": [
        "# câu 29: Tìm tất cả các cực đại cục bộ (hay còn gọi các đỉnh) trong một mảng 1d\n",
        "\n",
        "import numpy as np\n",
        "\n",
        "\n",
        "\n",
        "# cho mảng a như sau\n",
        "a = np.array([1, 3, 7, 1, 2, 6, 0, 1])\n",
        "\n",
        "# Tìm tất cả các đỉnh trong một mảng numpy 1D. \n",
        "# Đỉnh là các điểm được bao quanh bởi các giá trị nhỏ hơn ở cả hai phía.\n",
        "doublediff = np.diff(np.sign(np.diff(a)))\n",
        "peak_locations = np.where(doublediff == -2)[0] + 1\n",
        "peak_locations\n",
        "# hint: dùng np.diff và np.sign\n"
      ],
      "execution_count": 88,
      "outputs": [
        {
          "output_type": "execute_result",
          "data": {
            "text/plain": [
              "array([2, 5])"
            ]
          },
          "metadata": {},
          "execution_count": 88
        }
      ]
    },
    {
      "cell_type": "code",
      "metadata": {
        "id": "QYzNL4BZ1rGP"
      },
      "source": [
        ""
      ],
      "execution_count": null,
      "outputs": []
    }
  ]
}