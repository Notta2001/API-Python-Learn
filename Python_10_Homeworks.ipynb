{
  "nbformat": 4,
  "nbformat_minor": 0,
  "metadata": {
    "colab": {
      "name": "Python_10_Homeworks.ipynb",
      "provenance": [],
      "collapsed_sections": [],
      "include_colab_link": true
    },
    "kernelspec": {
      "display_name": "Python 3",
      "language": "python",
      "name": "python3"
    },
    "language_info": {
      "codemirror_mode": {
        "name": "ipython",
        "version": 3
      },
      "file_extension": ".py",
      "mimetype": "text/x-python",
      "name": "python",
      "nbconvert_exporter": "python",
      "pygments_lexer": "ipython3",
      "version": "3.7.3"
    }
  },
  "cells": [
    {
      "cell_type": "markdown",
      "metadata": {
        "id": "view-in-github",
        "colab_type": "text"
      },
      "source": [
        "<a href=\"https://colab.research.google.com/github/ThangDoan2001/API-Python-Learn/blob/master/Python_10_Homeworks.ipynb\" target=\"_parent\"><img src=\"https://colab.research.google.com/assets/colab-badge.svg\" alt=\"Open In Colab\"/></a>"
      ]
    },
    {
      "cell_type": "markdown",
      "metadata": {
        "id": "98B0w1ljQGSm"
      },
      "source": [
        "## HW1 (optional)"
      ]
    },
    {
      "cell_type": "markdown",
      "metadata": {
        "id": "n5v6JUv6gLo5"
      },
      "source": [
        "Tìm hiểu về package json trong python và giải các yêu cầu sau.\n",
        "\n",
        "Bài toán này cung cấp một class gồm có 1 function **_get_json_response** để search tên 1 cuốn sách trên google và trả về 5 kết quả đầu tiên theo kiểu **json**. Bạn hãy thực hiện 3 function còn lại để: \n",
        "\n",
        "1/ Hoàn thiện function **export_json_result** để có thể xuất ra được file json kết quả sau khi search. \n",
        "\n",
        "- Input: query=tên sách, json_path=đường dẫn lưu file json kết quả. \n",
        "\n",
        "- Ouput: file json kết quả tìm kiếm cuốn sách được lưu theo đường dẫn.\n",
        "\n",
        "**Lưu ý:** khi write file json dùng json.dump() với parameter indent = 4 để dễ nhìn nếu kết quả khó nhìn có thể sử dụng https://codebeautify.org/jsonviewer để dễ nhìn kết quả.\n",
        "\n",
        "Tham khảo file  **TTGBCT_1.json** và  **aaa_1.json** \n",
        "\n",
        "----------------------\n",
        "\n",
        "2/ Quan sát file json đã được save, để viết function **json_parser**  lấy các thông tin như sau:\n",
        "\n",
        "- totalItems: số lượng search được từ query\n",
        "- Trong một list các sách trả về, chỉ cần lấy 3 cuốn sách đầu tiên gồm các thông tin sau (GÍA TRỊ NÀO KHÔNG KIẾM ĐƯỢC THÌ TRẢ VỀ STRING 'Unknow'):\n",
        "    + title\n",
        "    + authors\n",
        "    + publisher\n",
        "    + publishedDate\n",
        "    + description\n",
        "    + buyLink\n",
        "    + textToSpeechPermission\n",
        "    + saleability\n",
        "\n",
        "- Thêm 1 cặp key-value, với key là \"query\" và value là tên cuốn sách bàn tìm kiếm vào dictionary output \n",
        "\n",
        "- Input là đường dẫn fie json được ghi xuống từ function của câu 1 ở trên \n",
        "- Ouput: là dictionary với các thông tin muốn lấy \n",
        "\n",
        "Tham khảo file **TTGBCT_2.json** và  **aaa_2.json** \n",
        "\n",
        "-----------------------\n",
        "\n",
        "\n",
        "3/ Dùng kết quả từ **json_parser** tạo thành 1 file xml tương ứng.\n",
        "    \n",
        "- Nếu kết quả trả về có key 'booksInfo' là list rỗng (trường hợp không tìm thấy tên sách) thì không cần tạo element này \n",
        "\n",
        "- Input **json_path** là đường dẫn fie json được ghi xuống từ function của câu 1 ở trên, và **xml_path** là đường dẫn ghi file xml \n",
        "\n",
        "- Output: là file xml có format như **TTGBCT_3.xml** và  **aaa_3.xml** \n",
        "\n",
        "**Lưu ý:** đối với 'booksInfo' là list chứa thông tin từng cuốn sách lấy được, thì mỗi element sẽ tạo ra element \\<book> \\</book> trong xml với attribute id= 0, 1, 2 theo thứ tự trong list của dicitonary. Nếu 'booksInfo' là list rỗng thì bỏ qua không cần làm gì hết.  \n",
        "\n",
        "**Lưu ý:** authors là list nên trong xml sẽ join lại tên các tác giả và cách nhau bằng dấu ','\n",
        "\n",
        "**LƯU Ý: FILE CÓ TÊN \"TTGBCT\" LÀ CÁC FILE CÓ TÊN BOOK TÌM THÀNH CÔNG, CÒN \"aaa\" LÀ CÁC FILE CÓ TÊN BOOK KHÔNG TÌM ĐƯỢC**\n",
        "\n",
        "**CÓ THỂ TÙY Ý CHỈNH SỬA CODE ĐƯỢC ĐƯA TRƯỚC, CHỈ CẦN RA KẾT QUẢ NHƯ YÊU CẦU ĐỀ BÀI**"
      ]
    },
    {
      "cell_type": "code",
      "metadata": {
        "colab": {
          "base_uri": "https://localhost:8080/"
        },
        "id": "3VT6__4NZgOW",
        "outputId": "43856687-e2d6-4167-829f-6ccae7ae5786"
      },
      "source": [
        "from google.colab import drive\n",
        "drive.mount('/content/drive')"
      ],
      "execution_count": 6,
      "outputs": [
        {
          "output_type": "stream",
          "text": [
            "Mounted at /content/drive\n"
          ],
          "name": "stdout"
        }
      ]
    },
    {
      "cell_type": "markdown",
      "metadata": {
        "id": "5fxsPwLDPmih"
      },
      "source": [
        "Ví Dụ: các file TTGBCT tìm cuốn sách  'Tôi tài giỏi bạn cũng thế'\n",
        "```python\n",
        "search_books = SearchingGoogleBook()\n",
        "search_books.export_json_result('Tôi tài giỏi bạn cũng thế', 'TTGBCT.json') # xem kết quả file TTGBCT_1.json \n",
        "search_books.json_parser('TTGBCT.json') # xem kết quả file TTGBCT_2.json\n",
        "search_books.export_xml_final_result('TTGBCT.json', 'TTGBCT.xml') # xem kết quả file TTGBCT_3.xml\n",
        "```"
      ]
    },
    {
      "cell_type": "markdown",
      "metadata": {
        "id": "_mixlJd2PvJs"
      },
      "source": [
        "Ví Dụ: các file aaa tìm cuốn sách không tồn tại \n",
        "```python\n",
        "search_books = SearchingGoogleBook()\n",
        "search_books.export_json_result('aaaaaaaaaaassssssssssssssssssssssssseeeeeeeeeeeeeeeeeeee', 'aaa.json') # xem kết quả file aaa_1.json\n",
        "search_books.json_parser('aaa.json') # xem kết quả file aaa_2.json\n",
        "search_books.export_xml_final_result('aaa.json', 'aaa.xml') # xem kết quả file aaa_3.xml\n",
        "```"
      ]
    },
    {
      "cell_type": "markdown",
      "metadata": {
        "id": "PnGel8qaH0uD"
      },
      "source": [
        "```python\n",
        "class SearchingGoogleBook:\n",
        "    def __init__(self, maxRes=5):\n",
        "        self.endpoint = \"https://www.googleapis.com/books/v1/volumes\"\n",
        "        self.maxRes = maxRes\n",
        "        self.query = ''\n",
        "        # Các bạn có thể tùy ý khai báo thêm \n",
        "\n",
        "    def _get_json_response(self):\n",
        "        if self.query:\n",
        "            params = {\"q\": self.query, \"maxResults\": self.maxRes}\n",
        "            response = requests.get(self.endpoint, params=params)\n",
        "            return response.json()\n",
        "        else:\n",
        "            raise Exception(\"query is empty\")\n",
        "\n",
        "    def export_json_result(self, query, json_path='./book.json'):\n",
        "        self.query = query\n",
        "        response = self._get_json_response()\n",
        "        # Hàm 1\n",
        "    \n",
        "    def json_parser(self, json_path=\"\"):\n",
        "        # Sử dụng giá trị UNKNOW_VAL khi không kiếm được thông tin cần tìm. \n",
        "        # Ví dụ không kiếm được \"authors\" thi cho value = UNKNOW_VAL\n",
        "        UNKNOW_VAL = 'Unknow'\n",
        "        # Các bạn có thể sử dụng dictionary mẫu này là dict trả về.\n",
        "        # \"booksInfo\" là list và mỗi element là các thông tin các cuốn sách kiếm được \n",
        "        # (ở đây chỉ yêu cầu tối đa là 3 cuốn sách)\n",
        "        dict_res = {\n",
        "            'query': self.query,\n",
        "            'totalItems': 0,\n",
        "            'booksInfo': []\n",
        "        }\n",
        "        # Hàm 2\n",
        "\n",
        "    \n",
        "    def export_xml_final_result(self, json_path=\"\", xml_path=\"\"):\n",
        "        # Hàm 3\n",
        "        \n",
        "```"
      ]
    },
    {
      "cell_type": "markdown",
      "metadata": {
        "id": "T4IRVfUqLbYT"
      },
      "source": [
        "----------------------------------------"
      ]
    },
    {
      "cell_type": "code",
      "metadata": {
        "id": "r1RSU5KeY2fn"
      },
      "source": [
        "import requests \n",
        "import json\n",
        "import xml.etree.cElementTree as e\n",
        "\n",
        "class SearchingGoogleBook:\n",
        "  def __init__(self, maxRes=5):\n",
        "    self.endpoint = \"https://www.googleapis.com/books/v1/volumes\"\n",
        "    self.maxRes = maxRes\n",
        "    self.query = \"\"\n",
        "  \n",
        "  def _get_json_response(self):\n",
        "    if self.query:\n",
        "      params = {\"q\": self.query, \"maxResults\": self.maxRes}\n",
        "      response = requests.get(self.endpoint, params=params)\n",
        "      return response.json()\n",
        "    else:\n",
        "      raise Exception('Query is empty')\n",
        "    \n",
        "  def export_json_result(self, query, json_path=''):\n",
        "    self.query = query\n",
        "    self.response = self._get_json_response()\n",
        "    josn_path = \"/content/drive/MyDrive/Colab Notebooks/\" + json_path\n",
        "    with open(json_path, 'w', encoding='utf8') as file:\n",
        "      json.dump(self.response, file, indent = 4, ensure_ascii=False) \n",
        "\n",
        "  def json_parser(self, json_path=\"\"):\n",
        "    dict_res = {\n",
        "            'query': self.query,\n",
        "            'totalItems': self.response.get('totalItems'),\n",
        "            'booksInfo': self.get_books_info()\n",
        "    }\n",
        "    json_path = \"/content/drive/MyDrive/Colab Notebooks/\" + json_path\n",
        "    with open(json_path, 'w', encoding='utf8') as file:\n",
        "      json.dump(dict_res, file, indent = 4, ensure_ascii=False)\n",
        "    return dict_res\n",
        "\n",
        "  def get_books_info(self):\n",
        "    UNKNOW_VAL = 'Unknow'\n",
        "    booksInfo = []\n",
        "    maxItems = self.response.get('totalItems') if self.response.get('totalItems') < 3 else 3\n",
        "    for i in range(maxItems):\n",
        "      bookInfo = dict()\n",
        "\n",
        "      bookInfo['title'] = self.response.get('items')[i].get('volumeInfo').get('title') if self.response.get('items')[i].get('volumeInfo').get('title') != None else UNKNOW_VAL\n",
        "      bookInfo['authors'] = self.response.get('items')[i].get('volumeInfo').get('authors') if self.response.get('items')[i].get('volumeInfo').get('authors') != None else UNKNOW_VAL\n",
        "      bookInfo['publisher'] = self.response.get('items')[i].get('volumeInfo').get('publisher') if self.response.get('items')[i].get('volumeInfo').get('publisher') != None else UNKNOW_VAL\n",
        "      bookInfo['publishedDate'] = self.response.get('items')[i].get('volumeInfo').get('publishedDate') if self.response.get('items')[i].get('volumeInfo').get('publishedDate') != None else UNKNOW_VAL\n",
        "      bookInfo['description'] = self.response.get('items')[i].get('volumeInfo').get('description') if self.response.get('items')[i].get('volumeInfo').get('description') != None else UNKNOW_VAL\n",
        "      bookInfo['buyLink'] = self.response.get('items')[i].get('saleInfo').get('buyLink') if self.response.get('items')[i].get('saleInfo').get('buyLink') != None else UNKNOW_VAL\n",
        "      bookInfo['textToSpeechPermission'] = self.response.get('items')[i].get('accessInfo').get('textToSpeechPermission') if self.response.get('items')[i].get('accessInfo').get('textToSpeechPermission') != None else UNKNOW_VAL\n",
        "      bookInfo['pdf'] = self.response.get('items')[i].get('accessInfo').get('pdf').get('isAvailable') if self.response.get('items')[i].get('accessInfo').get('pdf').get('isAvailable') != None else UNKNOW_VAL\n",
        "      booksInfo.append(bookInfo)\n",
        "    return booksInfo\n",
        "  \n",
        "  def export_xml_final_result(self, json_path=\"\", xml_path=\"\"):\n",
        "    json_path = \"/content/drive/MyDrive/Colab Notebooks/\" + json_path\n",
        "    with open(json_path, 'r', encoding='utf8') as file:\n",
        "      data = json.load(file)\n",
        "    for key, value in data.get('booksInfo')[0].items():\n",
        "      print(key, value)\n",
        "    r = e.Element(\"books\")\n",
        "    e.SubElement(r,\"query\").text = data.get('query')\n",
        "    e.SubElement(r,\"totalItems\").text = data.get('totalItems')\n",
        "    e.SubElement(r,\"book\").attrib = \"1\"\n",
        "    e.SubElement(r,\"book\").attrib = \"2\"\n",
        "    e.SubElement(r,\"book\").attrib = \"3\"\n",
        "    # print(r.findall(\"book\")[1].attrib)\n",
        "    for i in range (3):\n",
        "      for key, value in data.get('booksInfo')[i].items():\n",
        "        e.SubElement(r.findall('book')[i], \"${}\".format(key)).text = str(value)\n",
        "\n",
        "\n",
        "    xml_path = \"/content/drive/MyDrive/Colab Notebooks/\" + xml_path\n",
        "    a = e.ElementTree(r)\n",
        "    a.write(xml_path)\n",
        "\n",
        "\n",
        "\n",
        "      \n",
        "\n"
      ],
      "execution_count": 100,
      "outputs": []
    },
    {
      "cell_type": "code",
      "metadata": {
        "id": "yY4a3F9Vb7iE",
        "colab": {
          "base_uri": "https://localhost:8080/",
          "height": 496
        },
        "outputId": "ad65e363-ca0d-4bf4-e992-d8084756b58b"
      },
      "source": [
        "search_books = SearchingGoogleBook()\n",
        "search_books.export_json_result(\"Tôi tài giỏi bạn cũng thế\", \"TTGBCT.json\")\n",
        "search_books.json_parser('TTGBCT2.json') \n",
        "search_books.export_xml_final_result(json_path='TTGBCT2.json', xml_path='TTGBCT.xml')"
      ],
      "execution_count": 101,
      "outputs": [
        {
          "output_type": "stream",
          "text": [
            "title I Am Gifted, So Are You\n",
            "authors ['Adam Khoo']\n",
            "publisher Marshall Cavendish International Asia Pte Ltd\n",
            "publishedDate 2014-07-15\n",
            "description Every student can achieve and excel if given the opportunity! This book will inspire legions of students to stretch and realise their potential. It tells the inspiring story of an underachieving 13-year-old’s rise to become among the top 1% of students in the National University of Singapore, and earn a place on the Dean’s List every consecutive year for outstanding academic achievements. Adam shares with readers the skills and success strategies of his personal journey, in simple and clear terms, with exercises to help train others in his techniques. It is the perfect book for students, parents, educators and anyone who wants to enhance his or her brainpower\n",
            "buyLink https://play.google.com/store/books/details?id=WIZ1BAAAQBAJ&rdid=book-WIZ1BAAAQBAJ&rdot=1&source=gbs_api\n",
            "textToSpeechPermission ALLOWED\n",
            "pdf True\n"
          ],
          "name": "stdout"
        },
        {
          "output_type": "error",
          "ename": "SystemError",
          "evalue": "ignored",
          "traceback": [
            "\u001b[0;31m---------------------------------------------------------------------------\u001b[0m",
            "\u001b[0;31mSystemError\u001b[0m                               Traceback (most recent call last)",
            "\u001b[0;32m<ipython-input-101-08812bc59145>\u001b[0m in \u001b[0;36m<module>\u001b[0;34m()\u001b[0m\n\u001b[1;32m      2\u001b[0m \u001b[0msearch_books\u001b[0m\u001b[0;34m.\u001b[0m\u001b[0mexport_json_result\u001b[0m\u001b[0;34m(\u001b[0m\u001b[0;34m\"Tôi tài giỏi bạn cũng thế\"\u001b[0m\u001b[0;34m,\u001b[0m \u001b[0;34m\"TTGBCT.json\"\u001b[0m\u001b[0;34m)\u001b[0m\u001b[0;34m\u001b[0m\u001b[0;34m\u001b[0m\u001b[0m\n\u001b[1;32m      3\u001b[0m \u001b[0msearch_books\u001b[0m\u001b[0;34m.\u001b[0m\u001b[0mjson_parser\u001b[0m\u001b[0;34m(\u001b[0m\u001b[0;34m'TTGBCT2.json'\u001b[0m\u001b[0;34m)\u001b[0m\u001b[0;34m\u001b[0m\u001b[0;34m\u001b[0m\u001b[0m\n\u001b[0;32m----> 4\u001b[0;31m \u001b[0msearch_books\u001b[0m\u001b[0;34m.\u001b[0m\u001b[0mexport_xml_final_result\u001b[0m\u001b[0;34m(\u001b[0m\u001b[0mjson_path\u001b[0m\u001b[0;34m=\u001b[0m\u001b[0;34m'TTGBCT2.json'\u001b[0m\u001b[0;34m,\u001b[0m \u001b[0mxml_path\u001b[0m\u001b[0;34m=\u001b[0m\u001b[0;34m'TTGBCT.xml'\u001b[0m\u001b[0;34m)\u001b[0m\u001b[0;34m\u001b[0m\u001b[0;34m\u001b[0m\u001b[0m\n\u001b[0m",
            "\u001b[0;32m<ipython-input-100-a9e9a68a4f63>\u001b[0m in \u001b[0;36mexport_xml_final_result\u001b[0;34m(self, json_path, xml_path)\u001b[0m\n\u001b[1;32m     73\u001b[0m     \u001b[0mxml_path\u001b[0m \u001b[0;34m=\u001b[0m \u001b[0;34m\"/content/drive/MyDrive/Colab Notebooks/\"\u001b[0m \u001b[0;34m+\u001b[0m \u001b[0mxml_path\u001b[0m\u001b[0;34m\u001b[0m\u001b[0;34m\u001b[0m\u001b[0m\n\u001b[1;32m     74\u001b[0m     \u001b[0ma\u001b[0m \u001b[0;34m=\u001b[0m \u001b[0me\u001b[0m\u001b[0;34m.\u001b[0m\u001b[0mElementTree\u001b[0m\u001b[0;34m(\u001b[0m\u001b[0mr\u001b[0m\u001b[0;34m)\u001b[0m\u001b[0;34m\u001b[0m\u001b[0;34m\u001b[0m\u001b[0m\n\u001b[0;32m---> 75\u001b[0;31m     \u001b[0ma\u001b[0m\u001b[0;34m.\u001b[0m\u001b[0mwrite\u001b[0m\u001b[0;34m(\u001b[0m\u001b[0mxml_path\u001b[0m\u001b[0;34m)\u001b[0m\u001b[0;34m\u001b[0m\u001b[0;34m\u001b[0m\u001b[0m\n\u001b[0m\u001b[1;32m     76\u001b[0m \u001b[0;34m\u001b[0m\u001b[0m\n\u001b[1;32m     77\u001b[0m \u001b[0;34m\u001b[0m\u001b[0m\n",
            "\u001b[0;32m/usr/lib/python3.7/xml/etree/ElementTree.py\u001b[0m in \u001b[0;36mwrite\u001b[0;34m(self, file_or_filename, encoding, xml_declaration, default_namespace, method, short_empty_elements)\u001b[0m\n\u001b[1;32m    772\u001b[0m                 \u001b[0m_serialize_text\u001b[0m\u001b[0;34m(\u001b[0m\u001b[0mwrite\u001b[0m\u001b[0;34m,\u001b[0m \u001b[0mself\u001b[0m\u001b[0;34m.\u001b[0m\u001b[0m_root\u001b[0m\u001b[0;34m)\u001b[0m\u001b[0;34m\u001b[0m\u001b[0;34m\u001b[0m\u001b[0m\n\u001b[1;32m    773\u001b[0m             \u001b[0;32melse\u001b[0m\u001b[0;34m:\u001b[0m\u001b[0;34m\u001b[0m\u001b[0;34m\u001b[0m\u001b[0m\n\u001b[0;32m--> 774\u001b[0;31m                 \u001b[0mqnames\u001b[0m\u001b[0;34m,\u001b[0m \u001b[0mnamespaces\u001b[0m \u001b[0;34m=\u001b[0m \u001b[0m_namespaces\u001b[0m\u001b[0;34m(\u001b[0m\u001b[0mself\u001b[0m\u001b[0;34m.\u001b[0m\u001b[0m_root\u001b[0m\u001b[0;34m,\u001b[0m \u001b[0mdefault_namespace\u001b[0m\u001b[0;34m)\u001b[0m\u001b[0;34m\u001b[0m\u001b[0;34m\u001b[0m\u001b[0m\n\u001b[0m\u001b[1;32m    775\u001b[0m                 \u001b[0mserialize\u001b[0m \u001b[0;34m=\u001b[0m \u001b[0m_serialize\u001b[0m\u001b[0;34m[\u001b[0m\u001b[0mmethod\u001b[0m\u001b[0;34m]\u001b[0m\u001b[0;34m\u001b[0m\u001b[0;34m\u001b[0m\u001b[0m\n\u001b[1;32m    776\u001b[0m                 serialize(write, self._root, qnames, namespaces,\n",
            "\u001b[0;32m/usr/lib/python3.7/xml/etree/ElementTree.py\u001b[0m in \u001b[0;36m_namespaces\u001b[0;34m(elem, default_namespace)\u001b[0m\n\u001b[1;32m    885\u001b[0m         \u001b[0;32melif\u001b[0m \u001b[0mtag\u001b[0m \u001b[0;32mis\u001b[0m \u001b[0;32mnot\u001b[0m \u001b[0;32mNone\u001b[0m \u001b[0;32mand\u001b[0m \u001b[0mtag\u001b[0m \u001b[0;32mis\u001b[0m \u001b[0;32mnot\u001b[0m \u001b[0mComment\u001b[0m \u001b[0;32mand\u001b[0m \u001b[0mtag\u001b[0m \u001b[0;32mis\u001b[0m \u001b[0;32mnot\u001b[0m \u001b[0mPI\u001b[0m\u001b[0;34m:\u001b[0m\u001b[0;34m\u001b[0m\u001b[0;34m\u001b[0m\u001b[0m\n\u001b[1;32m    886\u001b[0m             \u001b[0m_raise_serialization_error\u001b[0m\u001b[0;34m(\u001b[0m\u001b[0mtag\u001b[0m\u001b[0;34m)\u001b[0m\u001b[0;34m\u001b[0m\u001b[0;34m\u001b[0m\u001b[0m\n\u001b[0;32m--> 887\u001b[0;31m         \u001b[0;32mfor\u001b[0m \u001b[0mkey\u001b[0m\u001b[0;34m,\u001b[0m \u001b[0mvalue\u001b[0m \u001b[0;32min\u001b[0m \u001b[0melem\u001b[0m\u001b[0;34m.\u001b[0m\u001b[0mitems\u001b[0m\u001b[0;34m(\u001b[0m\u001b[0;34m)\u001b[0m\u001b[0;34m:\u001b[0m\u001b[0;34m\u001b[0m\u001b[0;34m\u001b[0m\u001b[0m\n\u001b[0m\u001b[1;32m    888\u001b[0m             \u001b[0;32mif\u001b[0m \u001b[0misinstance\u001b[0m\u001b[0;34m(\u001b[0m\u001b[0mkey\u001b[0m\u001b[0;34m,\u001b[0m \u001b[0mQName\u001b[0m\u001b[0;34m)\u001b[0m\u001b[0;34m:\u001b[0m\u001b[0;34m\u001b[0m\u001b[0;34m\u001b[0m\u001b[0m\n\u001b[1;32m    889\u001b[0m                 \u001b[0mkey\u001b[0m \u001b[0;34m=\u001b[0m \u001b[0mkey\u001b[0m\u001b[0;34m.\u001b[0m\u001b[0mtext\u001b[0m\u001b[0;34m\u001b[0m\u001b[0;34m\u001b[0m\u001b[0m\n",
            "\u001b[0;31mSystemError\u001b[0m: ../Objects/dictobject.c:2636: bad argument to internal function"
          ]
        }
      ]
    },
    {
      "cell_type": "code",
      "metadata": {
        "colab": {
          "base_uri": "https://localhost:8080/"
        },
        "id": "wgH8VZCVzuA2",
        "outputId": "27065d24-245a-49b9-86ce-5d6a9c3208b7"
      },
      "source": [
        "search_books = SearchingGoogleBook()\n",
        "search_books.export_json_result(\"Tôi tài giỏi bạn cũng thế\", \"TTGBCT.json\")\n",
        "data = search_books.json_parser('TTGBCT2.json') \n",
        "data[]"
      ],
      "execution_count": 25,
      "outputs": [
        {
          "output_type": "execute_result",
          "data": {
            "text/plain": [
              "{'booksInfo': [{'authors': ['Adam Khoo'],\n",
              "   'buyLink': 'https://play.google.com/store/books/details?id=WIZ1BAAAQBAJ&rdid=book-WIZ1BAAAQBAJ&rdot=1&source=gbs_api',\n",
              "   'description': 'Every student can achieve and excel if given the opportunity! This book will inspire legions of students to stretch and realise their potential. It tells the inspiring story of an underachieving 13-year-old’s rise to become among the top 1% of students in the National University of Singapore, and earn a place on the Dean’s List every consecutive year for outstanding academic achievements. Adam shares with readers the skills and success strategies of his personal journey, in simple and clear terms, with exercises to help train others in his techniques. It is the perfect book for students, parents, educators and anyone who wants to enhance his or her brainpower',\n",
              "   'pdf': True,\n",
              "   'publishedDate': '2014-07-15',\n",
              "   'publisher': 'Marshall Cavendish International Asia Pte Ltd',\n",
              "   'textToSpeechPermission': 'ALLOWED',\n",
              "   'title': 'I Am Gifted, So Are You'},\n",
              "  {'authors': ['Adam Khoo', 'Tony Buzan', 'Ernest Wong'],\n",
              "   'buyLink': 'Unknow',\n",
              "   'description': 'Unknow',\n",
              "   'pdf': False,\n",
              "   'publishedDate': '2002',\n",
              "   'publisher': 'Unknow',\n",
              "   'textToSpeechPermission': 'ALLOWED',\n",
              "   'title': 'I Am Gifted, So are You!'},\n",
              "  {'authors': ['Adam Khoo'],\n",
              "   'buyLink': 'Unknow',\n",
              "   'description': 'Unknow',\n",
              "   'pdf': False,\n",
              "   'publishedDate': '2018',\n",
              "   'publisher': 'Unknow',\n",
              "   'textToSpeechPermission': 'ALLOWED',\n",
              "   'title': 'Tôi tài giỏi, bạn cũng thế!'}],\n",
              " 'query': 'Tôi tài giỏi bạn cũng thế',\n",
              " 'totalItems': 501}"
            ]
          },
          "metadata": {
            "tags": []
          },
          "execution_count": 25
        }
      ]
    },
    {
      "cell_type": "code",
      "metadata": {
        "colab": {
          "base_uri": "https://localhost:8080/",
          "height": 214
        },
        "id": "Jwc5s1wQhakt",
        "outputId": "75e17d39-43b3-4bca-d880-5bbbf9325ff8"
      },
      "source": [
        "\n",
        "#response['items'][0]['volumeInfo']['authorss']\n",
        "UNKNOW_VAL = 'Unknow'\n",
        "res = response.get('query')\n",
        "res"
      ],
      "execution_count": 23,
      "outputs": [
        {
          "output_type": "error",
          "ename": "NameError",
          "evalue": "ignored",
          "traceback": [
            "\u001b[0;31m---------------------------------------------------------------------------\u001b[0m",
            "\u001b[0;31mNameError\u001b[0m                                 Traceback (most recent call last)",
            "\u001b[0;32m<ipython-input-23-5736cbc3fd81>\u001b[0m in \u001b[0;36m<module>\u001b[0;34m()\u001b[0m\n\u001b[1;32m      2\u001b[0m \u001b[0;31m#response['items'][0]['volumeInfo']['authorss']\u001b[0m\u001b[0;34m\u001b[0m\u001b[0;34m\u001b[0m\u001b[0;34m\u001b[0m\u001b[0m\n\u001b[1;32m      3\u001b[0m \u001b[0mUNKNOW_VAL\u001b[0m \u001b[0;34m=\u001b[0m \u001b[0;34m'Unknow'\u001b[0m\u001b[0;34m\u001b[0m\u001b[0;34m\u001b[0m\u001b[0m\n\u001b[0;32m----> 4\u001b[0;31m \u001b[0mres\u001b[0m \u001b[0;34m=\u001b[0m \u001b[0mresponse\u001b[0m\u001b[0;34m.\u001b[0m\u001b[0mget\u001b[0m\u001b[0;34m(\u001b[0m\u001b[0;34m'query'\u001b[0m\u001b[0;34m)\u001b[0m\u001b[0;34m\u001b[0m\u001b[0;34m\u001b[0m\u001b[0m\n\u001b[0m\u001b[1;32m      5\u001b[0m \u001b[0mres\u001b[0m\u001b[0;34m\u001b[0m\u001b[0;34m\u001b[0m\u001b[0m\n",
            "\u001b[0;31mNameError\u001b[0m: name 'response' is not defined"
          ]
        }
      ]
    },
    {
      "cell_type": "code",
      "metadata": {
        "colab": {
          "base_uri": "https://localhost:8080/",
          "height": 35
        },
        "id": "bfhRH3Ndm-4D",
        "outputId": "83378adf-9d44-470c-ef1f-4664f647c4fc"
      },
      "source": [
        "bookInfo = dict()\n",
        "bookInfo['title'] = response.get('items')[0].get('volumeInfo').get('title') if response.get('items')[0].get('volumeInfo').get('title') != None else UNKNOW_VAL\n",
        "response.get('items')[0].get('accessInfo').get('textToSpeechPermission')"
      ],
      "execution_count": null,
      "outputs": [
        {
          "output_type": "execute_result",
          "data": {
            "application/vnd.google.colaboratory.intrinsic+json": {
              "type": "string"
            },
            "text/plain": [
              "'ALLOWED'"
            ]
          },
          "metadata": {
            "tags": []
          },
          "execution_count": 94
        }
      ]
    },
    {
      "cell_type": "markdown",
      "metadata": {
        "id": "ywTAypjqMmj8"
      },
      "source": [
        "## HW2"
      ]
    },
    {
      "cell_type": "markdown",
      "metadata": {
        "id": "iQeyntrSMn7t"
      },
      "source": [
        "Xóa những từ không mong muốn trong một chuỗi **s**\n",
        "\n",
        "1/ Chỉ sử dụng method replace của string \n",
        "\n",
        "2/ Chỉ sử dụng method translate của string\n",
        "\n",
        "3/ Dùng regex\n",
        "\n",
        "- Input: **s** = \"Pyth*^on% Ex?ercis^es#\"\n",
        "\n",
        "- Output: 'Python Exercises'"
      ]
    },
    {
      "cell_type": "markdown",
      "metadata": {
        "id": "hnLEB-Vx9sYE"
      },
      "source": [
        "-------------------------------"
      ]
    },
    {
      "cell_type": "code",
      "metadata": {
        "id": "APLc6q5WOLTE"
      },
      "source": [
        ""
      ],
      "execution_count": null,
      "outputs": []
    },
    {
      "cell_type": "markdown",
      "metadata": {
        "id": "sk_XevrVOe56"
      },
      "source": [
        "## HW3"
      ]
    },
    {
      "cell_type": "markdown",
      "metadata": {
        "id": "nlYFQS26R8xH"
      },
      "source": [
        "Đọc file **HW3.txt**, xử lý đoạn văn và tạo ra output là một json gồm key là từ trong đoạn văn và value là số lần xuất hiện của từ đó.  \n",
        "\n",
        "Các bước xử lý đoạn văn: \n",
        "- Biến đổi thành chữ thường không viết hoa \n",
        "- Xóa hết các ký tự đặc biệt chỉ giữ lại phần chữ (bao gồm cả dấu ',', '.', '\\n', ...)\n",
        "\n",
        "Tham khảo file **HW3_cleaned.txt** là kết quả sau khi qua bước xử lý đoạn văn\n",
        "\n",
        "VD: Output \n",
        "\n",
        "```json\n",
        "{'bao': 2,\n",
        " 'bay': 3,\n",
        " 'biết': 2,\n",
        " 'bung': 1,\n",
        " 'buốt': 1,\n",
        " 'bên': 1,\n",
        " 'bóng': 1,\n",
        " 'bốn': 1,\n",
        " 'bờ': 1,\n",
        " 'bức': 1,\n",
        " 'chiều': 2,\n",
        " ...\n",
        "}\n",
        "```"
      ]
    },
    {
      "cell_type": "markdown",
      "metadata": {
        "id": "852tyql4B1T6"
      },
      "source": [
        "----------------------------------------"
      ]
    },
    {
      "cell_type": "markdown",
      "metadata": {
        "id": "c2E5mfvoUWyw"
      },
      "source": [
        "## HW4"
      ]
    },
    {
      "cell_type": "markdown",
      "metadata": {
        "id": "1hqYXnj-4ym2"
      },
      "source": [
        "Cho một string **s** và **max_times** là một số nguyên dương thể hiện số lần lặp lại từng chứ cái trong **s** theo vòng tròn.\n",
        "\n",
        "**Lưu ý**: **max_times** phải lớn hơn độ dài của **s**\n",
        "\n",
        "VD: \n",
        "- Input **s**=\"abc\", **max_times**= 5\n",
        "- Output 'a', 'b', 'c', 'a', 'b'\n",
        "\n",
        "1/ Giải quyêt bài toán bằng các sử dụng class iterator\n",
        "\n",
        "VD: \n",
        "\n",
        "```python \n",
        "c = CircleIterator('abc', 5)\n",
        "c = iter(c)\n",
        "print(next(c)) -> 'a'\n",
        "print(next(c)) -> 'b'\n",
        "print(next(c)) -> 'c'\n",
        "print(next(c)) -> 'a'\n",
        "print(next(c)) -> 'b'\n",
        "```\n",
        "\n",
        "\n",
        "2/ Giải quyêt bài toán bằng generator \n",
        "```python \n",
        "c = circleString('abc', 5)\n",
        "print(next(c)) -> 'a'\n",
        "print(next(c)) -> 'b'\n",
        "print(next(c)) -> 'c'\n",
        "print(next(c)) -> 'a'\n",
        "print(next(c)) -> 'b'\n",
        "```"
      ]
    },
    {
      "cell_type": "markdown",
      "metadata": {
        "id": "3In-rc776VD4"
      },
      "source": [
        "----------------------------------"
      ]
    },
    {
      "cell_type": "code",
      "metadata": {
        "id": "PydqpZ4o4t8E"
      },
      "source": [
        ""
      ],
      "execution_count": null,
      "outputs": []
    }
  ]
}